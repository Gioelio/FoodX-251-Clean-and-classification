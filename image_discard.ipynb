{
 "cells": [
  {
   "cell_type": "code",
   "execution_count": null,
   "id": "initial_id",
   "metadata": {
    "collapsed": true
   },
   "outputs": [],
   "source": [
    "from misc import load, load_class_labels\n",
    "import handcrafted as hc\n",
    "import bag_of_words as bow\n",
    "\n",
    "dataset_root = \"./dataset/\"\n",
    "\n",
    "train_dir = dataset_root + \"train_set/\"\n",
    "val_dir = dataset_root + \"val_set/\"\n",
    "val_degraded_dir = dataset_root + \"val_set_degraded/\"\n",
    "\n",
    "sample_rate = 0.5\n",
    "train_info = load(dataset_root + 'train_info_dirty.csv', 1, sample_rate)\n",
    "val_info = load(dataset_root + 'val_info.csv')\n",
    "\n",
    "train_image_names = train_info.iloc[:, 0].values\n",
    "val_image_names = val_info.iloc[:, 0].values\n",
    "\n",
    "train_labels = train_info.iloc[:, 1].values\n",
    "val_labels = val_info.iloc[:, 1].values\n",
    "\n",
    "class_labels = load_class_labels(dataset_root + 'classes.txt')"
   ]
  },
  {
   "cell_type": "code",
   "execution_count": null,
   "outputs": [],
   "source": [
    "from multiprocessing.pool import ThreadPool\n",
    "\n",
    "pool = ThreadPool(processes=2)\n",
    "\n",
    "features = pool.apply_async(hc.extract_features, (train_dir, train_image_names,\n",
    "                                                  [(lambda img: hc.lbp(img, distances=[1, 2]))]))\n",
    "handcrafted = pool.apply_async(hc.extract_features, (train_dir, train_image_names,\n",
    "                                                     [(lambda img: hc.sift(img))]))\n",
    "\n",
    "handcrafted = handcrafted.get()"
   ],
   "metadata": {
    "collapsed": false
   },
   "id": "8c2a8e43e575cbe4"
  },
  {
   "cell_type": "code",
   "outputs": [],
   "source": [
    "from misc import unroll_arrays\n",
    "prob = 0.15\n",
    "voc_size = 300\n",
    "\n",
    "unrolled = unroll_arrays(handcrafted, prob)\n",
    "kmeans = bow.fit(unrolled, vocabulary_size=voc_size, verbose=True, n_init=1, max_iter=50)"
   ],
   "metadata": {
    "collapsed": false
   },
   "id": "7ce307e17885970b",
   "execution_count": null
  },
  {
   "cell_type": "code",
   "outputs": [],
   "source": [
    "from bag_of_words import predict\n",
    "from misc import center_scale_columns\n",
    "import numpy as np\n",
    "\n",
    "bag_of_words = predict(kmeans, handcrafted)\n",
    "\n",
    "features = features.get()\n",
    "composed = np.hstack((bag_of_words, features))\n",
    "features_cs = center_scale_columns(composed, train_labels)"
   ],
   "metadata": {
    "collapsed": false
   },
   "id": "ec57578ef01971d0",
   "execution_count": null
  },
  {
   "cell_type": "code",
   "outputs": [],
   "source": [
    "from misc import group_stats\n",
    "feature_mean, feature_cov = group_stats(composed, train_labels, numeric_correction=1e-15)"
   ],
   "metadata": {
    "collapsed": false
   },
   "id": "fc3e21f75270a4b1",
   "execution_count": null
  },
  {
   "cell_type": "code",
   "outputs": [],
   "source": [
    "from image_discard import find_outliers_iter\n",
    "names, distances = find_outliers_iter(composed, train_labels, train_image_names, threshold=15.5, num_iter=50)"
   ],
   "metadata": {
    "collapsed": false
   },
   "id": "c08a6abc5eff9050",
   "execution_count": null
  },
  {
   "cell_type": "code",
   "outputs": [],
   "source": [
    "from image_discard import write_discarded_images\n",
    "write_discarded_images(names, class_labels, \"./discarded/\", train_dir, True)"
   ],
   "metadata": {
    "collapsed": false
   },
   "id": "83db17e6cbb584d0",
   "execution_count": null
  },
  {
   "cell_type": "markdown",
   "source": [],
   "metadata": {
    "collapsed": false
   },
   "id": "ed85e59cf8785e6"
  }
 ],
 "metadata": {
  "kernelspec": {
   "display_name": "Python 3",
   "language": "python",
   "name": "python3"
  },
  "language_info": {
   "codemirror_mode": {
    "name": "ipython",
    "version": 2
   },
   "file_extension": ".py",
   "mimetype": "text/x-python",
   "name": "python",
   "nbconvert_exporter": "python",
   "pygments_lexer": "ipython2",
   "version": "2.7.6"
  }
 },
 "nbformat": 4,
 "nbformat_minor": 5
}
