{
 "cells": [
  {
   "cell_type": "code",
   "execution_count": null,
   "id": "initial_id",
   "metadata": {
    "collapsed": true
   },
   "outputs": [],
   "source": [
    "from misc import load, load_class_labels\n",
    "import handcrafted as hc\n",
    "import bag_of_words as bow\n",
    "\n",
    "dataset_root = \"./dataset/\"\n",
    "\n",
    "train_dir = dataset_root + \"train_set/\"\n",
    "val_dir = dataset_root + \"val_set/\"\n",
    "val_degraded_dir = dataset_root + \"val_set_degraded/\"\n",
    "\n",
    "sample_rate = 0.5\n",
    "train_info = load(dataset_root + 'train_info_dirty.csv', 1, sample_rate)\n",
    "val_info = load(dataset_root + 'val_info.csv')\n",
    "\n",
    "train_image_names = train_info.iloc[:, 0].values\n",
    "val_image_names = val_info.iloc[:, 0].values\n",
    "\n",
    "train_labels = train_info.iloc[:, 1].values\n",
    "val_labels = val_info.iloc[:, 1].values\n",
    "\n",
    "class_labels = load_class_labels(dataset_root + 'classes.txt')"
   ]
  },
  {
   "cell_type": "code",
   "execution_count": null,
   "outputs": [],
   "source": [
    "handcrafted = hc.extract_features(train_dir, train_image_names, [(lambda img: hc.sift(img))])"
   ],
   "metadata": {
    "collapsed": false
   },
   "id": "8c2a8e43e575cbe4"
  },
  {
   "cell_type": "code",
   "outputs": [],
   "source": [
    "from misc import unroll_arrays\n",
    "prob = 0.15\n",
    "voc_size = 100\n",
    "\n",
    "unrolled = unroll_arrays(handcrafted, 0.3)\n",
    "kmeans = bow.fit(unrolled, vocabulary_size=voc_size, verbose=True, n_init=1, max_iter=200)"
   ],
   "metadata": {
    "collapsed": false
   },
   "id": "7ce307e17885970b",
   "execution_count": null
  },
  {
   "cell_type": "code",
   "outputs": [],
   "source": [
    "from bag_of_words import predict\n",
    "bag_of_words = predict(kmeans, handcrafted)"
   ],
   "metadata": {
    "collapsed": false
   },
   "id": "ec57578ef01971d0",
   "execution_count": null
  },
  {
   "cell_type": "code",
   "outputs": [],
   "source": [
    "from misc import group_stats\n",
    "bow_mean, bow_cov = group_stats(bag_of_words, train_labels)"
   ],
   "metadata": {
    "collapsed": false
   },
   "id": "7daf6fd177fc6a00",
   "execution_count": null
  },
  {
   "cell_type": "code",
   "outputs": [],
   "source": [
    "from image_discard import find_outliers_per_class\n",
    "names, distances = find_outliers_per_class(bow_mean, bow_cov, bag_of_words, train_labels, train_image_names)"
   ],
   "metadata": {
    "collapsed": false
   },
   "id": "c08a6abc5eff9050",
   "execution_count": null
  },
  {
   "cell_type": "code",
   "outputs": [],
   "source": [
    "from image_discard import write_discarded_images\n",
    "write_discarded_images(names, class_labels, \"./discarded/\", train_dir)"
   ],
   "metadata": {
    "collapsed": false
   },
   "id": "83db17e6cbb584d0",
   "execution_count": null
  }
 ],
 "metadata": {
  "kernelspec": {
   "display_name": "Python 3",
   "language": "python",
   "name": "python3"
  },
  "language_info": {
   "codemirror_mode": {
    "name": "ipython",
    "version": 2
   },
   "file_extension": ".py",
   "mimetype": "text/x-python",
   "name": "python",
   "nbconvert_exporter": "python",
   "pygments_lexer": "ipython2",
   "version": "2.7.6"
  }
 },
 "nbformat": 4,
 "nbformat_minor": 5
}
