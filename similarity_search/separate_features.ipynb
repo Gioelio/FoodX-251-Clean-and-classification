{
 "cells": [
  {
   "cell_type": "code",
   "execution_count": 1,
   "id": "initial_id",
   "metadata": {
    "collapsed": true,
    "ExecuteTime": {
     "end_time": "2024-01-09T08:25:16.416979674Z",
     "start_time": "2024-01-09T08:25:15.125765239Z"
    }
   },
   "outputs": [],
   "source": [
    "import sys\n",
    "sys.path.append('..')\n",
    "\n",
    "from misc import load, load_class_labels\n",
    "\n",
    "dataset_root = \"../dataset/\"\n",
    "\n",
    "train_dir = dataset_root + \"train_set/\"\n",
    "val_dir = dataset_root + \"val_set/\"\n",
    "val_degraded_dir = dataset_root + \"val_set_degraded/\"\n",
    "val_restores_dir = dataset_root + \"val_set_restored_med_bil/\"\n",
    "\n",
    "sample_rate = 1\n",
    "train_info = load('/home/gabriele/PycharmProjects/Visual/dataset/clean_efficientnet_v2/median/train_info_cleaned_cosine.csv', 1, sample_rate)\n",
    "test_info = load(dataset_root + 'labels/test.csv')\n",
    "val_info = load(dataset_root + 'labels/validation.csv')\n",
    "\n",
    "train_image_names = train_info.iloc[:, 0].values\n",
    "val_image_names = val_info.iloc[:, 0].values\n",
    "test_image_names = test_info.iloc[:, 0].values\n",
    "\n",
    "train_labels = train_info.iloc[:, 1].values\n",
    "val_labels = val_info.iloc[:, 1].values\n",
    "test_labels = test_info.iloc[:, 1].values\n",
    "\n",
    "class_labels = load_class_labels(dataset_root + 'classes.txt')"
   ]
  },
  {
   "cell_type": "code",
   "outputs": [
    {
     "data": {
      "text/plain": "0         train_104651.jpg\n1         train_054035.jpg\n2         train_063177.jpg\n3         train_014879.jpg\n4         train_019877.jpg\n                ...       \n130464    train_034100.jpg\n130465    train_112702.jpg\n130466    train_118399.jpg\n130467    train_095549.jpg\n130468    train_077670.jpg\nName: 1, Length: 130469, dtype: object"
     },
     "execution_count": 20,
     "metadata": {},
     "output_type": "execute_result"
    }
   ],
   "source": [
    "import pandas as pd\n",
    "\n",
    "feature_names = pd.read_csv(\"extracted_features/vitb16_extended_similarity_filenames.csv\", header=None).iloc[:, 1]\n",
    "feature_names"
   ],
   "metadata": {
    "collapsed": false,
    "ExecuteTime": {
     "end_time": "2024-01-09T08:37:14.317128761Z",
     "start_time": "2024-01-09T08:37:14.206659104Z"
    }
   },
   "id": "f3ff0967ef799149",
   "execution_count": 20
  },
  {
   "cell_type": "code",
   "outputs": [],
   "source": [
    "mask = feature_names.isin(test_image_names)"
   ],
   "metadata": {
    "collapsed": false,
    "ExecuteTime": {
     "end_time": "2024-01-09T08:37:30.273827051Z",
     "start_time": "2024-01-09T08:37:30.225743832Z"
    }
   },
   "id": "38976679ddae5192",
   "execution_count": 21
  },
  {
   "cell_type": "code",
   "outputs": [],
   "source": [
    "import numpy as np\n",
    "features = np.load(\"extracted_features/vitb16_extended_similarity.npy\")\n",
    "\n",
    "test_features = features[mask]\n",
    "test_feature_names = feature_names[mask]"
   ],
   "metadata": {
    "collapsed": false,
    "ExecuteTime": {
     "end_time": "2024-01-09T08:37:35.519620019Z",
     "start_time": "2024-01-09T08:37:30.853531293Z"
    }
   },
   "id": "3556c866e748a184",
   "execution_count": 22
  },
  {
   "cell_type": "code",
   "outputs": [
    {
     "data": {
      "text/plain": "39        val_006589.jpg\n60        val_004413.jpg\n65        val_010221.jpg\n80        val_001155.jpg\n120       val_008191.jpg\n               ...      \n130392    val_002480.jpg\n130397    val_000155.jpg\n130410    val_001906.jpg\n130456    val_003448.jpg\n130462    val_009181.jpg\nName: 1, Length: 11994, dtype: object"
     },
     "execution_count": 23,
     "metadata": {},
     "output_type": "execute_result"
    }
   ],
   "source": [
    "test_feature_names"
   ],
   "metadata": {
    "collapsed": false,
    "ExecuteTime": {
     "end_time": "2024-01-09T08:37:36.993399704Z",
     "start_time": "2024-01-09T08:37:36.982271913Z"
    }
   },
   "id": "a55574232ce867da",
   "execution_count": 23
  },
  {
   "cell_type": "code",
   "outputs": [],
   "source": [
    "np.save('extracted_features/vitb16_extended_similarity_test', test_features)\n",
    "df = pd.DataFrame(test_feature_names)\n",
    "df.to_csv('extracted_features/vitb16_extended_similarity_test_filenames.csv', header=None)"
   ],
   "metadata": {
    "collapsed": false,
    "ExecuteTime": {
     "end_time": "2024-01-09T08:38:02.287409129Z",
     "start_time": "2024-01-09T08:38:02.212710159Z"
    }
   },
   "id": "5a6bb335da8d507d",
   "execution_count": 24
  },
  {
   "cell_type": "code",
   "outputs": [],
   "source": [],
   "metadata": {
    "collapsed": false
   },
   "id": "d7699284bb8f67d"
  }
 ],
 "metadata": {
  "kernelspec": {
   "display_name": "Python 3",
   "language": "python",
   "name": "python3"
  },
  "language_info": {
   "codemirror_mode": {
    "name": "ipython",
    "version": 2
   },
   "file_extension": ".py",
   "mimetype": "text/x-python",
   "name": "python",
   "nbconvert_exporter": "python",
   "pygments_lexer": "ipython2",
   "version": "2.7.6"
  }
 },
 "nbformat": 4,
 "nbformat_minor": 5
}
