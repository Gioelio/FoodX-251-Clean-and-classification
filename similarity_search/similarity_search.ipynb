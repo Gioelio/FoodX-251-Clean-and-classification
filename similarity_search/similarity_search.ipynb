{
 "cells": [
  {
   "cell_type": "code",
   "execution_count": null,
   "id": "initial_id",
   "metadata": {
    "collapsed": true
   },
   "outputs": [],
   "source": [
    "dataset_root = \"../dataset/\"\n",
    "images_dir = dataset_root + \"complete/\"\n",
    "features_dir = dataset_root + 'handcrafted/'\n",
    "\n",
    "recompute_features = False\n",
    "classify_images = True"
   ]
  },
  {
   "cell_type": "code",
   "execution_count": null,
   "id": "cc0b9ed8e05fb98a",
   "metadata": {
    "collapsed": false
   },
   "outputs": [],
   "source": [
    "import sys\n",
    "import cv2 as cv\n",
    "import matplotlib.pyplot as plt\n",
    "import os\n",
    "from tensorflow import keras\n",
    "import pandas as pd\n",
    "sys.path.append(\"..\")\n",
    "\n",
    "from keras.applications.efficientnet_v2 import EfficientNetV2B0, preprocess_input\n",
    "from feature_extraction import build_feature_extractor, cut_layer_of_model, unroll_layers\n",
    "from similarity_search.neural_similarity_search import extract_features, order_prediction\n",
    "from handcrafted_extraction import load_all_features, load_features\n",
    "\n",
    "model = keras.models.load_model('../classification/tuned_models/efficientnet_v2_cosine')\n",
    "\n",
    "def builder():\n",
    "    model = keras.models.load_model('../classification/tuned_models/efficientnet_v2_cosine')\n",
    "    return keras.Sequential(model.layers[:-1])\n",
    "    #return build_feature_extractor(EfficientNetV2B0, 'top_dropout')"
   ]
  },
  {
   "cell_type": "code",
   "execution_count": null,
   "id": "594275bbe6f96ffe",
   "metadata": {
    "collapsed": false
   },
   "outputs": [],
   "source": [
    "batch_size = 128\n",
    "image_size = (224, 224)\n",
    "\n",
    "if recompute_features:\n",
    "    extracted_features, filenames = extract_features(builder, images_dir, batch_size=batch_size, image_size=image_size, rebuild_interval=50, preprocessing=preprocess_input)\n",
    "    os.makedirs(extracted_features_root, exist_ok=True)\n",
    "    names_df = pd.DataFrame({'filename': filenames})\n",
    "    names_df.to_csv(filenames_path, header=None)\n",
    "    np.save(extracted_features_path, extracted_features)"
   ]
  },
  {
   "cell_type": "code",
   "execution_count": null,
   "id": "a89b3b3f594794d3",
   "metadata": {
    "collapsed": false
   },
   "outputs": [],
   "source": [
    "if recompute_features:\n",
    "    "
   ]
  },
  {
   "cell_type": "markdown",
   "id": "e5d50c98",
   "metadata": {},
   "source": [
    "## Classify images for similarity search"
   ]
  },
  {
   "cell_type": "code",
   "execution_count": null,
   "id": "a4d830d4",
   "metadata": {},
   "outputs": [],
   "source": [
    "model = keras.models.load_model('../classification/tuned_models/efficientnet_v2_cosine')"
   ]
  },
  {
   "cell_type": "code",
   "execution_count": null,
   "id": "22dee842",
   "metadata": {},
   "outputs": [],
   "source": [
    "from misc import load, load_class_labels\n",
    "from data_loader import data_loader\n",
    "from tqdm import tqdm\n",
    "\n",
    "dataset_root = \"../dataset/\"\n",
    "labels_path = dataset_root + 'labels/'\n",
    "\n",
    "complete_dir = dataset_root + \"complete/\"\n",
    "\n",
    "train_info = load(labels_path + 'train.csv', 1, 1)\n",
    "val_info = load(labels_path + 'validation.csv')\n",
    "test_info = load(labels_path + 'test.csv')\n",
    "all_info = pd.concat([train_info, val_info], axis=0)\n",
    "all_info = pd.concat([all_info, test_info], axis=0)\n",
    "\n",
    "dl = data_loader(all_info, complete_dir, 400, (224, 224));"
   ]
  },
  {
   "cell_type": "code",
   "execution_count": null,
   "id": "d745c8e7",
   "metadata": {},
   "outputs": [],
   "source": [
    "all_filenames = []\n",
    "all_labels = []\n",
    "all_confidence = []\n",
    "\n",
    "significance_threshold = 0.9\n",
    "\n",
    "if classify_images:\n",
    "    for batch in tqdm(range(0, dl.number_of_batch())):\n",
    "        images, _, filenames = dl.get_batch(batch, preprocessing=preprocess_input);\n",
    "        predictions = model.predict(images, verbose=0)\n",
    "        for filename, prediction in zip(filenames, predictions):\n",
    "            prediction, ordered_classes = order_prediction(prediction, significance_threshold)\n",
    "\n",
    "            all_filenames += [filename]\n",
    "            all_confidence += [prediction]\n",
    "            all_labels += [ordered_classes]\n",
    "\n",
    "    df = pd.DataFrame({'filenames': all_filenames, 'labels': np.array(all_labels), 'confidence': np.array(all_confidence)})\n",
    "    df.to_pickle('./extracted_features/predictions.pickle')\n"
   ]
  }
 ],
 "metadata": {
  "kernelspec": {
   "display_name": "Python 3",
   "language": "python",
   "name": "python3"
  },
  "language_info": {
   "codemirror_mode": {
    "name": "ipython",
    "version": 3
   },
   "file_extension": ".py",
   "mimetype": "text/x-python",
   "name": "python",
   "nbconvert_exporter": "python",
   "pygments_lexer": "ipython3",
   "version": "3.11.2"
  }
 },
 "nbformat": 4,
 "nbformat_minor": 5
}
