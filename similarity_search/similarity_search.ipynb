{
 "cells": [
  {
   "cell_type": "code",
   "execution_count": 1,
   "id": "initial_id",
   "metadata": {
    "collapsed": true
   },
   "outputs": [],
   "source": [
    "dataset_root = \"../dataset/\"\n",
    "images_dir = dataset_root + \"complete/\"\n",
    "features_dir = dataset_root + 'handcrafted/'\n",
    "\n",
    "recompute_features = True\n",
    "classify_images = False"
   ]
  },
  {
   "cell_type": "code",
   "execution_count": 2,
   "id": "cc0b9ed8e05fb98a",
   "metadata": {
    "collapsed": false
   },
   "outputs": [
    {
     "name": "stderr",
     "output_type": "stream",
     "text": [
      "2024-01-11 17:28:46.220359: E external/local_xla/xla/stream_executor/cuda/cuda_dnn.cc:9261] Unable to register cuDNN factory: Attempting to register factory for plugin cuDNN when one has already been registered\n",
      "2024-01-11 17:28:46.220391: E external/local_xla/xla/stream_executor/cuda/cuda_fft.cc:607] Unable to register cuFFT factory: Attempting to register factory for plugin cuFFT when one has already been registered\n",
      "2024-01-11 17:28:46.221437: E external/local_xla/xla/stream_executor/cuda/cuda_blas.cc:1515] Unable to register cuBLAS factory: Attempting to register factory for plugin cuBLAS when one has already been registered\n",
      "2024-01-11 17:28:46.228523: I tensorflow/core/platform/cpu_feature_guard.cc:182] This TensorFlow binary is optimized to use available CPU instructions in performance-critical operations.\n",
      "To enable the following instructions: AVX2 FMA, in other operations, rebuild TensorFlow with the appropriate compiler flags.\n",
      "2024-01-11 17:28:47.075026: W tensorflow/compiler/tf2tensorrt/utils/py_utils.cc:38] TF-TRT Warning: Could not find TensorRT\n",
      "2024-01-11 17:28:48.135432: I external/local_xla/xla/stream_executor/cuda/cuda_executor.cc:901] successful NUMA node read from SysFS had negative value (-1), but there must be at least one NUMA node, so returning NUMA node zero. See more at https://github.com/torvalds/linux/blob/v6.0/Documentation/ABI/testing/sysfs-bus-pci#L344-L355\n",
      "2024-01-11 17:28:48.157778: I external/local_xla/xla/stream_executor/cuda/cuda_executor.cc:901] successful NUMA node read from SysFS had negative value (-1), but there must be at least one NUMA node, so returning NUMA node zero. See more at https://github.com/torvalds/linux/blob/v6.0/Documentation/ABI/testing/sysfs-bus-pci#L344-L355\n",
      "2024-01-11 17:28:48.157965: I external/local_xla/xla/stream_executor/cuda/cuda_executor.cc:901] successful NUMA node read from SysFS had negative value (-1), but there must be at least one NUMA node, so returning NUMA node zero. See more at https://github.com/torvalds/linux/blob/v6.0/Documentation/ABI/testing/sysfs-bus-pci#L344-L355\n",
      "2024-01-11 17:28:48.158947: I external/local_xla/xla/stream_executor/cuda/cuda_executor.cc:901] successful NUMA node read from SysFS had negative value (-1), but there must be at least one NUMA node, so returning NUMA node zero. See more at https://github.com/torvalds/linux/blob/v6.0/Documentation/ABI/testing/sysfs-bus-pci#L344-L355\n",
      "2024-01-11 17:28:48.159244: I external/local_xla/xla/stream_executor/cuda/cuda_executor.cc:901] successful NUMA node read from SysFS had negative value (-1), but there must be at least one NUMA node, so returning NUMA node zero. See more at https://github.com/torvalds/linux/blob/v6.0/Documentation/ABI/testing/sysfs-bus-pci#L344-L355\n",
      "2024-01-11 17:28:48.159442: I external/local_xla/xla/stream_executor/cuda/cuda_executor.cc:901] successful NUMA node read from SysFS had negative value (-1), but there must be at least one NUMA node, so returning NUMA node zero. See more at https://github.com/torvalds/linux/blob/v6.0/Documentation/ABI/testing/sysfs-bus-pci#L344-L355\n",
      "2024-01-11 17:28:48.211099: I external/local_xla/xla/stream_executor/cuda/cuda_executor.cc:901] successful NUMA node read from SysFS had negative value (-1), but there must be at least one NUMA node, so returning NUMA node zero. See more at https://github.com/torvalds/linux/blob/v6.0/Documentation/ABI/testing/sysfs-bus-pci#L344-L355\n",
      "2024-01-11 17:28:48.211285: I external/local_xla/xla/stream_executor/cuda/cuda_executor.cc:901] successful NUMA node read from SysFS had negative value (-1), but there must be at least one NUMA node, so returning NUMA node zero. See more at https://github.com/torvalds/linux/blob/v6.0/Documentation/ABI/testing/sysfs-bus-pci#L344-L355\n",
      "2024-01-11 17:28:48.211446: I external/local_xla/xla/stream_executor/cuda/cuda_executor.cc:901] successful NUMA node read from SysFS had negative value (-1), but there must be at least one NUMA node, so returning NUMA node zero. See more at https://github.com/torvalds/linux/blob/v6.0/Documentation/ABI/testing/sysfs-bus-pci#L344-L355\n",
      "2024-01-11 17:28:48.211557: I tensorflow/core/common_runtime/gpu/gpu_device.cc:1929] Created device /job:localhost/replica:0/task:0/device:GPU:0 with 2911 MB memory:  -> device: 0, name: NVIDIA GeForce GTX 970, pci bus id: 0000:01:00.0, compute capability: 5.2\n"
     ]
    }
   ],
   "source": [
    "import sys\n",
    "import cv2 as cv\n",
    "import matplotlib.pyplot as plt\n",
    "import os\n",
    "from tensorflow import keras\n",
    "import pandas as pd\n",
    "import numpy as np\n",
    "sys.path.append(\"..\")\n",
    "\n",
    "from keras.applications.efficientnet_v2 import EfficientNetV2B0, preprocess_input\n",
    "from feature_extraction import build_feature_extractor \n",
    "from similarity_search.neural_similarity_search import extract_features, order_prediction\n",
    "from handcrafted_extraction import load_all_features, load_features\n",
    "\n",
    "\n",
    "model = keras.models.load_model('../classification/tuned_models/efficientnet_v2_noise_extended')\n",
    "extracted_features_root = \"./extracted_features/\"\n",
    "\n",
    "def builder_cosine():\n",
    "    model = keras.models.load_model('../classification/tuned_models/efficientnet_v2_cosine')\n",
    "    return keras.Sequential(model.layers[:-1])\n",
    "    #return build_feature_extractor(EfficientNetV2B0, 'top_dropout')\n",
    "\n",
    "def builder_base():\n",
    "    return build_feature_extractor(EfficientNetV2B0, 'top_dropout')"
   ]
  },
  {
   "cell_type": "code",
   "execution_count": 3,
   "id": "594275bbe6f96ffe",
   "metadata": {
    "collapsed": false
   },
   "outputs": [
    {
     "name": "stderr",
     "output_type": "stream",
     "text": [
      "  0%|          | 0/4078 [00:00<?, ?it/s]2024-01-11 17:29:02.513858: I external/local_tsl/tsl/platform/default/subprocess.cc:304] Start cannot spawn child process: No such file or directory\n",
      "2024-01-11 17:29:02.875455: I external/local_xla/xla/stream_executor/cuda/cuda_dnn.cc:454] Loaded cuDNN version 8904\n",
      "2024-01-11 17:29:02.951544: I external/local_tsl/tsl/platform/default/subprocess.cc:304] Start cannot spawn child process: No such file or directory\n",
      "100%|██████████| 4078/4078 [24:28<00:00,  2.78it/s]  \n"
     ]
    }
   ],
   "source": [
    "batch_size = 32 \n",
    "image_size = (224, 224)\n",
    "\n",
    "def align_features(source_name, target_name, data):\n",
    "    #aligning all features order to same name order\n",
    "    order = [target_name.tolist().index(name) for name in source_name]\n",
    "    data = data[order]\n",
    "    return data, order\n",
    "\n",
    "def check_name_aligned(names, other_names):\n",
    "    aligned = True\n",
    "    for (n1, n2) in zip(names, other_names):\n",
    "        if n1 != n2:\n",
    "            aligned = False\n",
    "    return aligned\n",
    "\n",
    "def compute_features(model, filename):\n",
    "    extracted_features, filenames = extract_features(model, images_dir, batch_size=batch_size, image_size=image_size, rebuild_interval=50, preprocessing=preprocess_input)\n",
    "    os.makedirs(extracted_features_root, exist_ok=True)\n",
    "    names_df = pd.DataFrame({'filename': filenames})\n",
    "    names_df.to_csv(extracted_features_root + filename + '_filenames.csv', header=None)\n",
    "    np.save(extracted_features_root + filename, extracted_features)\n",
    "\n",
    "if recompute_features:\n",
    "    #compute_features(builder_cosine, 'efficient_net_not_tuned_similarity');\n",
    "\n",
    "    compute_features(builder_base, 'efficient_net_not_tuned_similarity')\n",
    "    \"\"\"\n",
    "    names_tuned = pd.read_csv(extracted_features_root + 'efficient_net_similarity_filenames.csv', header=None).iloc[:, 1].values\n",
    "    names_not_tuned = pd.read_csv(extracted_features_root + 'efficient_net_not_tuned_similarity_filenames.csv', header=None).iloc[:, 1].values\n",
    "    data_not_tuned = np.load(extracted_features_root + 'efficient_net_not_tuned_similarity.npy')\n",
    "    \n",
    "    names_df = pd.DataFrame({'filename': names_tuned})\n",
    "    names_df.to_csv(extracted_features_root + 'common_filenames.csv', header = None)\n",
    "\n",
    "    if check_name_aligned(names_tuned, names_not_tuned):\n",
    "        print(\"need to align data with a one common filenames representation\")\n",
    "        data_not_tuned, order = align_features(names_not_tuned, names_tuned, data_not_tuned)\n",
    "        names_not_tuned = names_not_tuned[order]\n",
    "    \"\"\"\n",
    "    "
   ]
  },
  {
   "cell_type": "markdown",
   "id": "e5d50c98",
   "metadata": {},
   "source": [
    "## Classify images for similarity search"
   ]
  },
  {
   "cell_type": "code",
   "execution_count": null,
   "id": "22dee842",
   "metadata": {},
   "outputs": [],
   "source": [
    "from misc import load, load_class_labels\n",
    "from data_loader import data_loader\n",
    "from tqdm import tqdm\n",
    "\n",
    "dataset_root = \"../dataset/\"\n",
    "labels_path = dataset_root + 'labels/'\n",
    "\n",
    "complete_dir = dataset_root + \"complete/\"\n",
    "\n",
    "train_info = load(labels_path + 'train.csv', 1, 1)\n",
    "val_info = load(labels_path + 'validation.csv')\n",
    "test_info = load(labels_path + 'test.csv')\n",
    "all_info = pd.concat([train_info, val_info], axis=0)\n",
    "all_info = pd.concat([all_info, test_info], axis=0)\n",
    "\n",
    "dl = data_loader(all_info, complete_dir, 400, (224, 224));"
   ]
  },
  {
   "cell_type": "code",
   "execution_count": null,
   "id": "5693aae0",
   "metadata": {},
   "outputs": [],
   "source": [
    "import os\n",
    "os.environ[\"CUDA_VISIBLE_DEVICES\"] = \"-1\"\n"
   ]
  },
  {
   "cell_type": "code",
   "execution_count": null,
   "id": "d745c8e7",
   "metadata": {},
   "outputs": [],
   "source": [
    "all_filenames = []\n",
    "all_labels = []\n",
    "all_confidence = []\n",
    "\n",
    "significance_threshold = 0.9\n",
    "\n",
    "if classify_images:\n",
    "    for batch in tqdm(range(0, dl.number_of_batch())):\n",
    "        images, _, filenames = dl.get_batch(batch, preprocessing=preprocess_input);\n",
    "        predictions = model.predict(images, verbose=0, device='cpu')\n",
    "        for filename, prediction in zip(filenames, predictions):\n",
    "            prediction, ordered_classes = order_prediction(prediction, significance_threshold)\n",
    "\n",
    "            all_filenames += [filename]\n",
    "            all_confidence += [prediction]\n",
    "            all_labels += [ordered_classes]\n",
    "\n",
    "    df = pd.DataFrame({'filenames': all_filenames, 'labels': np.array(all_labels), 'confidence': np.array(all_confidence)})\n",
    "    df.to_pickle('./extracted_features/predictions.pickle')\n"
   ]
  }
 ],
 "metadata": {
  "kernelspec": {
   "display_name": "Python 3",
   "language": "python",
   "name": "python3"
  },
  "language_info": {
   "codemirror_mode": {
    "name": "ipython",
    "version": 3
   },
   "file_extension": ".py",
   "mimetype": "text/x-python",
   "name": "python",
   "nbconvert_exporter": "python",
   "pygments_lexer": "ipython3",
   "version": "3.11.2"
  }
 },
 "nbformat": 4,
 "nbformat_minor": 5
}
