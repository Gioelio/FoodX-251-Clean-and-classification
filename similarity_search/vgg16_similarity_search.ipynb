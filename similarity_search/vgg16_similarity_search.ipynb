{
 "cells": [
  {
   "cell_type": "code",
   "execution_count": null,
   "id": "initial_id",
   "metadata": {
    "collapsed": true
   },
   "outputs": [],
   "source": [
    "dataset_root = \"./dataset/\"\n",
    "images_dir = dataset_root + \"complete/\""
   ]
  },
  {
   "cell_type": "code",
   "outputs": [],
   "source": [
    "from keras.applications.vgg16 import VGG16, preprocess_input\n",
    "from feature_extraction import build_feature_extractor\n",
    "from similarity_search.neural_similarity_search import extract_features\n",
    "\n",
    "def builder():\n",
    "    return build_feature_extractor(VGG16, 'fc1')"
   ],
   "metadata": {
    "collapsed": false
   },
   "id": "cc0b9ed8e05fb98a",
   "execution_count": null
  },
  {
   "cell_type": "code",
   "outputs": [],
   "source": [
    "batch_size = 128\n",
    "image_size = (224, 224)\n",
    "\n",
    "extracted_features, filenames = extract_features(builder, images_dir, batch_size=batch_size, image_size=image_size, rebuild_interval=50, preprocessing=preprocess_input)"
   ],
   "metadata": {
    "collapsed": false
   },
   "id": "594275bbe6f96ffe",
   "execution_count": null
  },
  {
   "cell_type": "code",
   "outputs": [],
   "source": [
    "import os\n",
    "import numpy as np\n",
    "import pandas as pd\n",
    "extracted_features_root = \"./extracted_features/\"\n",
    "extracted_features_path = extracted_features_root + 'vgg16_similarity'\n",
    "filenames_path = extracted_features_root + 'vgg16_similarity_filenames.csv'"
   ],
   "metadata": {
    "collapsed": false
   },
   "id": "e4de83248d1ceb0a",
   "execution_count": null
  },
  {
   "cell_type": "code",
   "outputs": [],
   "source": [
    "os.makedirs(extracted_features_root, exist_ok=True)\n",
    "names_df = pd.DataFrame({'filename': filenames})\n",
    "names_df.to_csv(filenames_path, header=None)\n",
    "np.save(extracted_features_path, extracted_features)"
   ],
   "metadata": {
    "collapsed": false
   },
   "id": "a89b3b3f594794d3",
   "execution_count": null
  },
  {
   "cell_type": "code",
   "outputs": [],
   "source": [
    "extracted_features = np.load(extracted_features_path + '.npy')\n",
    "filenames = pd.read_csv(filenames_path, header=None).iloc[:, 1].values"
   ],
   "metadata": {
    "collapsed": false
   },
   "id": "8a196d3af5cc3158",
   "execution_count": null
  },
  {
   "cell_type": "code",
   "outputs": [],
   "source": [
    "from similarity_search.neural_similarity_search import find_similar\n",
    "query_path = \"Macarons.jpg\"\n",
    "most_similar_filenames, distances = find_similar(build_feature_extractor(VGG16, 'fc1'), query_path, extracted_features, filenames, preprocess_input)"
   ],
   "metadata": {
    "collapsed": false
   },
   "id": "3fb50d305727b6a0",
   "execution_count": null
  },
  {
   "cell_type": "markdown",
   "source": [],
   "metadata": {
    "collapsed": false
   },
   "id": "c5f75a61ce0bc0f4"
  },
  {
   "cell_type": "code",
   "outputs": [],
   "source": [
    "import cv2 as cv\n",
    "cv.destroyAllWindows()\n",
    "for image_name in most_similar_filenames:\n",
    "    im = cv.imread(images_dir + image_name)\n",
    "    cv.imshow(image_name, im)\n",
    "    cv.waitKey()"
   ],
   "metadata": {
    "collapsed": false
   },
   "id": "987ab86af02b4229",
   "execution_count": null
  },
  {
   "cell_type": "code",
   "outputs": [],
   "source": [
    "cv.destroyAllWindows()"
   ],
   "metadata": {
    "collapsed": false
   },
   "id": "54f25c6310b6a05d",
   "execution_count": null
  }
 ],
 "metadata": {
  "kernelspec": {
   "display_name": "Python 3",
   "language": "python",
   "name": "python3"
  },
  "language_info": {
   "codemirror_mode": {
    "name": "ipython",
    "version": 2
   },
   "file_extension": ".py",
   "mimetype": "text/x-python",
   "name": "python",
   "nbconvert_exporter": "python",
   "pygments_lexer": "ipython2",
   "version": "2.7.6"
  }
 },
 "nbformat": 4,
 "nbformat_minor": 5
}
