{
 "cells": [
  {
   "cell_type": "code",
   "execution_count": null,
   "id": "initial_id",
   "metadata": {
    "collapsed": true
   },
   "outputs": [],
   "source": [
    "degraded_dir = \"../dataset/val_set_degraded/\"\n",
    "restored_dir = \"../dataset/val_set_restored_limited/\""
   ]
  },
  {
   "cell_type": "code",
   "outputs": [],
   "source": [
    "from restoration.image_quality import build_restored_dataset\n",
    "build_restored_dataset(degraded_dir, restored_dir)"
   ],
   "metadata": {
    "collapsed": false
   },
   "id": "b8a7bee31d76604d",
   "execution_count": null
  }
 ],
 "metadata": {
  "kernelspec": {
   "display_name": "Python 3",
   "language": "python",
   "name": "python3"
  },
  "language_info": {
   "codemirror_mode": {
    "name": "ipython",
    "version": 2
   },
   "file_extension": ".py",
   "mimetype": "text/x-python",
   "name": "python",
   "nbconvert_exporter": "python",
   "pygments_lexer": "ipython2",
   "version": "2.7.6"
  }
 },
 "nbformat": 4,
 "nbformat_minor": 5
}
