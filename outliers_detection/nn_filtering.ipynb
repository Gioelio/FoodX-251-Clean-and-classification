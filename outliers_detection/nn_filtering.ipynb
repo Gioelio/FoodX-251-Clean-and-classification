{
 "cells": [
  {
   "cell_type": "code",
   "execution_count": 1,
   "metadata": {
    "_cell_guid": "b1076dfc-b9ad-4769-8c92-a6c4dae69d19",
    "_uuid": "8f2839f25d086af736a60e9eeb907d3b93b6e0e5",
    "execution": {
     "iopub.execute_input": "2023-12-22T14:44:15.908543Z",
     "iopub.status.busy": "2023-12-22T14:44:15.908129Z",
     "iopub.status.idle": "2023-12-22T14:44:27.933980Z",
     "shell.execute_reply": "2023-12-22T14:44:27.933089Z",
     "shell.execute_reply.started": "2023-12-22T14:44:15.908513Z"
    },
    "trusted": true,
    "ExecuteTime": {
     "end_time": "2023-12-27T07:43:27.775473323Z",
     "start_time": "2023-12-27T07:43:27.725120877Z"
    }
   },
   "outputs": [],
   "source": [
    "import numpy as np\n",
    "import sys"
   ]
  },
  {
   "cell_type": "code",
   "execution_count": 2,
   "metadata": {
    "ExecuteTime": {
     "end_time": "2023-12-27T07:43:28.136794988Z",
     "start_time": "2023-12-27T07:43:27.776373239Z"
    }
   },
   "outputs": [],
   "source": [
    "from misc import load, load_class_labels\n",
    "\n",
    "dataset_root = \"./dataset/\"\n",
    "\n",
    "train_dir = dataset_root + \"train_set/\"\n",
    "val_dir = dataset_root + \"val_set/\"\n",
    "val_degraded_dir = dataset_root + \"val_set_degraded/\"\n",
    "\n",
    "sample_rate = 1\n",
    "train_info = load(dataset_root + 'labels/train.csv', 1, sample_rate)\n",
    "val_info = load(dataset_root + 'labels/validation.csv')\n",
    "test_info = load(dataset_root + 'labels/test.csv')\n",
    "\n",
    "train_image_names = train_info.iloc[:, 0].values\n",
    "val_image_names = val_info.iloc[:, 0].values\n",
    "\n",
    "train_labels = train_info.iloc[:, 1].values\n",
    "val_labels = val_info.iloc[:, 1].values\n",
    "\n",
    "class_labels = load_class_labels(dataset_root + 'classes.txt')"
   ]
  },
  {
   "cell_type": "code",
   "execution_count": 3,
   "metadata": {
    "execution": {
     "iopub.execute_input": "2023-12-22T14:44:27.946522Z",
     "iopub.status.busy": "2023-12-22T14:44:27.946135Z",
     "iopub.status.idle": "2023-12-22T14:47:58.595309Z",
     "shell.execute_reply": "2023-12-22T14:47:58.594393Z",
     "shell.execute_reply.started": "2023-12-22T14:44:27.946486Z"
    },
    "trusted": true,
    "ExecuteTime": {
     "end_time": "2023-12-27T07:43:36.412333466Z",
     "start_time": "2023-12-27T07:43:29.964986452Z"
    }
   },
   "outputs": [
    {
     "name": "stderr",
     "output_type": "stream",
     "text": [
      "2023-12-27 08:43:30.787732: E external/local_xla/xla/stream_executor/cuda/cuda_dnn.cc:9261] Unable to register cuDNN factory: Attempting to register factory for plugin cuDNN when one has already been registered\n",
      "2023-12-27 08:43:30.787787: E external/local_xla/xla/stream_executor/cuda/cuda_fft.cc:607] Unable to register cuFFT factory: Attempting to register factory for plugin cuFFT when one has already been registered\n",
      "2023-12-27 08:43:30.806218: E external/local_xla/xla/stream_executor/cuda/cuda_blas.cc:1515] Unable to register cuBLAS factory: Attempting to register factory for plugin cuBLAS when one has already been registered\n",
      "2023-12-27 08:43:30.896175: I tensorflow/core/platform/cpu_feature_guard.cc:182] This TensorFlow binary is optimized to use available CPU instructions in performance-critical operations.\n",
      "To enable the following instructions: AVX2 FMA, in other operations, rebuild TensorFlow with the appropriate compiler flags.\n",
      "2023-12-27 08:43:31.885936: W tensorflow/compiler/tf2tensorrt/utils/py_utils.cc:38] TF-TRT Warning: Could not find TensorRT\n",
      "2023-12-27 08:43:33.285002: I external/local_xla/xla/stream_executor/cuda/cuda_executor.cc:901] successful NUMA node read from SysFS had negative value (-1), but there must be at least one NUMA node, so returning NUMA node zero. See more at https://github.com/torvalds/linux/blob/v6.0/Documentation/ABI/testing/sysfs-bus-pci#L344-L355\n",
      "2023-12-27 08:43:33.457057: I external/local_xla/xla/stream_executor/cuda/cuda_executor.cc:901] successful NUMA node read from SysFS had negative value (-1), but there must be at least one NUMA node, so returning NUMA node zero. See more at https://github.com/torvalds/linux/blob/v6.0/Documentation/ABI/testing/sysfs-bus-pci#L344-L355\n",
      "2023-12-27 08:43:33.457255: I external/local_xla/xla/stream_executor/cuda/cuda_executor.cc:901] successful NUMA node read from SysFS had negative value (-1), but there must be at least one NUMA node, so returning NUMA node zero. See more at https://github.com/torvalds/linux/blob/v6.0/Documentation/ABI/testing/sysfs-bus-pci#L344-L355\n",
      "2023-12-27 08:43:33.458262: I external/local_xla/xla/stream_executor/cuda/cuda_executor.cc:901] successful NUMA node read from SysFS had negative value (-1), but there must be at least one NUMA node, so returning NUMA node zero. See more at https://github.com/torvalds/linux/blob/v6.0/Documentation/ABI/testing/sysfs-bus-pci#L344-L355\n",
      "2023-12-27 08:43:33.458466: I external/local_xla/xla/stream_executor/cuda/cuda_executor.cc:901] successful NUMA node read from SysFS had negative value (-1), but there must be at least one NUMA node, so returning NUMA node zero. See more at https://github.com/torvalds/linux/blob/v6.0/Documentation/ABI/testing/sysfs-bus-pci#L344-L355\n",
      "2023-12-27 08:43:33.458627: I external/local_xla/xla/stream_executor/cuda/cuda_executor.cc:901] successful NUMA node read from SysFS had negative value (-1), but there must be at least one NUMA node, so returning NUMA node zero. See more at https://github.com/torvalds/linux/blob/v6.0/Documentation/ABI/testing/sysfs-bus-pci#L344-L355\n",
      "2023-12-27 08:43:34.759426: I external/local_xla/xla/stream_executor/cuda/cuda_executor.cc:901] successful NUMA node read from SysFS had negative value (-1), but there must be at least one NUMA node, so returning NUMA node zero. See more at https://github.com/torvalds/linux/blob/v6.0/Documentation/ABI/testing/sysfs-bus-pci#L344-L355\n",
      "2023-12-27 08:43:34.759623: I external/local_xla/xla/stream_executor/cuda/cuda_executor.cc:901] successful NUMA node read from SysFS had negative value (-1), but there must be at least one NUMA node, so returning NUMA node zero. See more at https://github.com/torvalds/linux/blob/v6.0/Documentation/ABI/testing/sysfs-bus-pci#L344-L355\n",
      "2023-12-27 08:43:34.759794: I external/local_xla/xla/stream_executor/cuda/cuda_executor.cc:901] successful NUMA node read from SysFS had negative value (-1), but there must be at least one NUMA node, so returning NUMA node zero. See more at https://github.com/torvalds/linux/blob/v6.0/Documentation/ABI/testing/sysfs-bus-pci#L344-L355\n",
      "2023-12-27 08:43:34.760096: I tensorflow/core/common_runtime/gpu/gpu_device.cc:1929] Created device /job:localhost/replica:0/task:0/device:GPU:0 with 2653 MB memory:  -> device: 0, name: NVIDIA GeForce GTX 980, pci bus id: 0000:05:00.0, compute capability: 5.2\n"
     ]
    }
   ],
   "source": [
    "from nn_filter import NN_filter\n",
    "\n",
    "filter = NN_filter(train_info, train_dir, 'efficient_net', batch_size=25)"
   ]
  },
  {
   "cell_type": "code",
   "execution_count": 4,
   "metadata": {
    "execution": {
     "iopub.execute_input": "2023-12-22T14:48:34.115034Z",
     "iopub.status.busy": "2023-12-22T14:48:34.114753Z",
     "iopub.status.idle": "2023-12-22T14:50:55.191542Z",
     "shell.execute_reply": "2023-12-22T14:50:55.189793Z",
     "shell.execute_reply.started": "2023-12-22T14:48:34.115011Z"
    },
    "trusted": true,
    "ExecuteTime": {
     "end_time": "2023-12-27T07:57:35.816840760Z",
     "start_time": "2023-12-27T07:43:37.135466246Z"
    }
   },
   "outputs": [
    {
     "name": "stderr",
     "output_type": "stream",
     "text": [
      "  0%|          | 0/3791 [00:00<?, ?it/s]2023-12-27 08:43:39.345426: I external/local_xla/xla/stream_executor/cuda/cuda_dnn.cc:454] Loaded cuDNN version 8904\n",
      "100%|██████████| 3791/3791 [13:58<00:00,  4.52it/s] \n"
     ]
    }
   ],
   "source": [
    "features, labels, image_names = filter.fit_train()"
   ]
  },
  {
   "cell_type": "markdown",
   "metadata": {},
   "source": [
    "## Extract validation from trainig set"
   ]
  },
  {
   "cell_type": "code",
   "execution_count": null,
   "metadata": {},
   "outputs": [],
   "source": [
    "import pandas as pd\n",
    "train_info = load(dataset_root + 'train_info_dirty.csv', 1, 0.8)\n",
    "val_info = load(dataset_root + 'train_info_dirty.csv', 1, 1)\n",
    "\n",
    "\n",
    "same = val_info['filename'].isin(train_info['filename'])\n",
    "val_info.drop(val_info[same].index, inplace=True)\n",
    "\n",
    "#train_info.to_csv(dataset_root + '/labels/train.csv', header=False, index=False);\n",
    "#val_info.to_csv(dataset_root + '/labels/validation.csv', header=False, index=False);"
   ]
  },
  {
   "cell_type": "markdown",
   "metadata": {},
   "source": [
    "## Outlier detection using pca on NN features"
   ]
  },
  {
   "cell_type": "code",
   "execution_count": 5,
   "metadata": {
    "collapsed": false,
    "ExecuteTime": {
     "end_time": "2023-12-27T07:59:56.196844941Z",
     "start_time": "2023-12-27T07:59:56.126023240Z"
    }
   },
   "outputs": [
    {
     "data": {
      "text/plain": "(94782, 48)"
     },
     "execution_count": 5,
     "metadata": {},
     "output_type": "execute_result"
    }
   ],
   "source": [
    "features.shape"
   ]
  },
  {
   "cell_type": "code",
   "execution_count": null,
   "metadata": {},
   "outputs": [],
   "source": [
    "pca = filter.fit_pca(features, components=9)"
   ]
  },
  {
   "cell_type": "code",
   "execution_count": null,
   "metadata": {},
   "outputs": [],
   "source": [
    "significance_threshold = 0.8\n",
    "np.set_printoptions(threshold=sys.maxsize)\n",
    "cum_prod = filter.analyze_pca_components(pca)\n",
    "\n",
    "#cum_prod = [pair for pair in cum_prod if pair[1] > significance_threshold][0]\n",
    "#print('num of component that should be used: ', cum_prod[0])"
   ]
  },
  {
   "cell_type": "code",
   "execution_count": null,
   "metadata": {},
   "outputs": [],
   "source": [
    "new_space = filter.pca_features(pca, features);"
   ]
  },
  {
   "cell_type": "code",
   "execution_count": null,
   "metadata": {},
   "outputs": [],
   "source": [
    "from misc import group_stats\n",
    "mean, cov = group_stats(new_space, labels)"
   ]
  },
  {
   "cell_type": "code",
   "execution_count": null,
   "metadata": {},
   "outputs": [],
   "source": [
    "from image_discard import find_outliers_per_class\n",
    "names, distances = find_outliers_per_class(mean, cov, new_space, labels, image_names)"
   ]
  },
  {
   "cell_type": "code",
   "execution_count": null,
   "metadata": {},
   "outputs": [],
   "source": [
    "from image_discard import write_discarded_images\n",
    "#write_discarded_images(names, class_labels, \"./discarded_pca_nn_features/\", train_dir)"
   ]
  },
  {
   "cell_type": "code",
   "outputs": [
    {
     "data": {
      "text/plain": "94782"
     },
     "execution_count": 8,
     "metadata": {},
     "output_type": "execute_result"
    }
   ],
   "source": [
    "len(train_info)"
   ],
   "metadata": {
    "collapsed": false,
    "ExecuteTime": {
     "end_time": "2023-12-27T08:14:48.725169436Z",
     "start_time": "2023-12-27T08:14:48.657429500Z"
    }
   },
   "execution_count": 8
  },
  {
   "cell_type": "markdown",
   "metadata": {},
   "source": [
    "## Outlier detection with NN features"
   ]
  },
  {
   "cell_type": "code",
   "execution_count": 12,
   "metadata": {
    "ExecuteTime": {
     "end_time": "2023-12-27T08:29:49.833967037Z",
     "start_time": "2023-12-27T08:27:26.192420105Z"
    }
   },
   "outputs": [
    {
     "data": {
      "text/plain": "               filename  label\n174    train_059928.jpg      0\n163    train_059404.jpg      0\n149    train_059720.jpg      0\n310    train_059389.jpg      0\n130    train_059947.jpg      0\n...                 ...    ...\n94773  train_119918.jpg    250\n94726  train_120057.jpg    250\n94695  train_119881.jpg    250\n94512  train_120171.jpg    250\n94749  train_120151.jpg    250\n\n[74139 rows x 2 columns]",
      "text/html": "<div>\n<style scoped>\n    .dataframe tbody tr th:only-of-type {\n        vertical-align: middle;\n    }\n\n    .dataframe tbody tr th {\n        vertical-align: top;\n    }\n\n    .dataframe thead th {\n        text-align: right;\n    }\n</style>\n<table border=\"1\" class=\"dataframe\">\n  <thead>\n    <tr style=\"text-align: right;\">\n      <th></th>\n      <th>filename</th>\n      <th>label</th>\n    </tr>\n  </thead>\n  <tbody>\n    <tr>\n      <th>174</th>\n      <td>train_059928.jpg</td>\n      <td>0</td>\n    </tr>\n    <tr>\n      <th>163</th>\n      <td>train_059404.jpg</td>\n      <td>0</td>\n    </tr>\n    <tr>\n      <th>149</th>\n      <td>train_059720.jpg</td>\n      <td>0</td>\n    </tr>\n    <tr>\n      <th>310</th>\n      <td>train_059389.jpg</td>\n      <td>0</td>\n    </tr>\n    <tr>\n      <th>130</th>\n      <td>train_059947.jpg</td>\n      <td>0</td>\n    </tr>\n    <tr>\n      <th>...</th>\n      <td>...</td>\n      <td>...</td>\n    </tr>\n    <tr>\n      <th>94773</th>\n      <td>train_119918.jpg</td>\n      <td>250</td>\n    </tr>\n    <tr>\n      <th>94726</th>\n      <td>train_120057.jpg</td>\n      <td>250</td>\n    </tr>\n    <tr>\n      <th>94695</th>\n      <td>train_119881.jpg</td>\n      <td>250</td>\n    </tr>\n    <tr>\n      <th>94512</th>\n      <td>train_120171.jpg</td>\n      <td>250</td>\n    </tr>\n    <tr>\n      <th>94749</th>\n      <td>train_120151.jpg</td>\n      <td>250</td>\n    </tr>\n  </tbody>\n</table>\n<p>74139 rows × 2 columns</p>\n</div>"
     },
     "execution_count": 12,
     "metadata": {},
     "output_type": "execute_result"
    }
   ],
   "source": [
    "from image_discard import write_discarded_images, find_outliers_iter, write_cleaned_csv\n",
    "names, distances = find_outliers_iter(features, labels, image_names, threshold=11, num_iter=15)\n",
    "write_discarded_images(names, class_labels, \"./discarded_scaling_features_nn/\", train_dir)"
   ]
  },
  {
   "cell_type": "code",
   "outputs": [],
   "source": [
    "clean_train_info = write_cleaned_csv(train_info, names, dataset_root)"
   ],
   "metadata": {
    "collapsed": false,
    "ExecuteTime": {
     "end_time": "2023-12-27T08:35:37.377975309Z",
     "start_time": "2023-12-27T08:35:37.299484039Z"
    }
   },
   "execution_count": 13
  },
  {
   "cell_type": "code",
   "outputs": [],
   "source": [
    "from misc import compute_independent_stats\n",
    "\n",
    "clean_train_names = clean_train_info.iloc[:, 0].values\n",
    "clean_train_labels = clean_train_info.iloc[:, 1].values\n",
    "\n",
    "clean_features = features[np.isin(train_image_names, clean_train_names)]\n",
    "clean_mean, clean_std = compute_independent_stats(clean_features, clean_train_labels)\n",
    "np.savetxt(dataset_root + \"stats/clean_train_mean.csv\", clean_mean, delimiter=',')\n",
    "np.savetxt(dataset_root + \"stats/clean_train_std.csv\", clean_std, delimiter=',')"
   ],
   "metadata": {
    "collapsed": false
   },
   "execution_count": null
  },
  {
   "cell_type": "code",
   "outputs": [],
   "source": [
    "filter = NN_filter(val_info, train_dir, 'efficient_net', batch_size=25)"
   ],
   "metadata": {
    "collapsed": false,
    "ExecuteTime": {
     "end_time": "2023-12-27T09:19:31.617749450Z",
     "start_time": "2023-12-27T09:19:28.331273925Z"
    }
   },
   "execution_count": 47
  },
  {
   "cell_type": "code",
   "outputs": [
    {
     "name": "stderr",
     "output_type": "stream",
     "text": [
      "100%|██████████| 947/947 [03:22<00:00,  4.68it/s]\n"
     ]
    }
   ],
   "source": [
    "val_features, val_labels_, val_names = filter.fit_train()"
   ],
   "metadata": {
    "collapsed": false,
    "ExecuteTime": {
     "end_time": "2023-12-27T09:22:52.499706018Z",
     "start_time": "2023-12-27T09:19:30.170840575Z"
    }
   },
   "execution_count": 48
  },
  {
   "cell_type": "markdown",
   "metadata": {},
   "source": [
    "## Outlier detection with KNN"
   ]
  },
  {
   "cell_type": "code",
   "outputs": [
    {
     "data": {
      "text/plain": "array([[0.89467901, 1.09593021, 1.28283793, ..., 1.10490224, 2.82410312,\n        1.70100398],\n       [1.23450526, 1.60814618, 3.48508852, ..., 1.07607689, 1.82644926,\n        0.82287366],\n       [1.31997649, 1.12209728, 5.05572378, ..., 1.05889306, 1.22325106,\n        0.93170014],\n       ...,\n       [2.18602816, 4.57953619, 2.5878339 , ..., 1.37459966, 0.6532724 ,\n        1.46069825],\n       [2.28202073, 3.53751669, 5.64597137, ..., 1.11097273, 3.14002712,\n        0.97826855],\n       [1.28576639, 1.19835186, 1.26416295, ..., 1.37390109, 1.33381668,\n        0.81645432]])"
     },
     "execution_count": 59,
     "metadata": {},
     "output_type": "execute_result"
    }
   ],
   "source": [
    "def center_scale_wrt_trainset(features, labels, train_mean, train_std):\n",
    "    classes = np.unique(labels)\n",
    "    scaled_features = np.copy(features)\n",
    "    for c in classes:\n",
    "        to_consider = labels == c\n",
    "        scaled_features[to_consider] = (scaled_features[to_consider] - train_mean[c]) / train_std[c]\n",
    "    return scaled_features\n",
    "\n",
    "scaled_val = center_scale_wrt_trainset(val_features, val_labels_, clean_mean, clean_std)\n",
    "val_m, val_s = compute_independent_stats(scaled_val, val_labels_)"
   ],
   "metadata": {
    "collapsed": false,
    "ExecuteTime": {
     "end_time": "2023-12-27T09:32:54.664878241Z",
     "start_time": "2023-12-27T09:32:54.607486467Z"
    }
   },
   "execution_count": 59
  },
  {
   "cell_type": "code",
   "outputs": [],
   "source": [
    "names_v, distances_v = find_outliers_iter(scaled_val, val_labels_, val_names, threshold=11, num_iter=15)"
   ],
   "metadata": {
    "collapsed": false,
    "ExecuteTime": {
     "end_time": "2023-12-27T09:35:34.521925873Z",
     "start_time": "2023-12-27T09:35:04.962438526Z"
    }
   },
   "execution_count": 60
  },
  {
   "cell_type": "code",
   "outputs": [
    {
     "data": {
      "text/plain": "3422"
     },
     "execution_count": 63,
     "metadata": {},
     "output_type": "execute_result"
    }
   ],
   "source": [
    "sum = 0\n",
    "\n",
    "for c in names_v:\n",
    "    sum += len(c)\n",
    "sum"
   ],
   "metadata": {
    "collapsed": false,
    "ExecuteTime": {
     "end_time": "2023-12-27T09:37:34.311104849Z",
     "start_time": "2023-12-27T09:37:33.012641023Z"
    }
   },
   "execution_count": 63
  },
  {
   "cell_type": "code",
   "outputs": [],
   "source": [
    "write_discarded_images(names_v, class_labels, \"./discarded_validation_scaling_features_nn/\", train_dir)\n",
    "clean_val_info = write_cleaned_csv(val_info, names_v, dataset_root)"
   ],
   "metadata": {
    "collapsed": false,
    "ExecuteTime": {
     "end_time": "2023-12-27T09:56:28.170895741Z",
     "start_time": "2023-12-27T09:56:27.049029785Z"
    }
   },
   "execution_count": 66
  },
  {
   "cell_type": "code",
   "outputs": [],
   "source": [
    "filter = NN_filter(test_info, val_dir, 'efficient_net', batch_size=64)"
   ],
   "metadata": {
    "collapsed": false
   }
  },
  {
   "cell_type": "code",
   "execution_count": null,
   "metadata": {},
   "outputs": [],
   "source": [
    "use_pca = False"
   ]
  },
  {
   "cell_type": "code",
   "execution_count": null,
   "metadata": {
    "execution": {
     "iopub.status.busy": "2023-12-22T14:50:55.196892Z",
     "iopub.status.idle": "2023-12-22T14:50:55.197373Z",
     "shell.execute_reply": "2023-12-22T14:50:55.197149Z",
     "shell.execute_reply.started": "2023-12-22T14:50:55.197128Z"
    },
    "trusted": true
   },
   "outputs": [],
   "source": [
    "knn = filter.fit_knn(features, labels, use_pca);"
   ]
  },
  {
   "cell_type": "code",
   "execution_count": null,
   "metadata": {
    "execution": {
     "iopub.status.busy": "2023-12-22T14:50:55.198737Z",
     "iopub.status.idle": "2023-12-22T14:50:55.199199Z",
     "shell.execute_reply": "2023-12-22T14:50:55.198990Z",
     "shell.execute_reply.started": "2023-12-22T14:50:55.198968Z"
    },
    "trusted": true
   },
   "outputs": [],
   "source": [
    "names = filter.filter_with_knn(knn, use_pca);\n",
    "write_discarded_images(names, class_labels, \"./discarded_knn/\", train_dir)"
   ]
  }
 ],
 "metadata": {
  "kaggle": {
   "accelerator": "gpu",
   "dataSources": [
    {
     "datasetId": 4204263,
     "sourceId": 7255419,
     "sourceType": "datasetVersion"
    }
   ],
   "dockerImageVersionId": 30626,
   "isGpuEnabled": true,
   "isInternetEnabled": true,
   "language": "python",
   "sourceType": "notebook"
  },
  "kernelspec": {
   "display_name": "Python 3",
   "language": "python",
   "name": "python3"
  },
  "language_info": {
   "codemirror_mode": {
    "name": "ipython",
    "version": 3
   },
   "file_extension": ".py",
   "mimetype": "text/x-python",
   "name": "python",
   "nbconvert_exporter": "python",
   "pygments_lexer": "ipython3",
   "version": "3.11.2"
  }
 },
 "nbformat": 4,
 "nbformat_minor": 4
}
