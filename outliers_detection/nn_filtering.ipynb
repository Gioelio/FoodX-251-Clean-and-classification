{
 "cells": [
  {
   "cell_type": "code",
   "execution_count": null,
   "metadata": {
    "_cell_guid": "b1076dfc-b9ad-4769-8c92-a6c4dae69d19",
    "_uuid": "8f2839f25d086af736a60e9eeb907d3b93b6e0e5",
    "execution": {
     "iopub.execute_input": "2023-12-22T14:44:15.908543Z",
     "iopub.status.busy": "2023-12-22T14:44:15.908129Z",
     "iopub.status.idle": "2023-12-22T14:44:27.933980Z",
     "shell.execute_reply": "2023-12-22T14:44:27.933089Z",
     "shell.execute_reply.started": "2023-12-22T14:44:15.908513Z"
    },
    "trusted": true
   },
   "outputs": [],
   "source": [
    "import numpy as np\n",
    "import sys"
   ]
  },
  {
   "cell_type": "code",
   "execution_count": null,
   "metadata": {},
   "outputs": [],
   "source": [
    "from misc import load, load_class_labels\n",
    "\n",
    "dataset_root = \"../dataset/\"\n",
    "\n",
    "train_dir = dataset_root + \"train_set/\"\n",
    "val_dir = dataset_root + \"val_set/\"\n",
    "val_degraded_dir = dataset_root + \"val_set_degraded/\"\n",
    "\n",
    "sample_rate = 1\n",
    "train_info = load(dataset_root + 'labels/train.csv', 1, sample_rate)\n",
    "val_info = load(dataset_root + 'labels/validation.csv')\n",
    "test_info = load(dataset_root + 'labels/test.csv')\n",
    "\n",
    "train_image_names = train_info.iloc[:, 0].values\n",
    "val_image_names = val_info.iloc[:, 0].values\n",
    "\n",
    "train_labels = train_info.iloc[:, 1].values\n",
    "val_labels = val_info.iloc[:, 1].values\n",
    "\n",
    "class_labels = load_class_labels(dataset_root + 'classes.txt')"
   ]
  },
  {
   "cell_type": "code",
   "execution_count": null,
   "metadata": {
    "execution": {
     "iopub.execute_input": "2023-12-22T14:44:27.946522Z",
     "iopub.status.busy": "2023-12-22T14:44:27.946135Z",
     "iopub.status.idle": "2023-12-22T14:47:58.595309Z",
     "shell.execute_reply": "2023-12-22T14:47:58.594393Z",
     "shell.execute_reply.started": "2023-12-22T14:44:27.946486Z"
    },
    "trusted": true
   },
   "outputs": [],
   "source": [
    "from nn_filter import NN_filter\n",
    "\n",
    "filter = NN_filter(train_info, train_dir, 'efficient_net', batch_size=25)"
   ]
  },
  {
   "cell_type": "code",
   "execution_count": null,
   "metadata": {
    "execution": {
     "iopub.execute_input": "2023-12-22T14:48:34.115034Z",
     "iopub.status.busy": "2023-12-22T14:48:34.114753Z",
     "iopub.status.idle": "2023-12-22T14:50:55.191542Z",
     "shell.execute_reply": "2023-12-22T14:50:55.189793Z",
     "shell.execute_reply.started": "2023-12-22T14:48:34.115011Z"
    },
    "trusted": true
   },
   "outputs": [],
   "source": [
    "features, labels, image_names = filter.fit_train()"
   ]
  },
  {
   "cell_type": "markdown",
   "metadata": {},
   "source": [
    "## Extract validation from trainig set"
   ]
  },
  {
   "cell_type": "code",
   "execution_count": null,
   "metadata": {},
   "outputs": [],
   "source": [
    "import pandas as pd\n",
    "train_info = load(dataset_root + 'train_info_dirty.csv', 1, 0.8)\n",
    "val_info = load(dataset_root + 'train_info_dirty.csv', 1, 1)\n",
    "\n",
    "\n",
    "same = val_info['filename'].isin(train_info['filename'])\n",
    "val_info.drop(val_info[same].index, inplace=True)\n",
    "\n",
    "#train_info.to_csv(dataset_root + '/labels/train.csv', header=False, index=False);\n",
    "#val_info.to_csv(dataset_root + '/labels/validation.csv', header=False, index=False);"
   ]
  },
  {
   "cell_type": "markdown",
   "metadata": {},
   "source": [
    "## Outlier detection with NN features"
   ]
  },
  {
   "cell_type": "code",
   "outputs": [
    {
     "data": {
      "text/plain": "0it [00:00, ?it/s]",
      "application/vnd.jupyter.widget-view+json": {
       "version_major": 2,
       "version_minor": 0,
       "model_id": "ab3960d0348d42b9b22146c19f4002ad"
      }
     },
     "metadata": {},
     "output_type": "display_data"
    }
   ],
   "source": [
    "# from image_discard import discard_preprocessing\n",
    "def discard_preprocessing(dir, image_names, labels, bw_threshold=0.9, no_gradient_threshold=0.83, zero_threshold=0.6,\n",
    "                          gradient_threshold=0.15, crop_size=0.4):\n",
    "    from tqdm.notebook import tqdm_notebook\n",
    "    import cv2 as cv\n",
    "    discarded_images = [[] for _ in range(251)]\n",
    "    discarded_indices = []\n",
    "\n",
    "    for i, (image_name, c) in tqdm_notebook(enumerate(zip(image_names, labels))):\n",
    "        color_image = cv.imread(dir + image_name)\n",
    "        image = cv.cvtColor(color_image, cv.COLOR_BGR2GRAY)\n",
    "        \n",
    "        center = image.shape\n",
    "        w = center[1] * crop_size\n",
    "        h = center[0] * crop_size\n",
    "        x = center[1] / 2 - w / 2\n",
    "        y = center[0] / 2 - h / 2\n",
    "        cropped = image[int(y):int(y + h), int(x):int(x + w)]\n",
    "        \n",
    "        flattened = cropped.flatten()\n",
    "        flattened_mask = ((flattened <= 30) | (flattened >= 220))\n",
    "        bw_proportion = len(flattened[flattened_mask]) / len(flattened)\n",
    "\n",
    "        if bw_proportion > bw_threshold:\n",
    "            discarded_images[c].append(image_name)\n",
    "            discarded_indices.append(i)\n",
    "            continue\n",
    "\n",
    "        gradient = cv.Laplacian(cropped, 0).flatten()\n",
    "        no_gradient_rate = len(gradient[abs(gradient) < 1].flatten()) / len(gradient)\n",
    "        if no_gradient_rate >= no_gradient_threshold:\n",
    "            discarded_images[c].append(image_name)\n",
    "            discarded_indices.append(i)\n",
    "            continue\n",
    "\n",
    "        gradient_rate = len(gradient[abs(gradient) >= 130].flatten()) / len(gradient[abs(gradient) > 0].flatten())\n",
    "        zero_rate = len(gradient[(abs(gradient) <= 0)].flatten()) / len(gradient.flatten())\n",
    "\n",
    "        if gradient_rate >= gradient_threshold and zero_rate >= zero_threshold:\n",
    "            discarded_images[c].append(image_name)\n",
    "            discarded_indices.append(i)\n",
    "\n",
    "    return discarded_images, discarded_indices\n",
    "\n",
    "names, indices = discard_preprocessing(train_dir, train_image_names, train_labels)"
   ],
   "metadata": {
    "collapsed": false,
    "ExecuteTime": {
     "end_time": "2024-01-05T13:02:35.233768966Z",
     "start_time": "2024-01-05T12:58:24.876156235Z"
    }
   },
   "execution_count": 223
  },
  {
   "cell_type": "code",
   "outputs": [
    {
     "data": {
      "text/plain": "553"
     },
     "execution_count": 226,
     "metadata": {},
     "output_type": "execute_result"
    }
   ],
   "source": [
    "count = 0\n",
    "for c in names:\n",
    "    count += len(c)\n",
    "count"
   ],
   "metadata": {
    "collapsed": false,
    "ExecuteTime": {
     "end_time": "2024-01-05T13:02:41.089652464Z",
     "start_time": "2024-01-05T13:02:41.076585878Z"
    }
   },
   "execution_count": 226
  },
  {
   "cell_type": "code",
   "outputs": [],
   "source": [
    "kept_indices = ~np.isin([i for i in range(len(train_image_names))], indices)\n",
    "\n",
    "preprocessed_features = features[kept_indices]\n",
    "preprocessed_train_names = train_image_names[kept_indices]\n",
    "preprocessed_train_labels = train_labels[kept_indices]\n",
    "preprocessed_train_info = pd.DataFrame({\n",
    "    'filename': preprocessed_train_names,\n",
    "    'label': preprocessed_train_labels\n",
    "})"
   ],
   "metadata": {
    "collapsed": false,
    "ExecuteTime": {
     "end_time": "2024-01-05T13:02:57.028112514Z",
     "start_time": "2024-01-05T13:02:44.372517224Z"
    }
   },
   "execution_count": 227
  },
  {
   "cell_type": "code",
   "outputs": [],
   "source": [
    "from image_discard import write_discarded_images\n",
    "write_discarded_images(names, class_labels, dataset_root + \"discarded_preprocess/\", train_dir)"
   ],
   "metadata": {
    "collapsed": false,
    "ExecuteTime": {
     "end_time": "2024-01-05T13:02:58.425552518Z",
     "start_time": "2024-01-05T13:02:58.176282431Z"
    }
   },
   "execution_count": 228
  },
  {
   "cell_type": "code",
   "outputs": [],
   "source": [
    "def find_outliers_median(features, labels, image_names, threshold=30):\n",
    "    from sklearn.preprocessing import normalize\n",
    "    classes = np.unique(labels)\n",
    "    distances = [[] for _ in range(len(classes))]\n",
    "    names = [[] for _ in range(len(classes))]\n",
    "    for c in classes:\n",
    "        indices = labels == c\n",
    "        to_consider = features[indices]\n",
    "        normalized = normalize(to_consider, axis=1)\n",
    "        median = np.median(normalized, axis=0)\n",
    "\n",
    "        for image, name in zip(normalized, image_names[indices]):\n",
    "            # d1 = np.linalg.norm((image - median))\n",
    "            # d1 = np.sum(np.abs(median - image))\n",
    "            d1 = 1 - np.dot(image, median) / (np.linalg.norm(image) * np.linalg.norm(median))\n",
    "            \n",
    "            if d1 >= threshold:\n",
    "                distances[c].append(d1)\n",
    "                names[c].append(name)\n",
    "\n",
    "        distances[c] = np.asarray(distances[c])\n",
    "        names[c] = np.asarray(names[c])\n",
    "        _sorted = np.argsort(distances[c])[::-1]\n",
    "        distances[c] = distances[c][_sorted]\n",
    "        names[c] = names[c][_sorted]\n",
    "    return names, distances\n",
    "\n",
    "\n",
    "\n",
    "def find_outliers_iter_median(features, labels, image_names, threshold=30, iter=10):\n",
    "    to_consider = np.ones((len(features)))\n",
    "    classes = np.unique(labels)\n",
    "    distances = [[] for _ in range(len(classes))]\n",
    "    names = [[] for _ in range(len(classes))]\n",
    "\n",
    "    for _ in (range(iter)):\n",
    "        features_to_consider = features[to_consider == 1]\n",
    "        names_to_consider = image_names[to_consider == 1]\n",
    "        labels_to_consider = labels[to_consider == 1]\n",
    "\n",
    "        n, d = find_outliers_median(features_to_consider, labels_to_consider, names_to_consider,\n",
    "                                    threshold)\n",
    "        for i in range(len(n)):\n",
    "            for j in range(len(d[i])):\n",
    "                names[i].append(n[i][j])\n",
    "                distances[i].append(d[i][j])\n",
    "                to_consider[np.where(image_names == n[i][j])[0]] = 0\n",
    "\n",
    "    return names, distances\n",
    "names, distances = find_outliers_iter_median(preprocessed_features, preprocessed_train_labels, preprocessed_train_names, threshold=0.69, iter=1)"
   ],
   "metadata": {
    "collapsed": false,
    "ExecuteTime": {
     "end_time": "2024-01-05T15:48:00.755381942Z",
     "start_time": "2024-01-05T15:47:25.718721120Z"
    }
   },
   "execution_count": 399
  },
  {
   "cell_type": "code",
   "outputs": [],
   "source": [
    "from image_discard import write_discarded_images, find_outliers_iter, write_cleaned_csv\n",
    "write_discarded_images(names, class_labels, dataset_root + \"discarded_scaling_features_efficientnetv2_median/\", train_dir)"
   ],
   "metadata": {
    "collapsed": false,
    "ExecuteTime": {
     "end_time": "2024-01-05T15:48:11.003234053Z",
     "start_time": "2024-01-05T15:48:06.078696257Z"
    }
   },
   "execution_count": 401
  },
  {
   "cell_type": "code",
   "outputs": [
    {
     "data": {
      "text/plain": "13208"
     },
     "execution_count": 400,
     "metadata": {},
     "output_type": "execute_result"
    }
   ],
   "source": [
    "count = 0\n",
    "for c in names:\n",
    "    count += len(c)\n",
    "count"
   ],
   "metadata": {
    "collapsed": false,
    "ExecuteTime": {
     "end_time": "2024-01-05T15:48:02.584223229Z",
     "start_time": "2024-01-05T15:48:02.577378585Z"
    }
   },
   "execution_count": 400
  },
  {
   "cell_type": "code",
   "outputs": [],
   "source": [
    "clean_train_info = write_cleaned_csv(preprocessed_train_info, names, dataset_root + \"clean_efficientnet_v2/median/\")"
   ],
   "metadata": {
    "collapsed": false,
    "ExecuteTime": {
     "end_time": "2024-01-05T15:50:13.355572105Z",
     "start_time": "2024-01-05T15:50:13.203658908Z"
    }
   },
   "execution_count": 402
  },
  {
   "cell_type": "code",
   "outputs": [],
   "source": [
    "clean_names = clean_train_info.iloc[:, 0].values\n",
    "clean_labels = clean_train_info.iloc[:, 1].values\n",
    "\n",
    "kept_names = [[] for _ in range(251)]\n",
    "for name, label in zip(clean_names, clean_labels):\n",
    "    kept_names[label].append(name)\n",
    "\n",
    "write_discarded_images(kept_names, class_labels, dataset_root + \"kept_efficientnet_v2_median/\", train_dir)"
   ],
   "metadata": {
    "collapsed": false,
    "ExecuteTime": {
     "end_time": "2024-01-05T15:52:04.441250675Z",
     "start_time": "2024-01-05T15:51:33.913051319Z"
    }
   },
   "execution_count": 404
  },
  {
   "cell_type": "code",
   "outputs": [
    {
     "data": {
      "text/plain": "            filename  label\n3711  val_001933.jpg    116\n7423  val_005689.jpg    116",
      "text/html": "<div>\n<style scoped>\n    .dataframe tbody tr th:only-of-type {\n        vertical-align: middle;\n    }\n\n    .dataframe tbody tr th {\n        vertical-align: top;\n    }\n\n    .dataframe thead th {\n        text-align: right;\n    }\n</style>\n<table border=\"1\" class=\"dataframe\">\n  <thead>\n    <tr style=\"text-align: right;\">\n      <th></th>\n      <th>filename</th>\n      <th>label</th>\n    </tr>\n  </thead>\n  <tbody>\n    <tr>\n      <th>3711</th>\n      <td>val_001933.jpg</td>\n      <td>116</td>\n    </tr>\n    <tr>\n      <th>7423</th>\n      <td>val_005689.jpg</td>\n      <td>116</td>\n    </tr>\n  </tbody>\n</table>\n</div>"
     },
     "execution_count": 405,
     "metadata": {},
     "output_type": "execute_result"
    }
   ],
   "source": [
    "test_info[test_info['label'] == 116]"
   ],
   "metadata": {
    "collapsed": false,
    "ExecuteTime": {
     "end_time": "2024-01-05T15:53:33.194044852Z",
     "start_time": "2024-01-05T15:53:33.147220919Z"
    }
   },
   "execution_count": 405
  },
  {
   "cell_type": "code",
   "outputs": [
    {
     "data": {
      "text/plain": "[<matplotlib.lines.Line2D at 0x7efc26ffc690>]"
     },
     "execution_count": 413,
     "metadata": {},
     "output_type": "execute_result"
    },
    {
     "data": {
      "text/plain": "<Figure size 640x480 with 1 Axes>",
      "image/png": "[encoded data removed]"
     },
     "metadata": {},
     "output_type": "display_data"
    }
   ],
   "source": [
    "cardinalities = np.zeros(251)\n",
    "for i in range(251):\n",
    "    count = len(preprocessed_train_info[preprocessed_train_info['label'] == i])\n",
    "    cardinalities[i] = count - len(names[i])\n",
    "    \n",
    "import matplotlib.pyplot as plt\n",
    "plt.plot(cardinalities)"
   ],
   "metadata": {
    "collapsed": false,
    "ExecuteTime": {
     "end_time": "2024-01-05T15:58:36.527681182Z",
     "start_time": "2024-01-05T15:58:36.305767416Z"
    }
   },
   "execution_count": 413
  },
  {
   "cell_type": "code",
   "outputs": [],
   "source": [],
   "metadata": {
    "collapsed": false
   }
  }
 ],
 "metadata": {
  "kaggle": {
   "accelerator": "gpu",
   "dataSources": [
    {
     "datasetId": 4204263,
     "sourceId": 7255419,
     "sourceType": "datasetVersion"
    }
   ],
   "dockerImageVersionId": 30626,
   "isGpuEnabled": true,
   "isInternetEnabled": true,
   "language": "python",
   "sourceType": "notebook"
  },
  "kernelspec": {
   "display_name": "Python 3",
   "language": "python",
   "name": "python3"
  },
  "language_info": {
   "codemirror_mode": {
    "name": "ipython",
    "version": 3
   },
   "file_extension": ".py",
   "mimetype": "text/x-python",
   "name": "python",
   "nbconvert_exporter": "python",
   "pygments_lexer": "ipython3",
   "version": "3.11.2"
  }
 },
 "nbformat": 4,
 "nbformat_minor": 4
}
