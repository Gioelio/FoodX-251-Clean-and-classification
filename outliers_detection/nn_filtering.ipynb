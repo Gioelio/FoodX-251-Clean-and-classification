{
 "cells": [
  {
   "cell_type": "code",
   "execution_count": null,
   "metadata": {
    "_cell_guid": "b1076dfc-b9ad-4769-8c92-a6c4dae69d19",
    "_uuid": "8f2839f25d086af736a60e9eeb907d3b93b6e0e5",
    "execution": {
     "iopub.execute_input": "2023-12-22T14:44:15.908543Z",
     "iopub.status.busy": "2023-12-22T14:44:15.908129Z",
     "iopub.status.idle": "2023-12-22T14:44:27.933980Z",
     "shell.execute_reply": "2023-12-22T14:44:27.933089Z",
     "shell.execute_reply.started": "2023-12-22T14:44:15.908513Z"
    },
    "trusted": true
   },
   "outputs": [],
   "source": [
    "import numpy as np\n",
    "import sys"
   ]
  },
  {
   "cell_type": "code",
   "execution_count": null,
   "metadata": {},
   "outputs": [],
   "source": [
    "from misc import load, load_class_labels\n",
    "\n",
    "dataset_root = \"../dataset/\"\n",
    "\n",
    "train_dir = dataset_root + \"train_set/\"\n",
    "val_dir = dataset_root + \"val_set/\"\n",
    "val_degraded_dir = dataset_root + \"val_set_degraded/\"\n",
    "\n",
    "sample_rate = 1\n",
    "train_info = load(dataset_root + 'labels/train.csv', 1, sample_rate)\n",
    "val_info = load(dataset_root + 'labels/validation.csv')\n",
    "test_info = load(dataset_root + 'labels/test.csv')\n",
    "\n",
    "train_image_names = train_info.iloc[:, 0].values\n",
    "val_image_names = val_info.iloc[:, 0].values\n",
    "\n",
    "train_labels = train_info.iloc[:, 1].values\n",
    "val_labels = val_info.iloc[:, 1].values\n",
    "\n",
    "class_labels = load_class_labels(dataset_root + 'classes.txt')"
   ]
  },
  {
   "cell_type": "code",
   "execution_count": null,
   "metadata": {
    "execution": {
     "iopub.execute_input": "2023-12-22T14:44:27.946522Z",
     "iopub.status.busy": "2023-12-22T14:44:27.946135Z",
     "iopub.status.idle": "2023-12-22T14:47:58.595309Z",
     "shell.execute_reply": "2023-12-22T14:47:58.594393Z",
     "shell.execute_reply.started": "2023-12-22T14:44:27.946486Z"
    },
    "trusted": true
   },
   "outputs": [],
   "source": [
    "from nn_filter import NN_filter\n",
    "\n",
    "filter = NN_filter(train_info, train_dir, 'efficient_net', batch_size=25)"
   ]
  },
  {
   "cell_type": "code",
   "execution_count": null,
   "metadata": {
    "execution": {
     "iopub.execute_input": "2023-12-22T14:48:34.115034Z",
     "iopub.status.busy": "2023-12-22T14:48:34.114753Z",
     "iopub.status.idle": "2023-12-22T14:50:55.191542Z",
     "shell.execute_reply": "2023-12-22T14:50:55.189793Z",
     "shell.execute_reply.started": "2023-12-22T14:48:34.115011Z"
    },
    "trusted": true
   },
   "outputs": [],
   "source": [
    "features, labels, image_names = filter.fit_train()"
   ]
  },
  {
   "cell_type": "markdown",
   "metadata": {},
   "source": [
    "## Extract validation from trainig set"
   ]
  },
  {
   "cell_type": "code",
   "execution_count": null,
   "metadata": {},
   "outputs": [],
   "source": [
    "import pandas as pd\n",
    "train_info = load(dataset_root + 'train_info_dirty.csv', 1, 0.8)\n",
    "val_info = load(dataset_root + 'train_info_dirty.csv', 1, 1)\n",
    "\n",
    "\n",
    "same = val_info['filename'].isin(train_info['filename'])\n",
    "val_info.drop(val_info[same].index, inplace=True)\n",
    "\n",
    "#train_info.to_csv(dataset_root + '/labels/train.csv', header=False, index=False);\n",
    "#val_info.to_csv(dataset_root + '/labels/validation.csv', header=False, index=False);"
   ]
  },
  {
   "cell_type": "markdown",
   "metadata": {},
   "source": [
    "## Outlier detection with NN features"
   ]
  },
  {
   "cell_type": "code",
   "outputs": [],
   "source": [
    "from image_discard import discard_preprocessing\n",
    "names, indices = discard_preprocessing(train_dir, train_image_names, train_labels)"
   ],
   "metadata": {
    "collapsed": false
   },
   "execution_count": null
  },
  {
   "cell_type": "code",
   "outputs": [],
   "source": [
    "count = 0\n",
    "for c in names:\n",
    "    count += len(c)\n",
    "count"
   ],
   "metadata": {
    "collapsed": false
   },
   "execution_count": null
  },
  {
   "cell_type": "code",
   "outputs": [],
   "source": [
    "kept_indices = ~np.isin([i for i in range(len(train_image_names))], indices)\n",
    "\n",
    "preprocessed_features = features[kept_indices]\n",
    "preprocessed_train_names = train_image_names[kept_indices]\n",
    "preprocessed_train_labels = train_labels[kept_indices]\n",
    "preprocessed_train_info = pd.DataFrame({\n",
    "    'filename': preprocessed_train_names,\n",
    "    'label': preprocessed_train_labels\n",
    "})"
   ],
   "metadata": {
    "collapsed": false
   },
   "execution_count": null
  },
  {
   "cell_type": "code",
   "outputs": [],
   "source": [
    "from image_discard import write_discarded_images\n",
    "write_discarded_images(names, class_labels, dataset_root + \"discarded_preprocess/\", train_dir)"
   ],
   "metadata": {
    "collapsed": false
   },
   "execution_count": null
  },
  {
   "cell_type": "code",
   "outputs": [],
   "source": [
    "from image_discard import find_outliers_iter_median\n",
    "names, distances = find_outliers_iter_median(preprocessed_features, preprocessed_train_labels, preprocessed_train_names, threshold=0.95)"
   ],
   "metadata": {
    "collapsed": false
   },
   "execution_count": null
  },
  {
   "cell_type": "code",
   "outputs": [],
   "source": [
    "from image_discard import write_discarded_images, find_outliers_iter, write_cleaned_csv\n",
    "write_discarded_images(names, class_labels, dataset_root + \"discarded_scaling_features_efficientnetv2_median/\", train_dir)"
   ],
   "metadata": {
    "collapsed": false
   },
   "execution_count": null
  },
  {
   "cell_type": "code",
   "outputs": [],
   "source": [
    "clean_train_info = write_cleaned_csv(preprocessed_train_info, names, dataset_root + \"clean_efficientnet_v2/median/\")"
   ],
   "metadata": {
    "collapsed": false
   },
   "execution_count": null
  },
  {
   "cell_type": "code",
   "outputs": [],
   "source": [
    "clean_names = clean_train_info.iloc[:, 0].values\n",
    "clean_labels = clean_train_info.iloc[:, 1].values\n",
    "\n",
    "kept_names = [[] for _ in range(251)]\n",
    "for name, label in zip(clean_names, clean_labels):\n",
    "    kept_names[label].append(name)\n",
    "\n",
    "write_discarded_images(kept_names, class_labels, dataset_root + \"kept_efficientnet_v2_median/\", train_dir)"
   ],
   "metadata": {
    "collapsed": false
   },
   "execution_count": null
  }
 ],
 "metadata": {
  "kaggle": {
   "accelerator": "gpu",
   "dataSources": [
    {
     "datasetId": 4204263,
     "sourceId": 7255419,
     "sourceType": "datasetVersion"
    }
   ],
   "dockerImageVersionId": 30626,
   "isGpuEnabled": true,
   "isInternetEnabled": true,
   "language": "python",
   "sourceType": "notebook"
  },
  "kernelspec": {
   "display_name": "Python 3",
   "language": "python",
   "name": "python3"
  },
  "language_info": {
   "codemirror_mode": {
    "name": "ipython",
    "version": 3
   },
   "file_extension": ".py",
   "mimetype": "text/x-python",
   "name": "python",
   "nbconvert_exporter": "python",
   "pygments_lexer": "ipython3",
   "version": "3.11.2"
  }
 },
 "nbformat": 4,
 "nbformat_minor": 4
}
