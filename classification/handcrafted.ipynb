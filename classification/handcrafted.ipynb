{
 "cells": [
  {
   "cell_type": "code",
   "execution_count": 1,
   "metadata": {},
   "outputs": [],
   "source": [
    "from misc import load, load_class_labels\n",
    "from data_loader import data_loader;\n",
    "\n",
    "dataset_root = \"../dataset/\"\n",
    "\n",
    "train_dir = dataset_root + \"train_set/\"\n",
    "val_dir = dataset_root + \"val_set/\"\n",
    "val_degraded_dir = dataset_root + \"val_set_degraded/\"\n",
    "\n",
    "sample_rate = 1\n",
    "train_info = load(dataset_root + 'labels/train.csv', 1, sample_rate)\n",
    "val_info = load(dataset_root + 'labels/validation.csv')\n",
    "\n",
    "train_image_names = train_info.iloc[:, 0].values\n",
    "val_image_names = val_info.iloc[:, 0].values\n",
    "\n",
    "train_labels = train_info.iloc[:, 1].values\n",
    "val_labels = val_info.iloc[:, 1].values\n",
    "y_val = val_labels\n",
    "\n",
    "class_labels = load_class_labels(dataset_root + 'classes.txt')\n",
    "\n",
    "dl = data_loader(train_info, train_dir, 400, (224, 224));\n",
    "dl_val = data_loader(val_info, train_dir, 400, (224, 224));\n"
   ]
  },
  {
   "cell_type": "markdown",
   "metadata": {},
   "source": [
    "## Classification using handcrafted features"
   ]
  },
  {
   "cell_type": "code",
   "execution_count": 2,
   "metadata": {},
   "outputs": [],
   "source": [
    "import numpy as np;\n",
    "from handcrafted_extraction import extract_features\n",
    "\n",
    "frac_of_train = 0.8\n",
    "\n",
    "sift_info = {\n",
    "    'max_number': 50,\n",
    "    'num_of_sample_kmeans': 1,\n",
    "    'voc_size': 300,\n",
    "    'max_iter': 500\n",
    "}\n",
    "\n",
    "gabor_obj = {\n",
    "    'angles': np.arange(0, np.pi, np.pi/4),\n",
    "    'lambdas': np.arange(0, 1, 0.2),\n",
    "    'gammas': [0.5]\n",
    "}\n",
    "\n",
    "color = True;\n",
    "lbp_info = [2];\n",
    "\n",
    "sampling = train_info.sample(frac=frac_of_train)\n",
    "images_names = sampling.iloc[:, 0].values\n",
    "y_train = sampling['label'].values"
   ]
  },
  {
   "cell_type": "code",
   "execution_count": 3,
   "metadata": {},
   "outputs": [
    {
     "name": "stderr",
     "output_type": "stream",
     "text": [
      "0it [00:00, ?it/s]\n",
      "\n",
      "\u001b[A\u001b[A\n",
      "\u001b[A"
     ]
    },
    {
     "name": "stderr",
     "output_type": "stream",
     "text": [
      "1it [00:00,  9.80it/s]\n",
      "\u001b[A\n",
      "\n",
      "\u001b[A\u001b[A\n",
      "5it [00:00, 23.77it/s]\n",
      "\n",
      "\u001b[A\u001b[A\n",
      "95it [00:00, 268.03it/s]\n",
      "\n",
      "\n",
      "\u001b[A\u001b[A\n",
      "15it [00:00, 37.28it/s]\n",
      "\n",
      "\u001b[A\u001b[A\n",
      "20it [00:00, 40.76it/s]\n",
      "\n",
      "\u001b[A\u001b[A\n",
      "25it [00:00, 43.53it/s]\n",
      "\n",
      "\u001b[A\u001b[A\n",
      "30it [00:00, 44.55it/s]\n",
      "\n",
      "\u001b[A\u001b[A\n",
      "35it [00:00, 45.59it/s]\n",
      "\n",
      "\u001b[A\u001b[A\n",
      "40it [00:01, 42.79it/s]\n",
      "\n",
      "46it [00:01, 43.63it/s]\n",
      "51it [00:01, 42.55it/s]\n",
      "\n",
      "56it [00:01, 41.18it/s]\n",
      "\u001b[A\n",
      "\n",
      "\u001b[A\u001b[A\n",
      "61it [00:01, 38.32it/s]\n",
      "\n",
      "\u001b[A\u001b[A\n",
      "65it [00:01, 37.65it/s]\n",
      "\n",
      "\u001b[A\u001b[A\n",
      "70it [00:01, 39.86it/s]\n",
      "\u001b[A\n",
      "\n",
      "75it [00:01, 36.83it/s]\n",
      "\u001b[A\n",
      "\n",
      "79it [00:02, 35.64it/s]\n",
      "\u001b[A\n",
      "\n",
      "84it [00:02, 38.56it/s]\n",
      "89it [00:02, 41.15it/s]\n",
      "\n",
      "94it [00:02, 42.34it/s]\n",
      "95it [00:02, 39.67it/s]\n",
      "\n",
      "\n",
      "\u001b[A\u001b[A\n",
      "\u001b[A\n",
      "\n",
      "\u001b[A\u001b[A\n",
      "\u001b[A\n",
      "\n",
      "\u001b[A\u001b[A\n",
      "\u001b[A\n",
      "\n",
      "95it [00:02, 34.10it/s]\n",
      "\n",
      "\n",
      "\u001b[A\u001b[A\n",
      "\n",
      "\u001b[A\u001b[A\n",
      "\n",
      "\u001b[A\u001b[A\n",
      "\n",
      "\u001b[A\u001b[A\n",
      "\n",
      "\u001b[A\u001b[A\n",
      "\n",
      "\u001b[A\u001b[A\n",
      "\n",
      "95it [00:03, 26.21it/s]\n"
     ]
    },
    {
     "name": "stdout",
     "output_type": "stream",
     "text": [
      "Initialization complete\n",
      "Iteration 0, inertia 445409024.0.\n",
      "Iteration 1, inertia 312986816.0.\n",
      "Iteration 2, inertia 306278400.0.\n",
      "Iteration 3, inertia 303046624.0.\n",
      "Iteration 4, inertia 301620928.0.\n",
      "Iteration 5, inertia 300798976.0.\n",
      "Iteration 6, inertia 300395904.0.\n",
      "Iteration 7, inertia 300214944.0.\n",
      "Iteration 8, inertia 300117664.0.\n",
      "Iteration 9, inertia 300064256.0.\n",
      "Converged at iteration 9: strict convergence.\n"
     ]
    }
   ],
   "source": [
    "(train_features, kmeans) = extract_and_process_features(train_dir, images_names, kmeans=None, sift_info=sift_info, gabor_obj=gabor_obj, color=color, lbp_info=lbp_info)"
   ]
  },
  {
   "cell_type": "markdown",
   "metadata": {},
   "source": [
    "## Standard classification"
   ]
  },
  {
   "cell_type": "markdown",
   "metadata": {},
   "source": [
    "Common code for features extraction from validation set"
   ]
  },
  {
   "cell_type": "code",
   "execution_count": 4,
   "metadata": {},
   "outputs": [
    {
     "name": "stderr",
     "output_type": "stream",
     "text": [
      "0it [00:00, ?it/s]\n",
      "\u001b[A\n",
      "\n",
      "2it [00:00, 15.41it/s]\n",
      "\n",
      "\u001b[A\u001b[A\n",
      "5it [00:00, 19.08it/s]\n",
      "\n",
      "\u001b[A\u001b[A\n",
      "100it [00:00, 295.60it/s]\n",
      "\n",
      "7it [00:00, 18.23it/s]\n",
      "\n",
      "\u001b[A\u001b[A\n",
      "\n",
      "\u001b[A\u001b[A\n",
      "11it [00:00, 21.51it/s]\n",
      "\u001b[A\n",
      "\n",
      "14it [00:00, 22.28it/s]\n",
      "\u001b[A\n",
      "\n",
      "17it [00:00, 22.36it/s]\n",
      "\n",
      "\u001b[A\u001b[A\n",
      "20it [00:00, 23.61it/s]\n",
      "\n",
      "\u001b[A\u001b[A\n",
      "24it [00:01, 26.57it/s]\n",
      "\n",
      "\u001b[A\u001b[A\n",
      "27it [00:01, 27.26it/s]\n",
      "\n",
      "30it [00:01, 25.50it/s]\n",
      "\u001b[A\n",
      "\n",
      "33it [00:01, 25.21it/s]\n",
      "\u001b[A\n",
      "\n",
      "37it [00:01, 28.25it/s]\n",
      "\u001b[A\n",
      "\n",
      "41it [00:01, 29.97it/s]\n",
      "\u001b[A\n",
      "\n",
      "\u001b[A\u001b[A\n",
      "\u001b[A\n",
      "\n",
      "45it [00:01, 25.52it/s]\n",
      "\u001b[A\n",
      "\n",
      "48it [00:01, 26.13it/s]\n",
      "\u001b[A\n",
      "\n",
      "51it [00:02, 26.23it/s]\n",
      "\n",
      "\u001b[A\u001b[A\n",
      "54it [00:02, 25.67it/s]\n",
      "\n",
      "\u001b[A\u001b[A\n",
      "57it [00:02, 25.58it/s]\n",
      "\n",
      "\u001b[A\u001b[A\n",
      "60it [00:02, 25.84it/s]\n",
      "100it [00:02, 40.41it/s]\n",
      "63it [00:02, 24.94it/s]\n",
      "67it [00:02, 28.45it/s]\n",
      "100it [00:02, 37.15it/s]\n",
      "100it [00:03, 28.38it/s]\n"
     ]
    }
   ],
   "source": [
    "(validation_features, kmeans) = extract_and_process_features(train_dir, val_image_names, kmeans=kmeans, sift_info=sift_info, gabor_obj=gabor_obj, color=color, lbp_info=lbp_info)"
   ]
  },
  {
   "cell_type": "code",
   "execution_count": null,
   "metadata": {},
   "outputs": [],
   "source": [
    "train_and_val_features = train_features.copy();\n",
    "train_and_val_features = np.concatenate((train_and_val_features, validation_features))\n",
    "\n",
    "all_labels = train_labels.copy()\n",
    "all_labels = np.concatenate((all_labels, val_labels))"
   ]
  },
  {
   "cell_type": "markdown",
   "metadata": {},
   "source": [
    "### SVM"
   ]
  },
  {
   "cell_type": "code",
   "execution_count": 24,
   "metadata": {},
   "outputs": [],
   "source": [
    "from sklearn import svm\n",
    "from sklearn.model_selection import cross_validate\n",
    "\n",
    "clf = svm.SVC(C=0.5)"
   ]
  },
  {
   "cell_type": "markdown",
   "metadata": {},
   "source": [
    "Evaluation"
   ]
  },
  {
   "cell_type": "code",
   "execution_count": 35,
   "metadata": {},
   "outputs": [
    {
     "name": "stderr",
     "output_type": "stream",
     "text": [
      "/home/gio/Documents/visual/Noisy-FoodX-251-Classification/.venv/lib/python3.11/site-packages/sklearn/model_selection/_split.py:737: UserWarning: The least populated class in y has only 1 members, which is less than n_splits=5.\n",
      "  warnings.warn(\n"
     ]
    }
   ],
   "source": [
    "scores = cross_validate(clf, train_and_val_features, all_labels, cv=5)"
   ]
  },
  {
   "cell_type": "code",
   "execution_count": 36,
   "metadata": {},
   "outputs": [
    {
     "name": "stdout",
     "output_type": "stream",
     "text": [
      "{'fit_time': array([0.01554155, 0.01549411, 0.01541781, 0.01510024, 0.01501536]), 'score_time': array([0.00334811, 0.0030787 , 0.00326753, 0.0029242 , 0.0032208 ]), 'test_score': array([0.02564103, 0.02564103, 0.02564103, 0.02564103, 0.02564103])}\n"
     ]
    }
   ],
   "source": [
    "print(scores)"
   ]
  },
  {
   "cell_type": "markdown",
   "metadata": {},
   "source": [
    "## Neural network classification"
   ]
  },
  {
   "cell_type": "code",
   "execution_count": 7,
   "metadata": {},
   "outputs": [
    {
     "name": "stderr",
     "output_type": "stream",
     "text": [
      "2024-01-01 15:39:45.016779: E external/local_xla/xla/stream_executor/cuda/cuda_dnn.cc:9261] Unable to register cuDNN factory: Attempting to register factory for plugin cuDNN when one has already been registered\n",
      "2024-01-01 15:39:45.016820: E external/local_xla/xla/stream_executor/cuda/cuda_fft.cc:607] Unable to register cuFFT factory: Attempting to register factory for plugin cuFFT when one has already been registered\n",
      "2024-01-01 15:39:45.054597: E external/local_xla/xla/stream_executor/cuda/cuda_blas.cc:1515] Unable to register cuBLAS factory: Attempting to register factory for plugin cuBLAS when one has already been registered\n",
      "2024-01-01 15:39:45.126713: I tensorflow/core/platform/cpu_feature_guard.cc:182] This TensorFlow binary is optimized to use available CPU instructions in performance-critical operations.\n",
      "To enable the following instructions: AVX2 FMA, in other operations, rebuild TensorFlow with the appropriate compiler flags.\n",
      "2024-01-01 15:39:46.526696: W tensorflow/compiler/tf2tensorrt/utils/py_utils.cc:38] TF-TRT Warning: Could not find TensorRT\n",
      "2024-01-01 15:39:47.359668: I external/local_xla/xla/stream_executor/cuda/cuda_executor.cc:901] successful NUMA node read from SysFS had negative value (-1), but there must be at least one NUMA node, so returning NUMA node zero. See more at https://github.com/torvalds/linux/blob/v6.0/Documentation/ABI/testing/sysfs-bus-pci#L344-L355\n",
      "2024-01-01 15:39:47.489462: I external/local_xla/xla/stream_executor/cuda/cuda_executor.cc:901] successful NUMA node read from SysFS had negative value (-1), but there must be at least one NUMA node, so returning NUMA node zero. See more at https://github.com/torvalds/linux/blob/v6.0/Documentation/ABI/testing/sysfs-bus-pci#L344-L355\n",
      "2024-01-01 15:39:47.489931: I external/local_xla/xla/stream_executor/cuda/cuda_executor.cc:901] successful NUMA node read from SysFS had negative value (-1), but there must be at least one NUMA node, so returning NUMA node zero. See more at https://github.com/torvalds/linux/blob/v6.0/Documentation/ABI/testing/sysfs-bus-pci#L344-L355\n",
      "2024-01-01 15:39:47.491940: I external/local_xla/xla/stream_executor/cuda/cuda_executor.cc:901] successful NUMA node read from SysFS had negative value (-1), but there must be at least one NUMA node, so returning NUMA node zero. See more at https://github.com/torvalds/linux/blob/v6.0/Documentation/ABI/testing/sysfs-bus-pci#L344-L355\n",
      "2024-01-01 15:39:47.492426: I external/local_xla/xla/stream_executor/cuda/cuda_executor.cc:901] successful NUMA node read from SysFS had negative value (-1), but there must be at least one NUMA node, so returning NUMA node zero. See more at https://github.com/torvalds/linux/blob/v6.0/Documentation/ABI/testing/sysfs-bus-pci#L344-L355\n",
      "2024-01-01 15:39:47.492571: I external/local_xla/xla/stream_executor/cuda/cuda_executor.cc:901] successful NUMA node read from SysFS had negative value (-1), but there must be at least one NUMA node, so returning NUMA node zero. See more at https://github.com/torvalds/linux/blob/v6.0/Documentation/ABI/testing/sysfs-bus-pci#L344-L355\n",
      "2024-01-01 15:39:47.554266: I external/local_xla/xla/stream_executor/cuda/cuda_executor.cc:901] successful NUMA node read from SysFS had negative value (-1), but there must be at least one NUMA node, so returning NUMA node zero. See more at https://github.com/torvalds/linux/blob/v6.0/Documentation/ABI/testing/sysfs-bus-pci#L344-L355\n",
      "2024-01-01 15:39:47.554438: I external/local_xla/xla/stream_executor/cuda/cuda_executor.cc:901] successful NUMA node read from SysFS had negative value (-1), but there must be at least one NUMA node, so returning NUMA node zero. See more at https://github.com/torvalds/linux/blob/v6.0/Documentation/ABI/testing/sysfs-bus-pci#L344-L355\n",
      "2024-01-01 15:39:47.554600: I external/local_xla/xla/stream_executor/cuda/cuda_executor.cc:901] successful NUMA node read from SysFS had negative value (-1), but there must be at least one NUMA node, so returning NUMA node zero. See more at https://github.com/torvalds/linux/blob/v6.0/Documentation/ABI/testing/sysfs-bus-pci#L344-L355\n",
      "2024-01-01 15:39:47.554691: I tensorflow/core/common_runtime/gpu/gpu_device.cc:1929] Created device /job:localhost/replica:0/task:0/device:GPU:0 with 2995 MB memory:  -> device: 0, name: NVIDIA GeForce GTX 970, pci bus id: 0000:01:00.0, compute capability: 5.2\n"
     ]
    }
   ],
   "source": [
    "from tensorflow import keras\n",
    "\n",
    "model = keras.Sequential([\n",
    "    keras.Input(shape=390),\n",
    "    keras.layers.Dense(200, activation='relu'),\n",
    "    keras.layers.Dropout(0.3),\n",
    "    keras.layers.Dense(251, activation='softmax')\n",
    "])\n",
    "\n",
    "model.compile(optimizer=\"adam\", loss='categorical_crossentropy', metrics=['accuracy'], run_eagerly=True)"
   ]
  },
  {
   "cell_type": "code",
   "execution_count": 8,
   "metadata": {},
   "outputs": [
    {
     "ename": "NameError",
     "evalue": "name 'all_features' is not defined",
     "output_type": "error",
     "traceback": [
      "\u001b[0;31m---------------------------------------------------------------------------\u001b[0m",
      "\u001b[0;31mNameError\u001b[0m                                 Traceback (most recent call last)",
      "Cell \u001b[0;32mIn[8], line 8\u001b[0m\n\u001b[1;32m      4\u001b[0m labels \u001b[38;5;241m=\u001b[39m keras\u001b[38;5;241m.\u001b[39mutils\u001b[38;5;241m.\u001b[39mto_categorical(sampling[\u001b[38;5;124m'\u001b[39m\u001b[38;5;124mlabel\u001b[39m\u001b[38;5;124m'\u001b[39m]\u001b[38;5;241m.\u001b[39mvalues\u001b[38;5;241m.\u001b[39mtolist(), num_classes\u001b[38;5;241m=\u001b[39m\u001b[38;5;241m251\u001b[39m)\n\u001b[1;32m      6\u001b[0m \u001b[38;5;28;01mfor\u001b[39;00m epoch \u001b[38;5;129;01min\u001b[39;00m \u001b[38;5;28mrange\u001b[39m(epoch_num):\n\u001b[1;32m      7\u001b[0m     \u001b[38;5;66;03m#df = df.sample(frac=1);\u001b[39;00m\n\u001b[0;32m----> 8\u001b[0m     model\u001b[38;5;241m.\u001b[39mfit(\u001b[43mall_features\u001b[49m, labels, batch_size\u001b[38;5;241m=\u001b[39m\u001b[38;5;241m100\u001b[39m, shuffle\u001b[38;5;241m=\u001b[39m\u001b[38;5;28;01mTrue\u001b[39;00m, validation_split\u001b[38;5;241m=\u001b[39m\u001b[38;5;241m0.1\u001b[39m);\n",
      "\u001b[0;31mNameError\u001b[0m: name 'all_features' is not defined"
     ]
    }
   ],
   "source": [
    "import pandas as pd\n",
    "epoch_num = 40;\n",
    "\n",
    "labels = keras.utils.to_categorical(train_labels.tolist(), num_classes=251)\n",
    "\n",
    "for epoch in range(epoch_num):\n",
    "    model.fit(train_features, labels, batch_size=100, shuffle=True, validation_split=0.1);"
   ]
  },
  {
   "cell_type": "code",
   "execution_count": null,
   "metadata": {},
   "outputs": [],
   "source": [
    "val_labels = keras.utils.to_categorical(val_labels.tolist(), num_classes=251);\n",
    "res = model.evaluate(validation_features, val_labels)"
   ]
  }
 ],
 "metadata": {
  "kernelspec": {
   "display_name": ".venv",
   "language": "python",
   "name": "python3"
  },
  "language_info": {
   "codemirror_mode": {
    "name": "ipython",
    "version": 3
   },
   "file_extension": ".py",
   "mimetype": "text/x-python",
   "name": "python",
   "nbconvert_exporter": "python",
   "pygments_lexer": "ipython3",
   "version": "3.11.2"
  }
 },
 "nbformat": 4,
 "nbformat_minor": 2
}
