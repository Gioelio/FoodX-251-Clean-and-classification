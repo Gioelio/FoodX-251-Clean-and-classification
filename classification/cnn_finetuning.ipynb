{
 "cells": [
  {
   "cell_type": "code",
   "execution_count": null,
   "id": "initial_id",
   "metadata": {
    "ExecuteTime": {
     "end_time": "2024-01-01T19:29:00.843048380Z",
     "start_time": "2024-01-01T19:29:00.331543026Z"
    },
    "collapsed": true
   },
   "outputs": [],
   "source": [
    "import sys\n",
    "sys.path.append('..')\n",
    "\n",
    "from misc import load, load_class_labels\n",
    "\n",
    "dataset_root = \"../dataset/\"\n",
    "\n",
    "train_dir = dataset_root + \"train_set/\"\n",
    "val_dir = dataset_root + \"val_set/\"\n",
    "val_degraded_dir = dataset_root + \"val_set_degraded/\"\n",
    "\n",
    "sample_rate = 1\n",
    "train_info = load(dataset_root + 'labels/train_info_cleaned.csv', 1, sample_rate)\n",
    "test_info = load(dataset_root + 'labels/test.csv')\n",
    "val_info = load(dataset_root + 'labels/validation.csv')\n",
    "\n",
    "train_image_names = train_info.iloc[:, 0].values\n",
    "val_image_names = val_info.iloc[:, 0].values\n",
    "test_image_names = test_info.iloc[:, 0].values\n",
    "\n",
    "train_labels = train_info.iloc[:, 1].values\n",
    "val_labels = val_info.iloc[:, 1].values\n",
    "test_labels = test_info.iloc[:, 1].values\n",
    "\n",
    "class_labels = load_class_labels(dataset_root + 'classes.txt')"
   ]
  },
  {
   "cell_type": "code",
   "execution_count": null,
   "id": "870af5e1e265a1c7",
   "metadata": {
    "ExecuteTime": {
     "end_time": "2024-01-01T19:29:42.468814520Z",
     "start_time": "2024-01-01T19:29:38.998792419Z"
    },
    "collapsed": false
   },
   "outputs": [],
   "source": [
    "from cnn_classification import build_finetune_network, train_network\n",
    "from tensorflow import keras\n",
    "from keras.applications.efficientnet_v2 import EfficientNetV2B0, preprocess_input\n",
    "\n",
    "save_path = \"./models/efficientnet_v2_standard\""
   ]
  },
  {
   "cell_type": "code",
   "execution_count": null,
   "id": "adb0f2e7a1869bd2",
   "metadata": {
    "ExecuteTime": {
     "end_time": "2024-01-01T18:04:26.099745399Z",
     "start_time": "2024-01-01T15:34:34.440532148Z"
    },
    "collapsed": false
   },
   "outputs": [],
   "source": [
    "extension = keras.Sequential([\n",
    "    keras.layers.Flatten(),\n",
    "    keras.layers.Dense(251, activation='softmax')])\n",
    "\n",
    "loss = 'categorical_crossentropy'\n",
    "optimizer = 'adam'\n",
    "metrics = ['accuracy', keras.metrics.TopKCategoricalAccuracy(3)]\n",
    "\n",
    "cut_layer = 'top_dropout'\n",
    "non_trainable_cut_layer = 'block5e_add'\n",
    "\n",
    "extended_model = build_finetune_network(EfficientNetV2B0, extension, cut_layer,\n",
    "                                        optimizer, metrics, loss, non_trainable_cut_layer=non_trainable_cut_layer)"
   ]
  },
  {
   "cell_type": "code",
   "execution_count": null,
   "id": "afd8cd90",
   "metadata": {},
   "outputs": [],
   "source": [
    "train_loss, train_accuracy, val_loss, val_accuracy = train_network(extended_model,\n",
    "                                                                   save_path,\n",
    "                                                                   train_info,\n",
    "                                                                   val_info,\n",
    "                                                                   train_dir,\n",
    "                                                                   epochs=10,\n",
    "                                                                   augment=True,\n",
    "                                                                   strong_augment=False,\n",
    "                                                                   batch_size=64,\n",
    "                                                                   preprocess_input=preprocess_input)"
   ]
  },
  {
   "cell_type": "code",
   "execution_count": null,
   "id": "482a20b47c18bdcc",
   "metadata": {
    "ExecuteTime": {
     "end_time": "2024-01-01T19:48:57.314585619Z",
     "start_time": "2024-01-01T19:47:03.062154811Z"
    },
    "collapsed": false
   },
   "outputs": [],
   "source": [
    "from tensorflow import keras\n",
    "from cnn_classification import evaluate_model, predict\n",
    "\n",
    "model = keras.models.load_model(save_path)\n",
    "predictions, names = predict(model, val_dir, 64, preprocess_input=preprocess_input)"
   ]
  },
  {
   "cell_type": "code",
   "execution_count": null,
   "id": "9c5d399c68c623d0",
   "metadata": {
    "ExecuteTime": {
     "end_time": "2024-01-01T19:50:03.897394022Z",
     "start_time": "2024-01-01T19:49:05.237979489Z"
    },
    "collapsed": false
   },
   "outputs": [],
   "source": [
    "from sklearn.metrics import confusion_matrix, ConfusionMatrixDisplay\n",
    "import matplotlib.pyplot as plt\n",
    "import numpy as np\n",
    "\n",
    "ordered_indices = np.argsort(names)\n",
    "predictions = np.array(predictions)\n",
    "ordered_names = np.argsort(test_image_names)\n",
    "\n",
    "predictions_logit = np.argmax(predictions[ordered_indices], axis=1)\n",
    "ordered_y = test_labels[ordered_names]\n",
    "\n",
    "\n",
    "cm = confusion_matrix(ordered_y, predictions_logit)\n",
    "disp = ConfusionMatrixDisplay(cm)\n",
    "disp.plot()\n",
    "plt.show()"
   ]
  },
  {
   "cell_type": "code",
   "execution_count": null,
   "id": "22f7c7b4fe4c10c9",
   "metadata": {
    "ExecuteTime": {
     "end_time": "2024-01-01T19:50:07.414649238Z",
     "start_time": "2024-01-01T19:50:07.388742795Z"
    },
    "collapsed": false
   },
   "outputs": [],
   "source": [
    "cm.diagonal().sum() / cm.sum()"
   ]
  },
  {
   "cell_type": "code",
   "execution_count": null,
   "id": "8b78d472b71b68e8",
   "metadata": {
    "ExecuteTime": {
     "end_time": "2024-01-01T19:50:20.286509811Z",
     "start_time": "2024-01-01T19:50:20.244253529Z"
    },
    "collapsed": false
   },
   "outputs": [],
   "source": [
    "from sklearn.metrics import classification_report\n",
    "\n",
    "print(classification_report(ordered_y, predictions_logit, target_names=class_labels))"
   ]
  },
  {
   "cell_type": "code",
   "execution_count": null,
   "id": "b8510ef0",
   "metadata": {},
   "outputs": [],
   "source": [
    "def top_k(k = 1):\n",
    "    ohe = keras.utils.to_categorical(ordered_y, num_classes=251)\n",
    "    m = keras.metrics.TopKCategoricalAccuracy(k)\n",
    "    ordered_pred = predictions[ordered_indices]\n",
    "    m.update_state(ohe, ordered_pred)\n",
    "    return m.result().numpy()"
   ]
  },
  {
   "cell_type": "code",
   "execution_count": null,
   "id": "f2d3c1ef",
   "metadata": {},
   "outputs": [],
   "source": [
    "top_k(1)"
   ]
  },
  {
   "cell_type": "code",
   "execution_count": null,
   "id": "af208cc4",
   "metadata": {},
   "outputs": [],
   "source": [
    "top_k(3)"
   ]
  }
 ],
 "metadata": {
  "kernelspec": {
   "display_name": "Python 3",
   "language": "python",
   "name": "python3"
  },
  "language_info": {
   "codemirror_mode": {
    "name": "ipython",
    "version": 3
   },
   "file_extension": ".py",
   "mimetype": "text/x-python",
   "name": "python",
   "nbconvert_exporter": "python",
   "pygments_lexer": "ipython3",
   "version": "3.11.2"
  }
 },
 "nbformat": 4,
 "nbformat_minor": 5
}
