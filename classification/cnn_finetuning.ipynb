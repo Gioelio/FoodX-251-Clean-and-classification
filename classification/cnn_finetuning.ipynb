{
 "cells": [
  {
   "cell_type": "code",
   "execution_count": 1,
   "id": "initial_id",
   "metadata": {
    "collapsed": true,
    "ExecuteTime": {
     "end_time": "2024-01-01T19:29:00.843048380Z",
     "start_time": "2024-01-01T19:29:00.331543026Z"
    }
   },
   "outputs": [],
   "source": [
    "from misc import load, load_class_labels\n",
    "\n",
    "dataset_root = \"../dataset/\"\n",
    "\n",
    "train_dir = dataset_root + \"train_set/\"\n",
    "val_dir = dataset_root + \"val_set/\"\n",
    "val_degraded_dir = dataset_root + \"val_set_degraded/\"\n",
    "\n",
    "sample_rate = 1\n",
    "train_info = load(dataset_root + 'labels/train_info_cleaned.csv', 1, sample_rate)\n",
    "test_info = load(dataset_root + 'labels/test.csv')\n",
    "val_info = load(dataset_root + 'labels/validation.csv')\n",
    "\n",
    "train_image_names = train_info.iloc[:, 0].values\n",
    "val_image_names = val_info.iloc[:, 0].values\n",
    "test_image_names = test_info.iloc[:, 0].values\n",
    "\n",
    "train_labels = train_info.iloc[:, 1].values\n",
    "val_labels = val_info.iloc[:, 1].values\n",
    "test_labels = test_info.iloc[:, 1].values\n",
    "\n",
    "class_labels = load_class_labels(dataset_root + 'classes.txt')"
   ]
  },
  {
   "cell_type": "code",
   "outputs": [
    {
     "name": "stderr",
     "output_type": "stream",
     "text": [
      "2024-01-01 20:29:40.121230: E external/local_xla/xla/stream_executor/cuda/cuda_dnn.cc:9261] Unable to register cuDNN factory: Attempting to register factory for plugin cuDNN when one has already been registered\n",
      "2024-01-01 20:29:40.121289: E external/local_xla/xla/stream_executor/cuda/cuda_fft.cc:607] Unable to register cuFFT factory: Attempting to register factory for plugin cuFFT when one has already been registered\n",
      "2024-01-01 20:29:40.176394: E external/local_xla/xla/stream_executor/cuda/cuda_blas.cc:1515] Unable to register cuBLAS factory: Attempting to register factory for plugin cuBLAS when one has already been registered\n",
      "2024-01-01 20:29:40.288584: I tensorflow/core/platform/cpu_feature_guard.cc:182] This TensorFlow binary is optimized to use available CPU instructions in performance-critical operations.\n",
      "To enable the following instructions: AVX2 FMA, in other operations, rebuild TensorFlow with the appropriate compiler flags.\n",
      "2024-01-01 20:29:41.357989: W tensorflow/compiler/tf2tensorrt/utils/py_utils.cc:38] TF-TRT Warning: Could not find TensorRT\n"
     ]
    }
   ],
   "source": [
    "from cnn_classification import build_finetune_network, train_network\n",
    "from tensorflow import keras\n",
    "from keras.applications.efficientnet_v2 import EfficientNetV2B0, preprocess_input\n",
    "\n",
    "save_path = \"./models/efficientnet_v2_standard\""
   ],
   "metadata": {
    "collapsed": false,
    "ExecuteTime": {
     "end_time": "2024-01-01T19:29:42.468814520Z",
     "start_time": "2024-01-01T19:29:38.998792419Z"
    }
   },
   "id": "870af5e1e265a1c7",
   "execution_count": 3
  },
  {
   "cell_type": "code",
   "outputs": [
    {
     "name": "stderr",
     "output_type": "stream",
     "text": [
      "2024-01-01 16:34:35.187008: E external/local_xla/xla/stream_executor/cuda/cuda_dnn.cc:9261] Unable to register cuDNN factory: Attempting to register factory for plugin cuDNN when one has already been registered\n",
      "2024-01-01 16:34:35.187049: E external/local_xla/xla/stream_executor/cuda/cuda_fft.cc:607] Unable to register cuFFT factory: Attempting to register factory for plugin cuFFT when one has already been registered\n",
      "2024-01-01 16:34:35.197166: E external/local_xla/xla/stream_executor/cuda/cuda_blas.cc:1515] Unable to register cuBLAS factory: Attempting to register factory for plugin cuBLAS when one has already been registered\n",
      "2024-01-01 16:34:35.257544: I tensorflow/core/platform/cpu_feature_guard.cc:182] This TensorFlow binary is optimized to use available CPU instructions in performance-critical operations.\n",
      "To enable the following instructions: AVX2 FMA, in other operations, rebuild TensorFlow with the appropriate compiler flags.\n",
      "2024-01-01 16:34:36.247430: W tensorflow/compiler/tf2tensorrt/utils/py_utils.cc:38] TF-TRT Warning: Could not find TensorRT\n",
      "2024-01-01 16:34:37.419478: I external/local_xla/xla/stream_executor/cuda/cuda_executor.cc:901] successful NUMA node read from SysFS had negative value (-1), but there must be at least one NUMA node, so returning NUMA node zero. See more at https://github.com/torvalds/linux/blob/v6.0/Documentation/ABI/testing/sysfs-bus-pci#L344-L355\n",
      "2024-01-01 16:34:37.611409: I external/local_xla/xla/stream_executor/cuda/cuda_executor.cc:901] successful NUMA node read from SysFS had negative value (-1), but there must be at least one NUMA node, so returning NUMA node zero. See more at https://github.com/torvalds/linux/blob/v6.0/Documentation/ABI/testing/sysfs-bus-pci#L344-L355\n",
      "2024-01-01 16:34:37.611610: I external/local_xla/xla/stream_executor/cuda/cuda_executor.cc:901] successful NUMA node read from SysFS had negative value (-1), but there must be at least one NUMA node, so returning NUMA node zero. See more at https://github.com/torvalds/linux/blob/v6.0/Documentation/ABI/testing/sysfs-bus-pci#L344-L355\n",
      "2024-01-01 16:34:37.612732: I external/local_xla/xla/stream_executor/cuda/cuda_executor.cc:901] successful NUMA node read from SysFS had negative value (-1), but there must be at least one NUMA node, so returning NUMA node zero. See more at https://github.com/torvalds/linux/blob/v6.0/Documentation/ABI/testing/sysfs-bus-pci#L344-L355\n",
      "2024-01-01 16:34:37.612962: I external/local_xla/xla/stream_executor/cuda/cuda_executor.cc:901] successful NUMA node read from SysFS had negative value (-1), but there must be at least one NUMA node, so returning NUMA node zero. See more at https://github.com/torvalds/linux/blob/v6.0/Documentation/ABI/testing/sysfs-bus-pci#L344-L355\n",
      "2024-01-01 16:34:37.613115: I external/local_xla/xla/stream_executor/cuda/cuda_executor.cc:901] successful NUMA node read from SysFS had negative value (-1), but there must be at least one NUMA node, so returning NUMA node zero. See more at https://github.com/torvalds/linux/blob/v6.0/Documentation/ABI/testing/sysfs-bus-pci#L344-L355\n",
      "2024-01-01 16:34:39.027209: I external/local_xla/xla/stream_executor/cuda/cuda_executor.cc:901] successful NUMA node read from SysFS had negative value (-1), but there must be at least one NUMA node, so returning NUMA node zero. See more at https://github.com/torvalds/linux/blob/v6.0/Documentation/ABI/testing/sysfs-bus-pci#L344-L355\n",
      "2024-01-01 16:34:39.027407: I external/local_xla/xla/stream_executor/cuda/cuda_executor.cc:901] successful NUMA node read from SysFS had negative value (-1), but there must be at least one NUMA node, so returning NUMA node zero. See more at https://github.com/torvalds/linux/blob/v6.0/Documentation/ABI/testing/sysfs-bus-pci#L344-L355\n",
      "2024-01-01 16:34:39.027573: I external/local_xla/xla/stream_executor/cuda/cuda_executor.cc:901] successful NUMA node read from SysFS had negative value (-1), but there must be at least one NUMA node, so returning NUMA node zero. See more at https://github.com/torvalds/linux/blob/v6.0/Documentation/ABI/testing/sysfs-bus-pci#L344-L355\n",
      "2024-01-01 16:34:39.029524: I tensorflow/core/common_runtime/gpu/gpu_device.cc:1929] Created device /job:localhost/replica:0/task:0/device:GPU:0 with 2741 MB memory:  -> device: 0, name: NVIDIA GeForce GTX 980, pci bus id: 0000:05:00.0, compute capability: 5.2\n",
      "2024-01-01 16:34:50.057862: E tensorflow/core/grappler/optimizers/meta_optimizer.cc:961] layout failed: INVALID_ARGUMENT: Size of values 0 does not match size of permutation 4 @ fanin shape insequential_1/model/block2b_drop/dropout/SelectV2-2-TransposeNHWCToNCHW-LayoutOptimizer\n",
      "2024-01-01 16:34:53.822188: I external/local_xla/xla/stream_executor/cuda/cuda_dnn.cc:454] Loaded cuDNN version 8904\n",
      "2024-01-01 16:34:58.854343: I external/local_xla/xla/service/service.cc:168] XLA service 0x7f51a2d2f3f0 initialized for platform CUDA (this does not guarantee that XLA will be used). Devices:\n",
      "2024-01-01 16:34:58.854370: I external/local_xla/xla/service/service.cc:176]   StreamExecutor device (0): NVIDIA GeForce GTX 980, Compute Capability 5.2\n",
      "2024-01-01 16:34:58.876630: I tensorflow/compiler/mlir/tensorflow/utils/dump_mlir_util.cc:269] disabling MLIR crash reproducer, set env var `MLIR_CRASH_REPRODUCER_DIRECTORY` to enable.\n",
      "WARNING: All log messages before absl::InitializeLog() is called are written to STDERR\n",
      "I0000 00:00:1704123299.037434   39836 device_compiler.h:186] Compiled cluster using XLA!  This line is logged at most once for the lifetime of the process.\n"
     ]
    },
    {
     "name": "stdout",
     "output_type": "stream",
     "text": [
      "Epoch 1/10 iteration 1158/1159 Loss:     3.4854 Accuracy:     0.3158"
     ]
    },
    {
     "name": "stderr",
     "output_type": "stream",
     "text": [
      "2024-01-01 16:46:32.097633: E tensorflow/core/grappler/optimizers/meta_optimizer.cc:961] layout failed: INVALID_ARGUMENT: Size of values 0 does not match size of permutation 4 @ fanin shape insequential_1/model/block2b_drop/dropout/SelectV2-2-TransposeNHWCToNCHW-LayoutOptimizer\n"
     ]
    },
    {
     "name": "stdout",
     "output_type": "stream",
     "text": [
      "Epoch 1/10 iteration 1159/1159 Loss:     3.4850 Accuracy:     0.3158 Validation Loss:     3.8127, Validation accuracy:     0.3603\n",
      "INFO:tensorflow:Assets written to: ./models/efficientnet_v2_standard/assets\n"
     ]
    },
    {
     "name": "stderr",
     "output_type": "stream",
     "text": [
      "INFO:tensorflow:Assets written to: ./models/efficientnet_v2_standard/assets\n",
      "2024-01-01 16:50:06.311156: E tensorflow/core/grappler/optimizers/meta_optimizer.cc:961] layout failed: INVALID_ARGUMENT: Size of values 0 does not match size of permutation 4 @ fanin shape insequential_1/model/block2b_drop/dropout/SelectV2-2-TransposeNHWCToNCHW-LayoutOptimizer\n"
     ]
    },
    {
     "name": "stdout",
     "output_type": "stream",
     "text": [
      "Epoch 2/10 iteration 1158/1159 Loss:     2.8060 Accuracy:     0.4484"
     ]
    },
    {
     "name": "stderr",
     "output_type": "stream",
     "text": [
      "2024-01-01 17:01:37.206434: E tensorflow/core/grappler/optimizers/meta_optimizer.cc:961] layout failed: INVALID_ARGUMENT: Size of values 0 does not match size of permutation 4 @ fanin shape insequential_1/model/block2b_drop/dropout/SelectV2-2-TransposeNHWCToNCHW-LayoutOptimizer\n"
     ]
    },
    {
     "name": "stdout",
     "output_type": "stream",
     "text": [
      "Epoch 2/10 iteration 1159/1159 Loss:     2.8061 Accuracy:     0.4485 Validation Loss:     3.7460, Validation accuracy:     0.3982\n",
      "INFO:tensorflow:Assets written to: ./models/efficientnet_v2_standard/assets\n"
     ]
    },
    {
     "name": "stderr",
     "output_type": "stream",
     "text": [
      "INFO:tensorflow:Assets written to: ./models/efficientnet_v2_standard/assets\n",
      "2024-01-01 17:04:55.801418: E tensorflow/core/grappler/optimizers/meta_optimizer.cc:961] layout failed: INVALID_ARGUMENT: Size of values 0 does not match size of permutation 4 @ fanin shape insequential_1/model/block2b_drop/dropout/SelectV2-2-TransposeNHWCToNCHW-LayoutOptimizer\n"
     ]
    },
    {
     "name": "stdout",
     "output_type": "stream",
     "text": [
      "Epoch 3/10 iteration 1158/1159 Loss:     2.5264 Accuracy:     0.5000"
     ]
    },
    {
     "name": "stderr",
     "output_type": "stream",
     "text": [
      "2024-01-01 17:16:22.212718: E tensorflow/core/grappler/optimizers/meta_optimizer.cc:961] layout failed: INVALID_ARGUMENT: Size of values 0 does not match size of permutation 4 @ fanin shape insequential_1/model/block2b_drop/dropout/SelectV2-2-TransposeNHWCToNCHW-LayoutOptimizer\n"
     ]
    },
    {
     "name": "stdout",
     "output_type": "stream",
     "text": [
      "Epoch 3/10 iteration 1159/1159 Loss:     2.5264 Accuracy:     0.5000 Validation Loss:     3.6449, Validation accuracy:     0.4070\n",
      "INFO:tensorflow:Assets written to: ./models/efficientnet_v2_standard/assets\n"
     ]
    },
    {
     "name": "stderr",
     "output_type": "stream",
     "text": [
      "INFO:tensorflow:Assets written to: ./models/efficientnet_v2_standard/assets\n",
      "2024-01-01 17:19:39.896784: E tensorflow/core/grappler/optimizers/meta_optimizer.cc:961] layout failed: INVALID_ARGUMENT: Size of values 0 does not match size of permutation 4 @ fanin shape insequential_1/model/block2b_drop/dropout/SelectV2-2-TransposeNHWCToNCHW-LayoutOptimizer\n"
     ]
    },
    {
     "name": "stdout",
     "output_type": "stream",
     "text": [
      "Epoch 4/10 iteration 1158/1159 Loss:     2.2971 Accuracy:     0.5379"
     ]
    },
    {
     "name": "stderr",
     "output_type": "stream",
     "text": [
      "2024-01-01 17:31:10.115467: E tensorflow/core/grappler/optimizers/meta_optimizer.cc:961] layout failed: INVALID_ARGUMENT: Size of values 0 does not match size of permutation 4 @ fanin shape insequential_1/model/block2b_drop/dropout/SelectV2-2-TransposeNHWCToNCHW-LayoutOptimizer\n"
     ]
    },
    {
     "name": "stdout",
     "output_type": "stream",
     "text": [
      "Epoch 4/10 iteration 1159/1159 Loss:     2.2970 Accuracy:     0.5379 Validation Loss:     3.7480, Validation accuracy:     0.4156\n",
      "INFO:tensorflow:Assets written to: ./models/efficientnet_v2_standard/assets\n"
     ]
    },
    {
     "name": "stderr",
     "output_type": "stream",
     "text": [
      "INFO:tensorflow:Assets written to: ./models/efficientnet_v2_standard/assets\n",
      "2024-01-01 17:34:42.474730: E tensorflow/core/grappler/optimizers/meta_optimizer.cc:961] layout failed: INVALID_ARGUMENT: Size of values 0 does not match size of permutation 4 @ fanin shape insequential_1/model/block2b_drop/dropout/SelectV2-2-TransposeNHWCToNCHW-LayoutOptimizer\n"
     ]
    },
    {
     "name": "stdout",
     "output_type": "stream",
     "text": [
      "Epoch 5/10 iteration 1158/1159 Loss:     2.0981 Accuracy:     0.5702"
     ]
    },
    {
     "name": "stderr",
     "output_type": "stream",
     "text": [
      "2024-01-01 17:46:13.850132: E tensorflow/core/grappler/optimizers/meta_optimizer.cc:961] layout failed: INVALID_ARGUMENT: Size of values 0 does not match size of permutation 4 @ fanin shape insequential_1/model/block2b_drop/dropout/SelectV2-2-TransposeNHWCToNCHW-LayoutOptimizer\n"
     ]
    },
    {
     "name": "stdout",
     "output_type": "stream",
     "text": [
      "Epoch 5/10 iteration 1159/1159 Loss:     2.0979 Accuracy:     0.5703 Validation Loss:     3.7902, Validation accuracy:     0.4108\n",
      "INFO:tensorflow:Assets written to: ./models/efficientnet_v2_standard/assets\n"
     ]
    },
    {
     "name": "stderr",
     "output_type": "stream",
     "text": [
      "INFO:tensorflow:Assets written to: ./models/efficientnet_v2_standard/assets\n",
      "2024-01-01 17:49:57.614193: E tensorflow/core/grappler/optimizers/meta_optimizer.cc:961] layout failed: INVALID_ARGUMENT: Size of values 0 does not match size of permutation 4 @ fanin shape insequential_1/model/block2b_drop/dropout/SelectV2-2-TransposeNHWCToNCHW-LayoutOptimizer\n"
     ]
    },
    {
     "name": "stdout",
     "output_type": "stream",
     "text": [
      "Epoch 6/10 iteration 1158/1159 Loss:     1.9154 Accuracy:     0.5984"
     ]
    },
    {
     "name": "stderr",
     "output_type": "stream",
     "text": [
      "2024-01-01 18:01:20.702045: E tensorflow/core/grappler/optimizers/meta_optimizer.cc:961] layout failed: INVALID_ARGUMENT: Size of values 0 does not match size of permutation 4 @ fanin shape insequential_1/model/block2b_drop/dropout/SelectV2-2-TransposeNHWCToNCHW-LayoutOptimizer\n"
     ]
    },
    {
     "name": "stdout",
     "output_type": "stream",
     "text": [
      "Epoch 6/10 iteration 1159/1159 Loss:     1.9154 Accuracy:     0.5985 Validation Loss:     3.8721, Validation accuracy:     0.4165\n",
      "INFO:tensorflow:Assets written to: ./models/efficientnet_v2_standard/assets\n"
     ]
    },
    {
     "name": "stderr",
     "output_type": "stream",
     "text": [
      "INFO:tensorflow:Assets written to: ./models/efficientnet_v2_standard/assets\n",
      "2024-01-01 18:04:48.276260: E tensorflow/core/grappler/optimizers/meta_optimizer.cc:961] layout failed: INVALID_ARGUMENT: Size of values 0 does not match size of permutation 4 @ fanin shape insequential_1/model/block2b_drop/dropout/SelectV2-2-TransposeNHWCToNCHW-LayoutOptimizer\n"
     ]
    },
    {
     "name": "stdout",
     "output_type": "stream",
     "text": [
      "Epoch 7/10 iteration 1158/1159 Loss:     1.7352 Accuracy:     0.6268"
     ]
    },
    {
     "name": "stderr",
     "output_type": "stream",
     "text": [
      "2024-01-01 18:16:16.420269: E tensorflow/core/grappler/optimizers/meta_optimizer.cc:961] layout failed: INVALID_ARGUMENT: Size of values 0 does not match size of permutation 4 @ fanin shape insequential_1/model/block2b_drop/dropout/SelectV2-2-TransposeNHWCToNCHW-LayoutOptimizer\n"
     ]
    },
    {
     "name": "stdout",
     "output_type": "stream",
     "text": [
      "Epoch 7/10 iteration 1159/1159 Loss:     1.7354 Accuracy:     0.6267 Validation Loss:     3.9731, Validation accuracy:     0.4088\n",
      "INFO:tensorflow:Assets written to: ./models/efficientnet_v2_standard/assets\n"
     ]
    },
    {
     "name": "stderr",
     "output_type": "stream",
     "text": [
      "INFO:tensorflow:Assets written to: ./models/efficientnet_v2_standard/assets\n",
      "2024-01-01 18:20:04.243154: E tensorflow/core/grappler/optimizers/meta_optimizer.cc:961] layout failed: INVALID_ARGUMENT: Size of values 0 does not match size of permutation 4 @ fanin shape insequential_1/model/block2b_drop/dropout/SelectV2-2-TransposeNHWCToNCHW-LayoutOptimizer\n"
     ]
    },
    {
     "name": "stdout",
     "output_type": "stream",
     "text": [
      "Epoch 8/10 iteration 1158/1159 Loss:     1.5754 Accuracy:     0.6524"
     ]
    },
    {
     "name": "stderr",
     "output_type": "stream",
     "text": [
      "2024-01-01 18:31:22.345271: E tensorflow/core/grappler/optimizers/meta_optimizer.cc:961] layout failed: INVALID_ARGUMENT: Size of values 0 does not match size of permutation 4 @ fanin shape insequential_1/model/block2b_drop/dropout/SelectV2-2-TransposeNHWCToNCHW-LayoutOptimizer\n"
     ]
    },
    {
     "name": "stdout",
     "output_type": "stream",
     "text": [
      "Epoch 8/10 iteration 1159/1159 Loss:     1.5756 Accuracy:     0.6524 Validation Loss:     4.2307, Validation accuracy:     0.4052\n",
      "INFO:tensorflow:Assets written to: ./models/efficientnet_v2_standard/assets\n"
     ]
    },
    {
     "name": "stderr",
     "output_type": "stream",
     "text": [
      "INFO:tensorflow:Assets written to: ./models/efficientnet_v2_standard/assets\n",
      "2024-01-01 18:34:57.218520: E tensorflow/core/grappler/optimizers/meta_optimizer.cc:961] layout failed: INVALID_ARGUMENT: Size of values 0 does not match size of permutation 4 @ fanin shape insequential_1/model/block2b_drop/dropout/SelectV2-2-TransposeNHWCToNCHW-LayoutOptimizer\n"
     ]
    },
    {
     "name": "stdout",
     "output_type": "stream",
     "text": [
      "Epoch 9/10 iteration 1158/1159 Loss:     1.4256 Accuracy:     0.6749"
     ]
    },
    {
     "name": "stderr",
     "output_type": "stream",
     "text": [
      "2024-01-01 18:46:12.375526: E tensorflow/core/grappler/optimizers/meta_optimizer.cc:961] layout failed: INVALID_ARGUMENT: Size of values 0 does not match size of permutation 4 @ fanin shape insequential_1/model/block2b_drop/dropout/SelectV2-2-TransposeNHWCToNCHW-LayoutOptimizer\n"
     ]
    },
    {
     "name": "stdout",
     "output_type": "stream",
     "text": [
      "Epoch 9/10 iteration 1159/1159 Loss:     1.4257 Accuracy:     0.6749 Validation Loss:     4.2282, Validation accuracy:     0.4052\n",
      "INFO:tensorflow:Assets written to: ./models/efficientnet_v2_standard/assets\n"
     ]
    },
    {
     "name": "stderr",
     "output_type": "stream",
     "text": [
      "INFO:tensorflow:Assets written to: ./models/efficientnet_v2_standard/assets\n",
      "2024-01-01 18:50:05.640384: E tensorflow/core/grappler/optimizers/meta_optimizer.cc:961] layout failed: INVALID_ARGUMENT: Size of values 0 does not match size of permutation 4 @ fanin shape insequential_1/model/block2b_drop/dropout/SelectV2-2-TransposeNHWCToNCHW-LayoutOptimizer\n"
     ]
    },
    {
     "name": "stdout",
     "output_type": "stream",
     "text": [
      "Epoch 10/10 iteration 1158/1159 Loss:     1.2884 Accuracy:     0.6955"
     ]
    },
    {
     "name": "stderr",
     "output_type": "stream",
     "text": [
      "2024-01-01 19:01:30.731461: E tensorflow/core/grappler/optimizers/meta_optimizer.cc:961] layout failed: INVALID_ARGUMENT: Size of values 0 does not match size of permutation 4 @ fanin shape insequential_1/model/block2b_drop/dropout/SelectV2-2-TransposeNHWCToNCHW-LayoutOptimizer\n"
     ]
    },
    {
     "name": "stdout",
     "output_type": "stream",
     "text": [
      "Epoch 10/10 iteration 1159/1159 Loss:     1.2884 Accuracy:     0.6955 Validation Loss:     4.4386, Validation accuracy:     0.3957\n"
     ]
    }
   ],
   "source": [
    "extension = keras.Sequential([\n",
    "    keras.layers.Flatten(),\n",
    "    keras.layers.Dense(251, activation='softmax')])\n",
    "\n",
    "loss = 'categorical_crossentropy'\n",
    "optimizer = 'adam'\n",
    "metrics = ['accuracy']\n",
    "\n",
    "cut_layer = 'top_dropout'\n",
    "non_trainable_cut_layer = 'block5e_add'\n",
    "\n",
    "extended_model = build_finetune_network(EfficientNetV2B0, extension, cut_layer,\n",
    "                                        optimizer, metrics, loss, non_trainable_cut_layer=non_trainable_cut_layer)\n",
    "\n",
    "\n",
    "\n",
    "train_loss, train_accuracy, val_loss, val_accuracy = train_network(extended_model,\n",
    "                                                                   save_path,\n",
    "                                                                   train_info,\n",
    "                                                                   val_info,\n",
    "                                                                   train_dir,\n",
    "                                                                   epochs=10,\n",
    "                                                                   augment=True,\n",
    "                                                                   strong_augment=False,\n",
    "                                                                   batch_size=64,\n",
    "                                                                   preprocess_input=preprocess_input)"
   ],
   "metadata": {
    "collapsed": false,
    "ExecuteTime": {
     "end_time": "2024-01-01T18:04:26.099745399Z",
     "start_time": "2024-01-01T15:34:34.440532148Z"
    }
   },
   "id": "adb0f2e7a1869bd2",
   "execution_count": 2
  },
  {
   "cell_type": "code",
   "outputs": [
    {
     "name": "stdout",
     "output_type": "stream",
     "text": [
      "2/2 [==============================] - 1s 97ms/step\n",
      "2/2 [==============================] - 0s 97ms/step\n",
      "2/2 [==============================] - 0s 97ms/step\n",
      "2/2 [==============================] - 0s 97ms/step\n",
      "2/2 [==============================] - 0s 106ms/step\n",
      "2/2 [==============================] - 0s 97ms/step\n",
      "2/2 [==============================] - 0s 104ms/step\n",
      "2/2 [==============================] - 0s 102ms/step\n",
      "2/2 [==============================] - 0s 98ms/step\n",
      "2/2 [==============================] - 0s 104ms/step\n",
      "2/2 [==============================] - 0s 105ms/step\n",
      "2/2 [==============================] - 0s 91ms/step\n",
      "2/2 [==============================] - 0s 100ms/step\n",
      "2/2 [==============================] - 0s 97ms/step\n",
      "2/2 [==============================] - 0s 104ms/step\n",
      "2/2 [==============================] - 0s 105ms/step\n",
      "2/2 [==============================] - 0s 102ms/step\n",
      "2/2 [==============================] - 0s 104ms/step\n",
      "2/2 [==============================] - 0s 110ms/step\n",
      "2/2 [==============================] - 0s 103ms/step\n",
      "2/2 [==============================] - 0s 101ms/step\n",
      "2/2 [==============================] - 0s 101ms/step\n",
      "2/2 [==============================] - 0s 106ms/step\n",
      "2/2 [==============================] - 0s 102ms/step\n",
      "2/2 [==============================] - 0s 103ms/step\n",
      "2/2 [==============================] - 0s 98ms/step\n",
      "2/2 [==============================] - 0s 99ms/step\n",
      "2/2 [==============================] - 0s 102ms/step\n",
      "2/2 [==============================] - 0s 106ms/step\n",
      "2/2 [==============================] - 0s 98ms/step\n",
      "2/2 [==============================] - 0s 105ms/step\n",
      "2/2 [==============================] - 0s 104ms/step\n",
      "2/2 [==============================] - 0s 105ms/step\n",
      "2/2 [==============================] - 0s 103ms/step\n",
      "2/2 [==============================] - 0s 104ms/step\n",
      "2/2 [==============================] - 0s 100ms/step\n",
      "2/2 [==============================] - 0s 104ms/step\n",
      "2/2 [==============================] - 0s 104ms/step\n",
      "2/2 [==============================] - 0s 104ms/step\n",
      "2/2 [==============================] - 0s 103ms/step\n",
      "2/2 [==============================] - 0s 105ms/step\n",
      "2/2 [==============================] - 0s 96ms/step\n",
      "2/2 [==============================] - 0s 100ms/step\n",
      "2/2 [==============================] - 0s 102ms/step\n",
      "2/2 [==============================] - 0s 97ms/step\n",
      "2/2 [==============================] - 0s 98ms/step\n",
      "2/2 [==============================] - 0s 101ms/step\n",
      "2/2 [==============================] - 0s 98ms/step\n",
      "2/2 [==============================] - 0s 107ms/step\n",
      "2/2 [==============================] - 0s 100ms/step\n",
      "2/2 [==============================] - 0s 98ms/step\n",
      "2/2 [==============================] - 0s 102ms/step\n",
      "2/2 [==============================] - 0s 101ms/step\n",
      "2/2 [==============================] - 0s 100ms/step\n",
      "2/2 [==============================] - 0s 103ms/step\n",
      "2/2 [==============================] - 0s 102ms/step\n",
      "2/2 [==============================] - 0s 102ms/step\n",
      "2/2 [==============================] - 0s 102ms/step\n",
      "2/2 [==============================] - 0s 107ms/step\n",
      "2/2 [==============================] - 0s 100ms/step\n",
      "2/2 [==============================] - 0s 102ms/step\n",
      "2/2 [==============================] - 0s 99ms/step\n",
      "2/2 [==============================] - 0s 102ms/step\n",
      "2/2 [==============================] - 0s 102ms/step\n",
      "2/2 [==============================] - 0s 100ms/step\n",
      "2/2 [==============================] - 0s 100ms/step\n",
      "2/2 [==============================] - 0s 105ms/step\n",
      "2/2 [==============================] - 0s 99ms/step\n",
      "2/2 [==============================] - 0s 99ms/step\n",
      "2/2 [==============================] - 0s 100ms/step\n",
      "2/2 [==============================] - 0s 99ms/step\n",
      "2/2 [==============================] - 0s 99ms/step\n",
      "2/2 [==============================] - 0s 98ms/step\n",
      "2/2 [==============================] - 0s 98ms/step\n",
      "2/2 [==============================] - 0s 102ms/step\n",
      "2/2 [==============================] - 0s 98ms/step\n",
      "2/2 [==============================] - 0s 100ms/step\n",
      "2/2 [==============================] - 0s 102ms/step\n",
      "2/2 [==============================] - 0s 102ms/step\n",
      "2/2 [==============================] - 0s 103ms/step\n",
      "2/2 [==============================] - 0s 104ms/step\n",
      "2/2 [==============================] - 0s 101ms/step\n",
      "2/2 [==============================] - 0s 104ms/step\n",
      "2/2 [==============================] - 0s 105ms/step\n",
      "2/2 [==============================] - 0s 108ms/step\n",
      "2/2 [==============================] - 0s 101ms/step\n",
      "2/2 [==============================] - 0s 100ms/step\n",
      "2/2 [==============================] - 0s 101ms/step\n",
      "2/2 [==============================] - 0s 101ms/step\n",
      "2/2 [==============================] - 0s 99ms/step\n",
      "2/2 [==============================] - 0s 102ms/step\n",
      "2/2 [==============================] - 0s 107ms/step\n",
      "2/2 [==============================] - 0s 95ms/step\n",
      "2/2 [==============================] - 0s 85ms/step\n",
      "2/2 [==============================] - 0s 83ms/step\n",
      "2/2 [==============================] - 0s 86ms/step\n",
      "2/2 [==============================] - 0s 85ms/step\n",
      "2/2 [==============================] - 0s 99ms/step\n",
      "2/2 [==============================] - 0s 104ms/step\n",
      "2/2 [==============================] - 0s 103ms/step\n",
      "2/2 [==============================] - 0s 101ms/step\n",
      "2/2 [==============================] - 0s 99ms/step\n",
      "2/2 [==============================] - 0s 102ms/step\n",
      "2/2 [==============================] - 0s 103ms/step\n",
      "2/2 [==============================] - 0s 100ms/step\n",
      "2/2 [==============================] - 0s 97ms/step\n",
      "2/2 [==============================] - 0s 99ms/step\n",
      "2/2 [==============================] - 0s 99ms/step\n",
      "2/2 [==============================] - 0s 102ms/step\n",
      "2/2 [==============================] - 0s 99ms/step\n",
      "2/2 [==============================] - 0s 97ms/step\n",
      "2/2 [==============================] - 0s 107ms/step\n",
      "2/2 [==============================] - 0s 105ms/step\n",
      "2/2 [==============================] - 0s 99ms/step\n",
      "2/2 [==============================] - 0s 96ms/step\n",
      "2/2 [==============================] - 0s 99ms/step\n",
      "2/2 [==============================] - 0s 101ms/step\n",
      "2/2 [==============================] - 0s 101ms/step\n",
      "2/2 [==============================] - 0s 97ms/step\n",
      "2/2 [==============================] - 0s 102ms/step\n",
      "2/2 [==============================] - 0s 102ms/step\n",
      "2/2 [==============================] - 0s 102ms/step\n",
      "2/2 [==============================] - 0s 101ms/step\n",
      "2/2 [==============================] - 0s 100ms/step\n",
      "2/2 [==============================] - 0s 100ms/step\n",
      "2/2 [==============================] - 0s 104ms/step\n",
      "2/2 [==============================] - 0s 100ms/step\n",
      "2/2 [==============================] - 0s 104ms/step\n",
      "2/2 [==============================] - 0s 103ms/step\n",
      "2/2 [==============================] - 0s 105ms/step\n",
      "2/2 [==============================] - 0s 99ms/step\n",
      "2/2 [==============================] - 0s 100ms/step\n",
      "2/2 [==============================] - 0s 99ms/step\n",
      "2/2 [==============================] - 0s 111ms/step\n",
      "2/2 [==============================] - 0s 99ms/step\n",
      "2/2 [==============================] - 0s 101ms/step\n",
      "2/2 [==============================] - 0s 101ms/step\n",
      "2/2 [==============================] - 0s 98ms/step\n",
      "2/2 [==============================] - 0s 106ms/step\n",
      "2/2 [==============================] - 0s 101ms/step\n",
      "2/2 [==============================] - 0s 100ms/step\n",
      "2/2 [==============================] - 0s 101ms/step\n",
      "2/2 [==============================] - 0s 101ms/step\n",
      "2/2 [==============================] - 0s 103ms/step\n",
      "2/2 [==============================] - 0s 98ms/step\n",
      "2/2 [==============================] - 0s 98ms/step\n",
      "2/2 [==============================] - 0s 101ms/step\n",
      "2/2 [==============================] - 0s 100ms/step\n",
      "2/2 [==============================] - 0s 108ms/step\n",
      "2/2 [==============================] - 0s 106ms/step\n",
      "2/2 [==============================] - 0s 84ms/step\n",
      "2/2 [==============================] - 0s 61ms/step\n",
      "2/2 [==============================] - 0s 82ms/step\n",
      "2/2 [==============================] - 0s 68ms/step\n",
      "2/2 [==============================] - 0s 67ms/step\n",
      "2/2 [==============================] - 0s 88ms/step\n",
      "2/2 [==============================] - 0s 83ms/step\n",
      "2/2 [==============================] - 0s 84ms/step\n",
      "2/2 [==============================] - 0s 82ms/step\n",
      "2/2 [==============================] - 0s 84ms/step\n",
      "2/2 [==============================] - 0s 82ms/step\n",
      "2/2 [==============================] - 0s 82ms/step\n",
      "2/2 [==============================] - 0s 84ms/step\n",
      "2/2 [==============================] - 0s 82ms/step\n",
      "2/2 [==============================] - 0s 82ms/step\n",
      "2/2 [==============================] - 0s 81ms/step\n",
      "2/2 [==============================] - 0s 82ms/step\n",
      "2/2 [==============================] - 0s 83ms/step\n",
      "2/2 [==============================] - 0s 84ms/step\n",
      "2/2 [==============================] - 0s 83ms/step\n",
      "2/2 [==============================] - 0s 83ms/step\n",
      "2/2 [==============================] - 0s 80ms/step\n",
      "2/2 [==============================] - 0s 81ms/step\n",
      "2/2 [==============================] - 0s 80ms/step\n",
      "2/2 [==============================] - 0s 80ms/step\n",
      "2/2 [==============================] - 0s 82ms/step\n",
      "2/2 [==============================] - 0s 82ms/step\n",
      "2/2 [==============================] - 0s 82ms/step\n",
      "2/2 [==============================] - 0s 84ms/step\n",
      "2/2 [==============================] - 0s 85ms/step\n",
      "2/2 [==============================] - 0s 80ms/step\n",
      "2/2 [==============================] - 0s 86ms/step\n",
      "2/2 [==============================] - 0s 81ms/step\n",
      "2/2 [==============================] - 0s 82ms/step\n",
      "2/2 [==============================] - 0s 83ms/step\n",
      "2/2 [==============================] - 0s 83ms/step\n",
      "2/2 [==============================] - 0s 83ms/step\n",
      "1/1 [==============================] - 1s 1s/step\n"
     ]
    }
   ],
   "source": [
    "from tensorflow import keras\n",
    "from cnn_classification import evaluate_model, predict\n",
    "\n",
    "model = keras.models.load_model(save_path)\n",
    "predictions, names = predict(model, val_degraded_dir, 64, preprocess_input=preprocess_input)"
   ],
   "metadata": {
    "collapsed": false,
    "ExecuteTime": {
     "end_time": "2024-01-01T19:48:57.314585619Z",
     "start_time": "2024-01-01T19:47:03.062154811Z"
    }
   },
   "id": "482a20b47c18bdcc",
   "execution_count": 24
  },
  {
   "cell_type": "code",
   "outputs": [
    {
     "name": "stdout",
     "output_type": "stream",
     "text": [
      "[142 104 214 ...  62 189  78]\n"
     ]
    },
    {
     "data": {
      "text/plain": "<Figure size 640x480 with 2 Axes>",
      "image/png": "[encoded data removed]"
     },
     "metadata": {},
     "output_type": "display_data"
    }
   ],
   "source": [
    "from sklearn.metrics import confusion_matrix, ConfusionMatrixDisplay\n",
    "import matplotlib.pyplot as plt\n",
    "import numpy as np\n",
    "\n",
    "ordered_indices = np.argsort(names)\n",
    "predictions = np.array(predictions)\n",
    "ordered_names = np.argsort(test_image_names)\n",
    "\n",
    "predictions = np.argmax(predictions[ordered_indices], axis=1)\n",
    "ordered_y = test_labels[ordered_names]\n",
    "\n",
    "\n",
    "cm = confusion_matrix(ordered_y, predictions)\n",
    "disp = ConfusionMatrixDisplay(cm)\n",
    "disp.plot()\n",
    "plt.show()"
   ],
   "metadata": {
    "collapsed": false,
    "ExecuteTime": {
     "end_time": "2024-01-01T19:50:03.897394022Z",
     "start_time": "2024-01-01T19:49:05.237979489Z"
    }
   },
   "id": "9c5d399c68c623d0",
   "execution_count": 25
  },
  {
   "cell_type": "code",
   "outputs": [
    {
     "data": {
      "text/plain": "0.41128897782224444"
     },
     "execution_count": 26,
     "metadata": {},
     "output_type": "execute_result"
    }
   ],
   "source": [
    "cm.diagonal().sum() / cm.sum()"
   ],
   "metadata": {
    "collapsed": false,
    "ExecuteTime": {
     "end_time": "2024-01-01T19:50:07.414649238Z",
     "start_time": "2024-01-01T19:50:07.388742795Z"
    }
   },
   "id": "22f7c7b4fe4c10c9",
   "execution_count": 26
  },
  {
   "cell_type": "code",
   "outputs": [
    {
     "name": "stdout",
     "output_type": "stream",
     "text": [
      "                               precision    recall  f1-score   support\n",
      "\n",
      "                      macaron       0.89      0.56      0.69        55\n",
      "                      beignet       0.66      0.62      0.64        61\n",
      "                      cruller       0.29      0.53      0.37        53\n",
      "                  cockle_food       0.40      0.51      0.45        51\n",
      "                       samosa       0.57      0.61      0.59        41\n",
      "                     tiramisu       0.59      0.37      0.45        52\n",
      "                      tostada       0.54      0.35      0.43        57\n",
      "                     moussaka       0.44      0.39      0.41        54\n",
      "                     dumpling       0.34      0.49      0.40        49\n",
      "                      sashimi       0.55      0.39      0.46        46\n",
      "                        knish       0.36      0.42      0.39        48\n",
      "                    croquette       0.34      0.49      0.40        47\n",
      "                     couscous       0.33      0.47      0.39        45\n",
      "                     porridge       0.49      0.39      0.44        61\n",
      "              stuffed_cabbage       0.49      0.41      0.45        46\n",
      "                seaweed_salad       0.62      0.53      0.57        57\n",
      "                    chow_mein       0.45      0.49      0.47        49\n",
      "                     rigatoni       0.57      0.44      0.50        57\n",
      "                 beef_tartare       0.18      0.23      0.20        31\n",
      "                      cannoli       0.49      0.49      0.49        49\n",
      "                    foie_gras       0.37      0.26      0.31        42\n",
      "                      cupcake       0.91      0.55      0.68        53\n",
      "                    osso_buco       0.42      0.36      0.38        42\n",
      "                     pad_thai       0.63      0.39      0.48        56\n",
      "                      poutine       0.78      0.39      0.52        54\n",
      "                        ramen       0.68      0.45      0.54        58\n",
      "         pulled_pork_sandwich       0.74      0.49      0.59        57\n",
      "                     bibimbap       0.56      0.57      0.57        54\n",
      "                 chicken_kiev       0.62      0.46      0.53        54\n",
      "                    apple_pie       0.55      0.39      0.46        41\n",
      "                      risotto       0.44      0.27      0.33        52\n",
      "                    fruitcake       0.31      0.29      0.30        56\n",
      "                    chop_suey       0.30      0.27      0.28        49\n",
      "                       haggis       0.49      0.41      0.45        41\n",
      "               scrambled_eggs       0.78      0.43      0.56        67\n",
      "                     frittata       0.48      0.63      0.55        62\n",
      "                       scampi       0.41      0.25      0.31        56\n",
      "                        sushi       0.61      0.33      0.42        52\n",
      "                         orzo       0.34      0.45      0.38        56\n",
      "                      fritter       0.38      0.26      0.31        53\n",
      "                        nacho       0.37      0.29      0.32        35\n",
      "              beef_stroganoff       0.83      0.42      0.56        60\n",
      "              beef_wellington       0.74      0.57      0.65        54\n",
      "                  spring_roll       0.65      0.49      0.56        63\n",
      "                      savarin       0.35      0.22      0.27        41\n",
      "                crayfish_food       0.61      0.50      0.55        46\n",
      "                      souffle       0.70      0.47      0.57        55\n",
      "                        adobo       0.62      0.35      0.45        43\n",
      "                     streusel       0.56      0.25      0.35        56\n",
      "                  deviled_egg       0.62      0.57      0.59        58\n",
      "                     escargot       0.22      0.50      0.30        32\n",
      "                club_sandwich       0.82      0.54      0.65        57\n",
      "                  carrot_cake       0.62      0.46      0.53        52\n",
      "                      falafel       0.76      0.41      0.53        54\n",
      "                     farfalle       0.43      0.16      0.24        37\n",
      "                      terrine       0.50      0.26      0.34        50\n",
      "                  poached_egg       0.59      0.28      0.38        57\n",
      "                      gnocchi       0.64      0.31      0.42        51\n",
      "            bubble_and_squeak       0.18      0.14      0.16        44\n",
      "                     egg_roll       0.38      0.51      0.44        35\n",
      "                caprese_salad       0.96      0.47      0.63        53\n",
      "                   sauerkraut       0.62      0.35      0.44        46\n",
      "                 creme_brulee       0.60      0.58      0.59        43\n",
      "                      pavlova       0.70      0.61      0.65        49\n",
      "                       fondue       0.70      0.63      0.67        52\n",
      "                      scallop       0.11      0.21      0.14        24\n",
      "                    jambalaya       0.37      0.45      0.40        56\n",
      "                      tempura       0.35      0.48      0.41        52\n",
      "               chocolate_cake       0.63      0.32      0.42        60\n",
      "                       potpie       0.32      0.51      0.40        49\n",
      "          spaghetti_bolognese       0.74      0.36      0.48        56\n",
      "                     sukiyaki       0.53      0.58      0.55        36\n",
      "                   applesauce       0.57      0.41      0.48        39\n",
      "                      baklava       0.60      0.44      0.51        57\n",
      "              salisbury_steak       0.52      0.34      0.41        50\n",
      "                     linguine       0.38      0.34      0.36        61\n",
      "                      edamame       0.57      0.62      0.59        53\n",
      "                   coq_au_vin       0.53      0.30      0.38        57\n",
      "                       tamale       0.55      0.50      0.52        36\n",
      "          macaroni_and_cheese       0.55      0.42      0.48        50\n",
      "                     kedgeree       0.49      0.57      0.53        47\n",
      "                 garlic_bread       0.61      0.39      0.47        57\n",
      "                   beet_salad       0.78      0.68      0.72        62\n",
      "                steak_tartare       0.33      0.31      0.32        26\n",
      "                   vermicelli       0.14      0.25      0.18        40\n",
      "                         pate       0.23      0.24      0.23        38\n",
      "                      pancake       0.81      0.55      0.66        47\n",
      "                   tetrazzini       0.23      0.25      0.24        57\n",
      "                  onion_rings       0.79      0.57      0.66        58\n",
      "              red_velvet_cake       0.78      0.64      0.70        44\n",
      "                      compote       0.49      0.30      0.37        57\n",
      "                 lobster_food       0.44      0.35      0.39        43\n",
      "                chicken_curry       0.26      0.46      0.34        41\n",
      "                 chicken_wing       0.33      0.35      0.34        43\n",
      "                 caesar_salad       0.62      0.49      0.55        49\n",
      "                    succotash       0.59      0.46      0.52        50\n",
      "                       hummus       0.65      0.47      0.55        51\n",
      "               fish_and_chips       0.83      0.48      0.60        61\n",
      "                      lasagna       0.27      0.36      0.31        58\n",
      "                     lutefisk       0.11      0.24      0.15        21\n",
      "                   sloppy_joe       0.68      0.53      0.60        47\n",
      "                  gingerbread       0.42      0.69      0.52        36\n",
      "                    crab_cake       0.30      0.33      0.31        46\n",
      "                  sauerbraten       0.63      0.45      0.53        42\n",
      "                  peking_duck       0.62      0.38      0.47        40\n",
      "                    guacamole       0.69      0.47      0.56        51\n",
      "                 ham_sandwich       0.57      0.29      0.38        45\n",
      "                      crumpet       0.53      0.38      0.44        48\n",
      "                         taco       0.46      0.31      0.37        36\n",
      "         strawberry_shortcake       0.54      0.37      0.44        35\n",
      "                 clam_chowder       0.29      0.58      0.38        55\n",
      "                  cottage_pie       0.67      0.48      0.56        60\n",
      "                croque_madame       0.43      0.41      0.42        54\n",
      "            french_onion_soup       0.64      0.56      0.60        52\n",
      "               beef_carpaccio       0.72      0.43      0.54        53\n",
      "                        torte       0.26      0.50      0.34        42\n",
      "                          poi       0.00      0.00      0.00         2\n",
      "                    crab_food       0.11      0.37      0.17        27\n",
      "               bacon_and_eggs       0.18      0.21      0.19        43\n",
      "                  coffee_cake       0.53      0.16      0.24        64\n",
      "                      custard       0.09      0.11      0.10        36\n",
      "                     syllabub       0.60      0.52      0.56        48\n",
      "                    pork_chop       0.36      0.26      0.30        58\n",
      "                   fried_rice       0.26      0.56      0.35        43\n",
      "                   boiled_egg       0.63      0.61      0.62        44\n",
      "                    galantine       0.11      0.28      0.16        36\n",
      "                      brisket       0.34      0.56      0.42        41\n",
      "                       reuben       0.62      0.42      0.50        38\n",
      "                    schnitzel       0.53      0.33      0.41        54\n",
      "                ambrosia_food       0.21      0.54      0.31        35\n",
      "                        gyoza       0.09      0.56      0.15        43\n",
      "                        jerky       0.56      0.58      0.57        53\n",
      "                      ravioli       0.33      0.31      0.32        55\n",
      "               fried_calamari       0.62      0.39      0.48        64\n",
      "          spaghetti_carbonara       0.61      0.37      0.46        54\n",
      "                    miso_soup       0.43      0.42      0.42        53\n",
      "                frozen_yogurt       0.62      0.43      0.51        49\n",
      "                       wonton       0.43      0.33      0.38        48\n",
      "                  panna_cotta       0.62      0.31      0.41        59\n",
      "                 french_toast       0.57      0.33      0.42        48\n",
      "                    enchilada       0.17      0.10      0.13        40\n",
      "                      ceviche       0.35      0.44      0.39        50\n",
      "                   fettuccine       0.48      0.24      0.32        59\n",
      "                        chili       0.47      0.40      0.43        35\n",
      "                         flan       0.62      0.54      0.58        46\n",
      "                        kabob       0.54      0.47      0.50        43\n",
      "                  sponge_cake       0.29      0.24      0.26        42\n",
      "                    casserole       0.25      0.18      0.21        50\n",
      "                       paella       0.57      0.56      0.57        62\n",
      "                   blancmange       0.05      0.27      0.09        22\n",
      "                   bruschetta       0.57      0.38      0.45        56\n",
      "                   tortellini       0.42      0.29      0.34        55\n",
      "               grilled_salmon       0.54      0.47      0.50        45\n",
      "                 french_fries       0.78      0.51      0.62        57\n",
      "             shrimp_and_grits       0.68      0.47      0.55        60\n",
      "                       churro       0.57      0.55      0.56        51\n",
      "                        donut       0.56      0.61      0.59        36\n",
      "               meat_loaf_food       0.37      0.35      0.36        52\n",
      "                     meatball       0.43      0.31      0.36        52\n",
      "                     scrapple       0.12      0.23      0.16        26\n",
      "                      strudel       0.58      0.45      0.51        64\n",
      "                 coconut_cake       0.56      0.47      0.51        49\n",
      "                  marble_cake       1.00      0.12      0.22        49\n",
      "                 filet_mignon       0.24      0.30      0.27        33\n",
      "                    hamburger       0.62      0.43      0.51        37\n",
      "                    fried_egg       0.26      0.53      0.35        36\n",
      "                 tuna_tartare       0.44      0.33      0.38        49\n",
      "                        penne       0.46      0.39      0.42        59\n",
      "                eggs_benedict       0.72      0.43      0.54        65\n",
      "                bread_pudding       0.45      0.32      0.38        47\n",
      "                     takoyaki       0.65      0.43      0.52        35\n",
      "                   tenderloin       0.54      0.37      0.44        51\n",
      "             chocolate_mousse       0.41      0.38      0.39        56\n",
      "                 baked_alaska       0.64      0.60      0.62        53\n",
      "                      hot_dog       0.89      0.56      0.69        43\n",
      "                       confit       0.19      0.22      0.20        37\n",
      "                 ham_and_eggs       0.34      0.29      0.31        42\n",
      "                      biryani       0.56      0.45      0.50        64\n",
      "                  greek_salad       0.62      0.49      0.55        61\n",
      "             huevos_rancheros       0.41      0.47      0.44        53\n",
      "                  tagliatelle       0.35      0.21      0.26        42\n",
      "              stuffed_peppers       0.74      0.53      0.62        43\n",
      "                   cannelloni       0.62      0.28      0.39        57\n",
      "                        pizza       0.64      0.73      0.68        48\n",
      "                 sausage_roll       0.57      0.57      0.57        58\n",
      "           chicken_quesadilla       0.72      0.61      0.66        51\n",
      "            hot_and_sour_soup       0.51      0.41      0.46        51\n",
      "                    prime_rib       0.71      0.31      0.43        39\n",
      "                   cheesecake       0.62      0.33      0.43        55\n",
      "                  limpet_food       0.01      0.44      0.02         9\n",
      "                         ziti       0.47      0.18      0.26        51\n",
      "                       mussel       0.58      0.62      0.60        34\n",
      "                    manicotti       0.20      0.22      0.21        46\n",
      "                    ice_cream       0.58      0.38      0.46        48\n",
      "                       waffle       0.79      0.59      0.68        44\n",
      "                       oyster       0.43      0.59      0.49        41\n",
      "                     omelette       0.43      0.27      0.33        55\n",
      "                    clam_food       0.26      0.30      0.28        37\n",
      "                      burrito       0.64      0.40      0.49        40\n",
      "                      roulade       0.52      0.45      0.48        56\n",
      "               lobster_bisque       0.58      0.50      0.54        50\n",
      "      grilled_cheese_sandwich       0.70      0.43      0.54        69\n",
      "                         gyro       0.38      0.40      0.39        35\n",
      "                   pound_cake       0.53      0.31      0.39        55\n",
      "                          pho       0.61      0.61      0.61        57\n",
      "        lobster_roll_sandwich       0.67      0.30      0.41        47\n",
      "                baby_back_rib       0.48      0.30      0.37        47\n",
      "                     tapenade       0.53      0.38      0.44        47\n",
      "                 pepper_steak       0.40      0.26      0.31        47\n",
      "                welsh_rarebit       0.42      0.27      0.33        41\n",
      "                        pilaf       0.36      0.18      0.24        50\n",
      "                       dolmas       0.68      0.60      0.63        42\n",
      "      coquilles_saint_jacques       0.12      0.40      0.19        52\n",
      "             veal_cordon_bleu       0.05      0.09      0.06        23\n",
      "                  shirred_egg       0.15      0.43      0.22        42\n",
      "               barbecued_wing       0.46      0.35      0.40        34\n",
      "            lobster_thermidor       0.62      0.33      0.43        46\n",
      "              steak_au_poivre       0.50      0.30      0.37        50\n",
      "                       huitre       0.03      0.33      0.05        30\n",
      "                 chiffon_cake       0.55      0.42      0.48        57\n",
      "                  profiterole       0.53      0.47      0.50        53\n",
      "             toad_in_the_hole       0.86      0.26      0.40        46\n",
      "              chicken_marengo       0.27      0.26      0.26        47\n",
      "            victoria_sandwich       0.50      0.48      0.49        42\n",
      "                   tamale_pie       0.57      0.28      0.37        58\n",
      "             boston_cream_pie       0.74      0.47      0.57        53\n",
      "                   fish_stick       0.38      0.50      0.43        54\n",
      "                   crumb_cake       0.53      0.53      0.53        53\n",
      "           chicken_provencale       0.11      0.19      0.14        42\n",
      "                  vol_au_vent       0.44      0.49      0.47        57\n",
      "                    entrecote       0.42      0.23      0.30        35\n",
      "          carbonnade_flamande       0.31      0.23      0.27        43\n",
      "bacon_lettuce_tomato_sandwich       0.58      0.39      0.47        54\n",
      "                   scotch_egg       0.88      0.62      0.73        58\n",
      "                       pirogi       0.37      0.30      0.33        47\n",
      "                  peach_melba       0.45      0.39      0.42        33\n",
      "             upside_down_cake       0.82      0.56      0.67        57\n",
      "              applesauce_cake       0.16      0.20      0.18        40\n",
      "                      rugulah       0.01      0.18      0.02        11\n",
      "                    rock_cake       0.11      0.35      0.17        17\n",
      "          barbecued_spareribs       0.31      0.32      0.32        34\n",
      "           beef_bourguignonne       0.57      0.44      0.50        63\n",
      "                      rissole       0.16      0.35      0.22        46\n",
      "                  mostaccioli       0.02      0.06      0.03        36\n",
      "               apple_turnover       0.43      0.47      0.44        43\n",
      "                   matzo_ball       0.88      0.49      0.63        61\n",
      "          chicken_cordon_bleu       0.67      0.37      0.48        54\n",
      "                  eccles_cake       0.59      0.40      0.47        43\n",
      "              moo_goo_gai_pan       0.64      0.46      0.53        59\n",
      "                 buffalo_wing       0.52      0.30      0.38        47\n",
      "               stuffed_tomato       0.76      0.78      0.77        50\n",
      "\n",
      "                     accuracy                           0.41     11994\n",
      "                    macro avg       0.49      0.40      0.42     11994\n",
      "                 weighted avg       0.52      0.41      0.44     11994\n"
     ]
    }
   ],
   "source": [
    "from sklearn.metrics import classification_report\n",
    "\n",
    "print(classification_report(ordered_y, predictions, target_names=class_labels))"
   ],
   "metadata": {
    "collapsed": false,
    "ExecuteTime": {
     "end_time": "2024-01-01T19:50:20.286509811Z",
     "start_time": "2024-01-01T19:50:20.244253529Z"
    }
   },
   "id": "8b78d472b71b68e8",
   "execution_count": 27
  }
 ],
 "metadata": {
  "kernelspec": {
   "display_name": "Python 3",
   "language": "python",
   "name": "python3"
  },
  "language_info": {
   "codemirror_mode": {
    "name": "ipython",
    "version": 2
   },
   "file_extension": ".py",
   "mimetype": "text/x-python",
   "name": "python",
   "nbconvert_exporter": "python",
   "pygments_lexer": "ipython2",
   "version": "2.7.6"
  }
 },
 "nbformat": 4,
 "nbformat_minor": 5
}
