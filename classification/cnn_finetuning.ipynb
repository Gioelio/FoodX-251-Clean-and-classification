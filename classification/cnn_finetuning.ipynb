{
 "cells": [
  {
   "cell_type": "code",
   "execution_count": 1,
   "id": "initial_id",
   "metadata": {
    "collapsed": true,
    "ExecuteTime": {
     "end_time": "2024-01-01T14:59:23.210712207Z",
     "start_time": "2024-01-01T14:59:22.887552004Z"
    }
   },
   "outputs": [],
   "source": [
    "from misc import load, load_class_labels\n",
    "\n",
    "dataset_root = \"../dataset/\"\n",
    "\n",
    "train_dir = dataset_root + \"train_set/\"\n",
    "val_dir = dataset_root + \"val_set/\"\n",
    "val_degraded_dir = dataset_root + \"val_set_degraded/\"\n",
    "\n",
    "sample_rate = 1\n",
    "train_info = load(dataset_root + 'labels/train_info_cleaned.csv', 1, sample_rate)\n",
    "test_info = load(dataset_root + 'labels/test.csv')\n",
    "val_info = load(dataset_root + 'labels/val_info_cleaned.csv')\n",
    "\n",
    "train_image_names = train_info.iloc[:, 0].values\n",
    "val_image_names = val_info.iloc[:, 0].values\n",
    "test_image_names = test_info.iloc[:, 0].values\n",
    "\n",
    "train_labels = train_info.iloc[:, 1].values\n",
    "val_labels = val_info.iloc[:, 1].values\n",
    "test_labels = test_info.iloc[:, 1].values\n",
    "\n",
    "class_labels = load_class_labels(dataset_root + 'classes.txt')"
   ]
  },
  {
   "cell_type": "code",
   "outputs": [
    {
     "name": "stderr",
     "output_type": "stream",
     "text": [
      "2024-01-01 15:59:26.392516: E external/local_xla/xla/stream_executor/cuda/cuda_dnn.cc:9261] Unable to register cuDNN factory: Attempting to register factory for plugin cuDNN when one has already been registered\n",
      "2024-01-01 15:59:26.392545: E external/local_xla/xla/stream_executor/cuda/cuda_fft.cc:607] Unable to register cuFFT factory: Attempting to register factory for plugin cuFFT when one has already been registered\n",
      "2024-01-01 15:59:26.395644: E external/local_xla/xla/stream_executor/cuda/cuda_blas.cc:1515] Unable to register cuBLAS factory: Attempting to register factory for plugin cuBLAS when one has already been registered\n",
      "2024-01-01 15:59:26.451205: I tensorflow/core/platform/cpu_feature_guard.cc:182] This TensorFlow binary is optimized to use available CPU instructions in performance-critical operations.\n",
      "To enable the following instructions: AVX2 FMA, in other operations, rebuild TensorFlow with the appropriate compiler flags.\n",
      "2024-01-01 15:59:27.434837: W tensorflow/compiler/tf2tensorrt/utils/py_utils.cc:38] TF-TRT Warning: Could not find TensorRT\n",
      "2024-01-01 15:59:28.511472: I external/local_xla/xla/stream_executor/cuda/cuda_executor.cc:901] successful NUMA node read from SysFS had negative value (-1), but there must be at least one NUMA node, so returning NUMA node zero. See more at https://github.com/torvalds/linux/blob/v6.0/Documentation/ABI/testing/sysfs-bus-pci#L344-L355\n",
      "2024-01-01 15:59:28.697264: I external/local_xla/xla/stream_executor/cuda/cuda_executor.cc:901] successful NUMA node read from SysFS had negative value (-1), but there must be at least one NUMA node, so returning NUMA node zero. See more at https://github.com/torvalds/linux/blob/v6.0/Documentation/ABI/testing/sysfs-bus-pci#L344-L355\n",
      "2024-01-01 15:59:28.697455: I external/local_xla/xla/stream_executor/cuda/cuda_executor.cc:901] successful NUMA node read from SysFS had negative value (-1), but there must be at least one NUMA node, so returning NUMA node zero. See more at https://github.com/torvalds/linux/blob/v6.0/Documentation/ABI/testing/sysfs-bus-pci#L344-L355\n",
      "2024-01-01 15:59:28.698629: I external/local_xla/xla/stream_executor/cuda/cuda_executor.cc:901] successful NUMA node read from SysFS had negative value (-1), but there must be at least one NUMA node, so returning NUMA node zero. See more at https://github.com/torvalds/linux/blob/v6.0/Documentation/ABI/testing/sysfs-bus-pci#L344-L355\n",
      "2024-01-01 15:59:28.698847: I external/local_xla/xla/stream_executor/cuda/cuda_executor.cc:901] successful NUMA node read from SysFS had negative value (-1), but there must be at least one NUMA node, so returning NUMA node zero. See more at https://github.com/torvalds/linux/blob/v6.0/Documentation/ABI/testing/sysfs-bus-pci#L344-L355\n",
      "2024-01-01 15:59:28.699008: I external/local_xla/xla/stream_executor/cuda/cuda_executor.cc:901] successful NUMA node read from SysFS had negative value (-1), but there must be at least one NUMA node, so returning NUMA node zero. See more at https://github.com/torvalds/linux/blob/v6.0/Documentation/ABI/testing/sysfs-bus-pci#L344-L355\n",
      "2024-01-01 15:59:30.075923: I external/local_xla/xla/stream_executor/cuda/cuda_executor.cc:901] successful NUMA node read from SysFS had negative value (-1), but there must be at least one NUMA node, so returning NUMA node zero. See more at https://github.com/torvalds/linux/blob/v6.0/Documentation/ABI/testing/sysfs-bus-pci#L344-L355\n",
      "2024-01-01 15:59:30.076115: I external/local_xla/xla/stream_executor/cuda/cuda_executor.cc:901] successful NUMA node read from SysFS had negative value (-1), but there must be at least one NUMA node, so returning NUMA node zero. See more at https://github.com/torvalds/linux/blob/v6.0/Documentation/ABI/testing/sysfs-bus-pci#L344-L355\n",
      "2024-01-01 15:59:30.076278: I external/local_xla/xla/stream_executor/cuda/cuda_executor.cc:901] successful NUMA node read from SysFS had negative value (-1), but there must be at least one NUMA node, so returning NUMA node zero. See more at https://github.com/torvalds/linux/blob/v6.0/Documentation/ABI/testing/sysfs-bus-pci#L344-L355\n",
      "2024-01-01 15:59:30.078341: I tensorflow/core/common_runtime/gpu/gpu_device.cc:1929] Created device /job:localhost/replica:0/task:0/device:GPU:0 with 2818 MB memory:  -> device: 0, name: NVIDIA GeForce GTX 980, pci bus id: 0000:05:00.0, compute capability: 5.2\n",
      "2024-01-01 15:59:33.497177: W external/local_tsl/tsl/framework/cpu_allocator_impl.cc:83] Allocation of 38535168 exceeds 10% of free system memory.\n",
      "2024-01-01 15:59:33.538888: W external/local_tsl/tsl/framework/cpu_allocator_impl.cc:83] Allocation of 38535168 exceeds 10% of free system memory.\n",
      "2024-01-01 15:59:33.563757: W external/local_tsl/tsl/framework/cpu_allocator_impl.cc:83] Allocation of 38535168 exceeds 10% of free system memory.\n",
      "2024-01-01 15:59:41.006488: E tensorflow/core/grappler/optimizers/meta_optimizer.cc:961] layout failed: INVALID_ARGUMENT: Size of values 0 does not match size of permutation 4 @ fanin shape insequential_1/model/block2b_drop/dropout/SelectV2-2-TransposeNHWCToNCHW-LayoutOptimizer\n",
      "2024-01-01 15:59:44.330014: I external/local_xla/xla/stream_executor/cuda/cuda_dnn.cc:454] Loaded cuDNN version 8904\n",
      "2024-01-01 15:59:50.119799: I external/local_xla/xla/service/service.cc:168] XLA service 0x7f3bf55627c0 initialized for platform CUDA (this does not guarantee that XLA will be used). Devices:\n",
      "2024-01-01 15:59:50.119817: I external/local_xla/xla/service/service.cc:176]   StreamExecutor device (0): NVIDIA GeForce GTX 980, Compute Capability 5.2\n",
      "2024-01-01 15:59:50.165244: I tensorflow/compiler/mlir/tensorflow/utils/dump_mlir_util.cc:269] disabling MLIR crash reproducer, set env var `MLIR_CRASH_REPRODUCER_DIRECTORY` to enable.\n",
      "WARNING: All log messages before absl::InitializeLog() is called are written to STDERR\n",
      "I0000 00:00:1704121190.320712   28371 device_compiler.h:186] Compiled cluster using XLA!  This line is logged at most once for the lifetime of the process.\n"
     ]
    },
    {
     "name": "stdout",
     "output_type": "stream",
     "text": [
      "Epoch 1/10 iteration 1/1159 Loss:     5.5823 Accuracy:     0.0000"
     ]
    },
    {
     "name": "stderr",
     "output_type": "stream",
     "text": [
      "2024-01-01 15:59:58.066530: W external/local_tsl/tsl/framework/cpu_allocator_impl.cc:83] Allocation of 38535168 exceeds 10% of free system memory.\n",
      "2024-01-01 15:59:58.112880: W external/local_tsl/tsl/framework/cpu_allocator_impl.cc:83] Allocation of 38535168 exceeds 10% of free system memory.\n"
     ]
    },
    {
     "name": "stdout",
     "output_type": "stream",
     "text": [
      "Epoch 1/10 iteration 1158/1159 Loss:     3.4802 Accuracy:     0.3167"
     ]
    },
    {
     "name": "stderr",
     "output_type": "stream",
     "text": [
      "2024-01-01 16:11:36.874857: E tensorflow/core/grappler/optimizers/meta_optimizer.cc:961] layout failed: INVALID_ARGUMENT: Size of values 0 does not match size of permutation 4 @ fanin shape insequential_1/model/block2b_drop/dropout/SelectV2-2-TransposeNHWCToNCHW-LayoutOptimizer\n"
     ]
    },
    {
     "name": "stdout",
     "output_type": "stream",
     "text": [
      "Epoch 1/10 iteration 1159/1159 Loss:     3.4801 Accuracy:     0.3167 Validation Loss:     3.1423, Validation accuracy:     0.4096\n",
      "INFO:tensorflow:Assets written to: ./models/efficientnet_v2_standard/assets\n"
     ]
    },
    {
     "name": "stderr",
     "output_type": "stream",
     "text": [
      "INFO:tensorflow:Assets written to: ./models/efficientnet_v2_standard/assets\n",
      "2024-01-01 16:14:37.664836: E tensorflow/core/grappler/optimizers/meta_optimizer.cc:961] layout failed: INVALID_ARGUMENT: Size of values 0 does not match size of permutation 4 @ fanin shape insequential_1/model/block2b_drop/dropout/SelectV2-2-TransposeNHWCToNCHW-LayoutOptimizer\n"
     ]
    },
    {
     "name": "stdout",
     "output_type": "stream",
     "text": [
      "Epoch 2/10 iteration 90/1159 Loss:     2.7990 Accuracy:     0.4344"
     ]
    },
    {
     "ename": "KeyboardInterrupt",
     "evalue": "",
     "output_type": "error",
     "traceback": [
      "\u001B[0;31m---------------------------------------------------------------------------\u001B[0m",
      "\u001B[0;31mKeyboardInterrupt\u001B[0m                         Traceback (most recent call last)",
      "Cell \u001B[0;32mIn[2], line 21\u001B[0m\n\u001B[1;32m     16\u001B[0m extended_model \u001B[38;5;241m=\u001B[39m build_finetune_network(EfficientNetV2B0, extension, cut_layer,\n\u001B[1;32m     17\u001B[0m                                         optimizer, metrics, loss, non_trainable_cut_layer\u001B[38;5;241m=\u001B[39mnon_trainable_cut_layer)\n\u001B[1;32m     20\u001B[0m save_path \u001B[38;5;241m=\u001B[39m \u001B[38;5;124m\"\u001B[39m\u001B[38;5;124m./models/efficientnet_v2_standard\u001B[39m\u001B[38;5;124m\"\u001B[39m\n\u001B[0;32m---> 21\u001B[0m train_loss, train_accuracy, val_loss, val_accuracy \u001B[38;5;241m=\u001B[39m \u001B[43mtrain_network\u001B[49m\u001B[43m(\u001B[49m\u001B[43mextended_model\u001B[49m\u001B[43m,\u001B[49m\n\u001B[1;32m     22\u001B[0m \u001B[43m                                                                   \u001B[49m\u001B[43msave_path\u001B[49m\u001B[43m,\u001B[49m\n\u001B[1;32m     23\u001B[0m \u001B[43m                                                                   \u001B[49m\u001B[43mtrain_info\u001B[49m\u001B[43m,\u001B[49m\n\u001B[1;32m     24\u001B[0m \u001B[43m                                                                   \u001B[49m\u001B[43mval_info\u001B[49m\u001B[43m,\u001B[49m\n\u001B[1;32m     25\u001B[0m \u001B[43m                                                                   \u001B[49m\u001B[43mtrain_dir\u001B[49m\u001B[43m,\u001B[49m\n\u001B[1;32m     26\u001B[0m \u001B[43m                                                                   \u001B[49m\u001B[43mepochs\u001B[49m\u001B[38;5;241;43m=\u001B[39;49m\u001B[38;5;241;43m10\u001B[39;49m\u001B[43m,\u001B[49m\n\u001B[1;32m     27\u001B[0m \u001B[43m                                                                   \u001B[49m\u001B[43maugment\u001B[49m\u001B[38;5;241;43m=\u001B[39;49m\u001B[38;5;28;43;01mTrue\u001B[39;49;00m\u001B[43m,\u001B[49m\n\u001B[1;32m     28\u001B[0m \u001B[43m                                                                   \u001B[49m\u001B[43mstrong_augment\u001B[49m\u001B[38;5;241;43m=\u001B[39;49m\u001B[38;5;28;43;01mFalse\u001B[39;49;00m\u001B[43m,\u001B[49m\n\u001B[1;32m     29\u001B[0m \u001B[43m                                                                   \u001B[49m\u001B[43mbatch_size\u001B[49m\u001B[38;5;241;43m=\u001B[39;49m\u001B[38;5;241;43m64\u001B[39;49m\u001B[43m,\u001B[49m\n\u001B[1;32m     30\u001B[0m \u001B[43m                                                                   \u001B[49m\u001B[43mpreprocess_input\u001B[49m\u001B[38;5;241;43m=\u001B[39;49m\u001B[43mpreprocess_input\u001B[49m\u001B[43m)\u001B[49m\n",
      "File \u001B[0;32m~/PycharmProjects/Visual/classification/cnn_classification.py:69\u001B[0m, in \u001B[0;36mtrain_network\u001B[0;34m(model, save_path, train_info, val_info, train_dir, batch_size, epochs, augment, strong_augment, preprocess_input, reload_rate)\u001B[0m\n\u001B[1;32m     66\u001B[0m train_loader\u001B[38;5;241m.\u001B[39mshuffle_dataframe()\n\u001B[1;32m     67\u001B[0m \u001B[38;5;28;01mfor\u001B[39;00m i \u001B[38;5;129;01min\u001B[39;00m \u001B[38;5;28mrange\u001B[39m(train_loader\u001B[38;5;241m.\u001B[39mnumber_of_batch()):\n\u001B[1;32m     68\u001B[0m     next_batch, next_labels, _ \u001B[38;5;241m=\u001B[39m (\u001B[43mtrain_loader\u001B[49m\n\u001B[0;32m---> 69\u001B[0m \u001B[43m                                  \u001B[49m\u001B[38;5;241;43m.\u001B[39;49m\u001B[43mget_batch\u001B[49m\u001B[43m(\u001B[49m\u001B[43mi\u001B[49m\u001B[43m,\u001B[49m\u001B[43m \u001B[49m\u001B[38;5;28;43;01mlambda\u001B[39;49;00m\u001B[43m \u001B[49m\u001B[43mx\u001B[49m\u001B[43m:\u001B[49m\u001B[43m \u001B[49m\u001B[43mcustom_preprocess\u001B[49m\u001B[43m(\u001B[49m\u001B[43mx\u001B[49m\u001B[43m,\u001B[49m\u001B[43m \u001B[49m\u001B[43maugment\u001B[49m\u001B[43m,\u001B[49m\n\u001B[1;32m     70\u001B[0m \u001B[43m                                                                            \u001B[49m\u001B[43mstrong_augment\u001B[49m\u001B[43m,\u001B[49m\n\u001B[1;32m     71\u001B[0m \u001B[43m                                                                            \u001B[49m\u001B[43mpreprocess_input\u001B[49m\u001B[43m)\u001B[49m\u001B[43m)\u001B[49m)\n\u001B[1;32m     72\u001B[0m     labels \u001B[38;5;241m=\u001B[39m keras\u001B[38;5;241m.\u001B[39mutils\u001B[38;5;241m.\u001B[39mto_categorical(next_labels, num_classes\u001B[38;5;241m=\u001B[39m\u001B[38;5;241m251\u001B[39m)\n\u001B[1;32m     73\u001B[0m     loss, acc \u001B[38;5;241m=\u001B[39m model\u001B[38;5;241m.\u001B[39mtrain_on_batch(next_batch, labels)\n",
      "File \u001B[0;32m~/PycharmProjects/Visual/data_loader.py:38\u001B[0m, in \u001B[0;36mdata_loader.get_batch\u001B[0;34m(self, batch_num, preprocessing)\u001B[0m\n\u001B[1;32m     35\u001B[0m     images[i] \u001B[38;5;241m=\u001B[39m image\n\u001B[1;32m     37\u001B[0m \u001B[38;5;28;01mif\u001B[39;00m preprocessing \u001B[38;5;129;01mis\u001B[39;00m \u001B[38;5;129;01mnot\u001B[39;00m \u001B[38;5;28;01mNone\u001B[39;00m:\n\u001B[0;32m---> 38\u001B[0m     images \u001B[38;5;241m=\u001B[39m \u001B[43mpreprocessing\u001B[49m\u001B[43m(\u001B[49m\u001B[43mimages\u001B[49m\u001B[43m)\u001B[49m\n\u001B[1;32m     40\u001B[0m \u001B[38;5;28;01mreturn\u001B[39;00m images, labels, filenames\n",
      "File \u001B[0;32m~/PycharmProjects/Visual/classification/cnn_classification.py:69\u001B[0m, in \u001B[0;36mtrain_network.<locals>.<lambda>\u001B[0;34m(x)\u001B[0m\n\u001B[1;32m     66\u001B[0m train_loader\u001B[38;5;241m.\u001B[39mshuffle_dataframe()\n\u001B[1;32m     67\u001B[0m \u001B[38;5;28;01mfor\u001B[39;00m i \u001B[38;5;129;01min\u001B[39;00m \u001B[38;5;28mrange\u001B[39m(train_loader\u001B[38;5;241m.\u001B[39mnumber_of_batch()):\n\u001B[1;32m     68\u001B[0m     next_batch, next_labels, _ \u001B[38;5;241m=\u001B[39m (train_loader\n\u001B[0;32m---> 69\u001B[0m                                   \u001B[38;5;241m.\u001B[39mget_batch(i, \u001B[38;5;28;01mlambda\u001B[39;00m x: \u001B[43mcustom_preprocess\u001B[49m\u001B[43m(\u001B[49m\u001B[43mx\u001B[49m\u001B[43m,\u001B[49m\u001B[43m \u001B[49m\u001B[43maugment\u001B[49m\u001B[43m,\u001B[49m\n\u001B[1;32m     70\u001B[0m \u001B[43m                                                                            \u001B[49m\u001B[43mstrong_augment\u001B[49m\u001B[43m,\u001B[49m\n\u001B[1;32m     71\u001B[0m \u001B[43m                                                                            \u001B[49m\u001B[43mpreprocess_input\u001B[49m\u001B[43m)\u001B[49m))\n\u001B[1;32m     72\u001B[0m     labels \u001B[38;5;241m=\u001B[39m keras\u001B[38;5;241m.\u001B[39mutils\u001B[38;5;241m.\u001B[39mto_categorical(next_labels, num_classes\u001B[38;5;241m=\u001B[39m\u001B[38;5;241m251\u001B[39m)\n\u001B[1;32m     73\u001B[0m     loss, acc \u001B[38;5;241m=\u001B[39m model\u001B[38;5;241m.\u001B[39mtrain_on_batch(next_batch, labels)\n",
      "File \u001B[0;32m~/PycharmProjects/Visual/classification/cnn_classification.py:36\u001B[0m, in \u001B[0;36mcustom_preprocess\u001B[0;34m(x, augment, strong_augment, preprocess_input)\u001B[0m\n\u001B[1;32m     34\u001B[0m \u001B[38;5;28;01mdef\u001B[39;00m \u001B[38;5;21mcustom_preprocess\u001B[39m(x, augment, strong_augment, preprocess_input):\n\u001B[1;32m     35\u001B[0m     \u001B[38;5;28;01mif\u001B[39;00m augment:\n\u001B[0;32m---> 36\u001B[0m         x \u001B[38;5;241m=\u001B[39m \u001B[43mmisc\u001B[49m\u001B[38;5;241;43m.\u001B[39;49m\u001B[43mapply_standard_data_augmentation\u001B[49m\u001B[43m(\u001B[49m\u001B[43mx\u001B[49m\u001B[43m)\u001B[49m\n\u001B[1;32m     37\u001B[0m     \u001B[38;5;28;01mif\u001B[39;00m strong_augment:\n\u001B[1;32m     38\u001B[0m         x \u001B[38;5;241m=\u001B[39m misc\u001B[38;5;241m.\u001B[39mapply_data_augmentation(x)\n",
      "File \u001B[0;32m~/PycharmProjects/Visual/misc.py:109\u001B[0m, in \u001B[0;36mapply_standard_data_augmentation\u001B[0;34m(images)\u001B[0m\n\u001B[1;32m    103\u001B[0m \u001B[38;5;28;01mfrom\u001B[39;00m \u001B[38;5;21;01mimgaug\u001B[39;00m \u001B[38;5;28;01mimport\u001B[39;00m augmenters \u001B[38;5;28;01mas\u001B[39;00m iaa\n\u001B[1;32m    104\u001B[0m seq \u001B[38;5;241m=\u001B[39m iaa\u001B[38;5;241m.\u001B[39mSequential([\n\u001B[1;32m    105\u001B[0m     iaa\u001B[38;5;241m.\u001B[39mSometimes(\u001B[38;5;241m0.5\u001B[39m, iaa\u001B[38;5;241m.\u001B[39mHorizontalFlip()),\n\u001B[1;32m    106\u001B[0m     iaa\u001B[38;5;241m.\u001B[39mSometimes(\u001B[38;5;241m0.5\u001B[39m, iaa\u001B[38;5;241m.\u001B[39mRotate()),\n\u001B[1;32m    107\u001B[0m     iaa\u001B[38;5;241m.\u001B[39mSometimes(\u001B[38;5;241m0.5\u001B[39m, iaa\u001B[38;5;241m.\u001B[39mCrop())\n\u001B[1;32m    108\u001B[0m ], random_order\u001B[38;5;241m=\u001B[39m\u001B[38;5;28;01mTrue\u001B[39;00m)\n\u001B[0;32m--> 109\u001B[0m \u001B[38;5;28;01mreturn\u001B[39;00m \u001B[43mseq\u001B[49m\u001B[43m(\u001B[49m\u001B[43mimages\u001B[49m\u001B[38;5;241;43m=\u001B[39;49m\u001B[43mimages\u001B[49m\u001B[43m)\u001B[49m\n",
      "File \u001B[0;32m~/PycharmProjects/Visual/.venv/lib/python3.11/site-packages/imgaug/augmenters/meta.py:2008\u001B[0m, in \u001B[0;36mAugmenter.__call__\u001B[0;34m(self, *args, **kwargs)\u001B[0m\n\u001B[1;32m   2006\u001B[0m \u001B[38;5;28;01mdef\u001B[39;00m \u001B[38;5;21m__call__\u001B[39m(\u001B[38;5;28mself\u001B[39m, \u001B[38;5;241m*\u001B[39margs, \u001B[38;5;241m*\u001B[39m\u001B[38;5;241m*\u001B[39mkwargs):\n\u001B[1;32m   2007\u001B[0m \u001B[38;5;250m    \u001B[39m\u001B[38;5;124;03m\"\"\"Alias for :func:`~imgaug.augmenters.meta.Augmenter.augment`.\"\"\"\u001B[39;00m\n\u001B[0;32m-> 2008\u001B[0m     \u001B[38;5;28;01mreturn\u001B[39;00m \u001B[38;5;28;43mself\u001B[39;49m\u001B[38;5;241;43m.\u001B[39;49m\u001B[43maugment\u001B[49m\u001B[43m(\u001B[49m\u001B[38;5;241;43m*\u001B[39;49m\u001B[43margs\u001B[49m\u001B[43m,\u001B[49m\u001B[43m \u001B[49m\u001B[38;5;241;43m*\u001B[39;49m\u001B[38;5;241;43m*\u001B[39;49m\u001B[43mkwargs\u001B[49m\u001B[43m)\u001B[49m\n",
      "File \u001B[0;32m~/PycharmProjects/Visual/.venv/lib/python3.11/site-packages/imgaug/augmenters/meta.py:1979\u001B[0m, in \u001B[0;36mAugmenter.augment\u001B[0;34m(self, return_batch, hooks, **kwargs)\u001B[0m\n\u001B[1;32m   1968\u001B[0m \u001B[38;5;66;03m# augment batch\u001B[39;00m\n\u001B[1;32m   1969\u001B[0m batch \u001B[38;5;241m=\u001B[39m UnnormalizedBatch(\n\u001B[1;32m   1970\u001B[0m     images\u001B[38;5;241m=\u001B[39mimages,\n\u001B[1;32m   1971\u001B[0m     heatmaps\u001B[38;5;241m=\u001B[39mkwargs\u001B[38;5;241m.\u001B[39mget(\u001B[38;5;124m\"\u001B[39m\u001B[38;5;124mheatmaps\u001B[39m\u001B[38;5;124m\"\u001B[39m, \u001B[38;5;28;01mNone\u001B[39;00m),\n\u001B[0;32m   (...)\u001B[0m\n\u001B[1;32m   1976\u001B[0m     line_strings\u001B[38;5;241m=\u001B[39mkwargs\u001B[38;5;241m.\u001B[39mget(\u001B[38;5;124m\"\u001B[39m\u001B[38;5;124mline_strings\u001B[39m\u001B[38;5;124m\"\u001B[39m, \u001B[38;5;28;01mNone\u001B[39;00m)\n\u001B[1;32m   1977\u001B[0m )\n\u001B[0;32m-> 1979\u001B[0m batch_aug \u001B[38;5;241m=\u001B[39m \u001B[38;5;28;43mself\u001B[39;49m\u001B[38;5;241;43m.\u001B[39;49m\u001B[43maugment_batch_\u001B[49m\u001B[43m(\u001B[49m\u001B[43mbatch\u001B[49m\u001B[43m,\u001B[49m\u001B[43m \u001B[49m\u001B[43mhooks\u001B[49m\u001B[38;5;241;43m=\u001B[39;49m\u001B[43mhooks\u001B[49m\u001B[43m)\u001B[49m\n\u001B[1;32m   1981\u001B[0m \u001B[38;5;66;03m# return either batch or tuple of augmentables, depending on what\u001B[39;00m\n\u001B[1;32m   1982\u001B[0m \u001B[38;5;66;03m# was requested by user\u001B[39;00m\n\u001B[1;32m   1983\u001B[0m \u001B[38;5;28;01mif\u001B[39;00m return_batch:\n",
      "File \u001B[0;32m~/PycharmProjects/Visual/.venv/lib/python3.11/site-packages/imgaug/augmenters/meta.py:641\u001B[0m, in \u001B[0;36mAugmenter.augment_batch_\u001B[0;34m(self, batch, parents, hooks)\u001B[0m\n\u001B[1;32m    639\u001B[0m \u001B[38;5;28;01mwith\u001B[39;00m _maybe_deterministic_ctx(\u001B[38;5;28mself\u001B[39m):\n\u001B[1;32m    640\u001B[0m     \u001B[38;5;28;01mif\u001B[39;00m \u001B[38;5;129;01mnot\u001B[39;00m batch_inaug\u001B[38;5;241m.\u001B[39mempty:\n\u001B[0;32m--> 641\u001B[0m         batch_inaug \u001B[38;5;241m=\u001B[39m \u001B[38;5;28;43mself\u001B[39;49m\u001B[38;5;241;43m.\u001B[39;49m\u001B[43m_augment_batch_\u001B[49m\u001B[43m(\u001B[49m\n\u001B[1;32m    642\u001B[0m \u001B[43m            \u001B[49m\u001B[43mbatch_inaug\u001B[49m\u001B[43m,\u001B[49m\n\u001B[1;32m    643\u001B[0m \u001B[43m            \u001B[49m\u001B[43mrandom_state\u001B[49m\u001B[38;5;241;43m=\u001B[39;49m\u001B[38;5;28;43mself\u001B[39;49m\u001B[38;5;241;43m.\u001B[39;49m\u001B[43mrandom_state\u001B[49m\u001B[43m,\u001B[49m\n\u001B[1;32m    644\u001B[0m \u001B[43m            \u001B[49m\u001B[43mparents\u001B[49m\u001B[38;5;241;43m=\u001B[39;49m\u001B[43mparents\u001B[49m\u001B[43m \u001B[49m\u001B[38;5;28;43;01mif\u001B[39;49;00m\u001B[43m \u001B[49m\u001B[43mparents\u001B[49m\u001B[43m \u001B[49m\u001B[38;5;129;43;01mis\u001B[39;49;00m\u001B[43m \u001B[49m\u001B[38;5;129;43;01mnot\u001B[39;49;00m\u001B[43m \u001B[49m\u001B[38;5;28;43;01mNone\u001B[39;49;00m\u001B[43m \u001B[49m\u001B[38;5;28;43;01melse\u001B[39;49;00m\u001B[43m \u001B[49m\u001B[43m[\u001B[49m\u001B[43m]\u001B[49m\u001B[43m,\u001B[49m\n\u001B[1;32m    645\u001B[0m \u001B[43m            \u001B[49m\u001B[43mhooks\u001B[49m\u001B[38;5;241;43m=\u001B[39;49m\u001B[43mhooks\u001B[49m\u001B[43m)\u001B[49m\n\u001B[1;32m    647\u001B[0m \u001B[38;5;66;03m# revert augmentables being set to None for non-activated augmenters\u001B[39;00m\n\u001B[1;32m    648\u001B[0m \u001B[38;5;28;01mfor\u001B[39;00m column \u001B[38;5;129;01min\u001B[39;00m set_to_none:\n",
      "File \u001B[0;32m~/PycharmProjects/Visual/.venv/lib/python3.11/site-packages/imgaug/augmenters/meta.py:3124\u001B[0m, in \u001B[0;36mSequential._augment_batch_\u001B[0;34m(self, batch, random_state, parents, hooks)\u001B[0m\n\u001B[1;32m   3121\u001B[0m         order \u001B[38;5;241m=\u001B[39m sm\u001B[38;5;241m.\u001B[39mxrange(\u001B[38;5;28mlen\u001B[39m(\u001B[38;5;28mself\u001B[39m))\n\u001B[1;32m   3123\u001B[0m     \u001B[38;5;28;01mfor\u001B[39;00m index \u001B[38;5;129;01min\u001B[39;00m order:\n\u001B[0;32m-> 3124\u001B[0m         batch \u001B[38;5;241m=\u001B[39m \u001B[38;5;28;43mself\u001B[39;49m\u001B[43m[\u001B[49m\u001B[43mindex\u001B[49m\u001B[43m]\u001B[49m\u001B[38;5;241;43m.\u001B[39;49m\u001B[43maugment_batch_\u001B[49m\u001B[43m(\u001B[49m\n\u001B[1;32m   3125\u001B[0m \u001B[43m            \u001B[49m\u001B[43mbatch\u001B[49m\u001B[43m,\u001B[49m\n\u001B[1;32m   3126\u001B[0m \u001B[43m            \u001B[49m\u001B[43mparents\u001B[49m\u001B[38;5;241;43m=\u001B[39;49m\u001B[43mparents\u001B[49m\u001B[43m \u001B[49m\u001B[38;5;241;43m+\u001B[39;49m\u001B[43m \u001B[49m\u001B[43m[\u001B[49m\u001B[38;5;28;43mself\u001B[39;49m\u001B[43m]\u001B[49m\u001B[43m,\u001B[49m\n\u001B[1;32m   3127\u001B[0m \u001B[43m            \u001B[49m\u001B[43mhooks\u001B[49m\u001B[38;5;241;43m=\u001B[39;49m\u001B[43mhooks\u001B[49m\n\u001B[1;32m   3128\u001B[0m \u001B[43m        \u001B[49m\u001B[43m)\u001B[49m\n\u001B[1;32m   3129\u001B[0m \u001B[38;5;28;01mreturn\u001B[39;00m batch\n",
      "File \u001B[0;32m~/PycharmProjects/Visual/.venv/lib/python3.11/site-packages/imgaug/augmenters/meta.py:641\u001B[0m, in \u001B[0;36mAugmenter.augment_batch_\u001B[0;34m(self, batch, parents, hooks)\u001B[0m\n\u001B[1;32m    639\u001B[0m \u001B[38;5;28;01mwith\u001B[39;00m _maybe_deterministic_ctx(\u001B[38;5;28mself\u001B[39m):\n\u001B[1;32m    640\u001B[0m     \u001B[38;5;28;01mif\u001B[39;00m \u001B[38;5;129;01mnot\u001B[39;00m batch_inaug\u001B[38;5;241m.\u001B[39mempty:\n\u001B[0;32m--> 641\u001B[0m         batch_inaug \u001B[38;5;241m=\u001B[39m \u001B[38;5;28;43mself\u001B[39;49m\u001B[38;5;241;43m.\u001B[39;49m\u001B[43m_augment_batch_\u001B[49m\u001B[43m(\u001B[49m\n\u001B[1;32m    642\u001B[0m \u001B[43m            \u001B[49m\u001B[43mbatch_inaug\u001B[49m\u001B[43m,\u001B[49m\n\u001B[1;32m    643\u001B[0m \u001B[43m            \u001B[49m\u001B[43mrandom_state\u001B[49m\u001B[38;5;241;43m=\u001B[39;49m\u001B[38;5;28;43mself\u001B[39;49m\u001B[38;5;241;43m.\u001B[39;49m\u001B[43mrandom_state\u001B[49m\u001B[43m,\u001B[49m\n\u001B[1;32m    644\u001B[0m \u001B[43m            \u001B[49m\u001B[43mparents\u001B[49m\u001B[38;5;241;43m=\u001B[39;49m\u001B[43mparents\u001B[49m\u001B[43m \u001B[49m\u001B[38;5;28;43;01mif\u001B[39;49;00m\u001B[43m \u001B[49m\u001B[43mparents\u001B[49m\u001B[43m \u001B[49m\u001B[38;5;129;43;01mis\u001B[39;49;00m\u001B[43m \u001B[49m\u001B[38;5;129;43;01mnot\u001B[39;49;00m\u001B[43m \u001B[49m\u001B[38;5;28;43;01mNone\u001B[39;49;00m\u001B[43m \u001B[49m\u001B[38;5;28;43;01melse\u001B[39;49;00m\u001B[43m \u001B[49m\u001B[43m[\u001B[49m\u001B[43m]\u001B[49m\u001B[43m,\u001B[49m\n\u001B[1;32m    645\u001B[0m \u001B[43m            \u001B[49m\u001B[43mhooks\u001B[49m\u001B[38;5;241;43m=\u001B[39;49m\u001B[43mhooks\u001B[49m\u001B[43m)\u001B[49m\n\u001B[1;32m    647\u001B[0m \u001B[38;5;66;03m# revert augmentables being set to None for non-activated augmenters\u001B[39;00m\n\u001B[1;32m    648\u001B[0m \u001B[38;5;28;01mfor\u001B[39;00m column \u001B[38;5;129;01min\u001B[39;00m set_to_none:\n",
      "File \u001B[0;32m~/PycharmProjects/Visual/.venv/lib/python3.11/site-packages/imgaug/augmenters/meta.py:3633\u001B[0m, in \u001B[0;36mSometimes._augment_batch_\u001B[0;34m(self, batch, random_state, parents, hooks)\u001B[0m\n\u001B[1;32m   3631\u001B[0m     \u001B[38;5;28;01mif\u001B[39;00m augmenters \u001B[38;5;129;01mis\u001B[39;00m \u001B[38;5;129;01mnot\u001B[39;00m \u001B[38;5;28;01mNone\u001B[39;00m \u001B[38;5;129;01mand\u001B[39;00m \u001B[38;5;28mlen\u001B[39m(augmenters) \u001B[38;5;241m>\u001B[39m \u001B[38;5;241m0\u001B[39m:\n\u001B[1;32m   3632\u001B[0m         batch_sub \u001B[38;5;241m=\u001B[39m batch\u001B[38;5;241m.\u001B[39msubselect_rows_by_indices(indices)\n\u001B[0;32m-> 3633\u001B[0m         batch_sub \u001B[38;5;241m=\u001B[39m \u001B[43maugmenters\u001B[49m\u001B[38;5;241;43m.\u001B[39;49m\u001B[43maugment_batch_\u001B[49m\u001B[43m(\u001B[49m\n\u001B[1;32m   3634\u001B[0m \u001B[43m            \u001B[49m\u001B[43mbatch_sub\u001B[49m\u001B[43m,\u001B[49m\n\u001B[1;32m   3635\u001B[0m \u001B[43m            \u001B[49m\u001B[43mparents\u001B[49m\u001B[38;5;241;43m=\u001B[39;49m\u001B[43mparents\u001B[49m\u001B[43m \u001B[49m\u001B[38;5;241;43m+\u001B[39;49m\u001B[43m \u001B[49m\u001B[43m[\u001B[49m\u001B[38;5;28;43mself\u001B[39;49m\u001B[43m]\u001B[49m\u001B[43m,\u001B[49m\n\u001B[1;32m   3636\u001B[0m \u001B[43m            \u001B[49m\u001B[43mhooks\u001B[49m\u001B[38;5;241;43m=\u001B[39;49m\u001B[43mhooks\u001B[49m\n\u001B[1;32m   3637\u001B[0m \u001B[43m        \u001B[49m\u001B[43m)\u001B[49m\n\u001B[1;32m   3638\u001B[0m         batch \u001B[38;5;241m=\u001B[39m batch\u001B[38;5;241m.\u001B[39minvert_subselect_rows_by_indices_(indices,\n\u001B[1;32m   3639\u001B[0m                                                         batch_sub)\n\u001B[1;32m   3641\u001B[0m \u001B[38;5;28;01mreturn\u001B[39;00m batch\n",
      "File \u001B[0;32m~/PycharmProjects/Visual/.venv/lib/python3.11/site-packages/imgaug/augmenters/meta.py:641\u001B[0m, in \u001B[0;36mAugmenter.augment_batch_\u001B[0;34m(self, batch, parents, hooks)\u001B[0m\n\u001B[1;32m    639\u001B[0m \u001B[38;5;28;01mwith\u001B[39;00m _maybe_deterministic_ctx(\u001B[38;5;28mself\u001B[39m):\n\u001B[1;32m    640\u001B[0m     \u001B[38;5;28;01mif\u001B[39;00m \u001B[38;5;129;01mnot\u001B[39;00m batch_inaug\u001B[38;5;241m.\u001B[39mempty:\n\u001B[0;32m--> 641\u001B[0m         batch_inaug \u001B[38;5;241m=\u001B[39m \u001B[38;5;28;43mself\u001B[39;49m\u001B[38;5;241;43m.\u001B[39;49m\u001B[43m_augment_batch_\u001B[49m\u001B[43m(\u001B[49m\n\u001B[1;32m    642\u001B[0m \u001B[43m            \u001B[49m\u001B[43mbatch_inaug\u001B[49m\u001B[43m,\u001B[49m\n\u001B[1;32m    643\u001B[0m \u001B[43m            \u001B[49m\u001B[43mrandom_state\u001B[49m\u001B[38;5;241;43m=\u001B[39;49m\u001B[38;5;28;43mself\u001B[39;49m\u001B[38;5;241;43m.\u001B[39;49m\u001B[43mrandom_state\u001B[49m\u001B[43m,\u001B[49m\n\u001B[1;32m    644\u001B[0m \u001B[43m            \u001B[49m\u001B[43mparents\u001B[49m\u001B[38;5;241;43m=\u001B[39;49m\u001B[43mparents\u001B[49m\u001B[43m \u001B[49m\u001B[38;5;28;43;01mif\u001B[39;49;00m\u001B[43m \u001B[49m\u001B[43mparents\u001B[49m\u001B[43m \u001B[49m\u001B[38;5;129;43;01mis\u001B[39;49;00m\u001B[43m \u001B[49m\u001B[38;5;129;43;01mnot\u001B[39;49;00m\u001B[43m \u001B[49m\u001B[38;5;28;43;01mNone\u001B[39;49;00m\u001B[43m \u001B[49m\u001B[38;5;28;43;01melse\u001B[39;49;00m\u001B[43m \u001B[49m\u001B[43m[\u001B[49m\u001B[43m]\u001B[49m\u001B[43m,\u001B[49m\n\u001B[1;32m    645\u001B[0m \u001B[43m            \u001B[49m\u001B[43mhooks\u001B[49m\u001B[38;5;241;43m=\u001B[39;49m\u001B[43mhooks\u001B[49m\u001B[43m)\u001B[49m\n\u001B[1;32m    647\u001B[0m \u001B[38;5;66;03m# revert augmentables being set to None for non-activated augmenters\u001B[39;00m\n\u001B[1;32m    648\u001B[0m \u001B[38;5;28;01mfor\u001B[39;00m column \u001B[38;5;129;01min\u001B[39;00m set_to_none:\n",
      "File \u001B[0;32m~/PycharmProjects/Visual/.venv/lib/python3.11/site-packages/imgaug/augmenters/meta.py:3124\u001B[0m, in \u001B[0;36mSequential._augment_batch_\u001B[0;34m(self, batch, random_state, parents, hooks)\u001B[0m\n\u001B[1;32m   3121\u001B[0m         order \u001B[38;5;241m=\u001B[39m sm\u001B[38;5;241m.\u001B[39mxrange(\u001B[38;5;28mlen\u001B[39m(\u001B[38;5;28mself\u001B[39m))\n\u001B[1;32m   3123\u001B[0m     \u001B[38;5;28;01mfor\u001B[39;00m index \u001B[38;5;129;01min\u001B[39;00m order:\n\u001B[0;32m-> 3124\u001B[0m         batch \u001B[38;5;241m=\u001B[39m \u001B[38;5;28;43mself\u001B[39;49m\u001B[43m[\u001B[49m\u001B[43mindex\u001B[49m\u001B[43m]\u001B[49m\u001B[38;5;241;43m.\u001B[39;49m\u001B[43maugment_batch_\u001B[49m\u001B[43m(\u001B[49m\n\u001B[1;32m   3125\u001B[0m \u001B[43m            \u001B[49m\u001B[43mbatch\u001B[49m\u001B[43m,\u001B[49m\n\u001B[1;32m   3126\u001B[0m \u001B[43m            \u001B[49m\u001B[43mparents\u001B[49m\u001B[38;5;241;43m=\u001B[39;49m\u001B[43mparents\u001B[49m\u001B[43m \u001B[49m\u001B[38;5;241;43m+\u001B[39;49m\u001B[43m \u001B[49m\u001B[43m[\u001B[49m\u001B[38;5;28;43mself\u001B[39;49m\u001B[43m]\u001B[49m\u001B[43m,\u001B[49m\n\u001B[1;32m   3127\u001B[0m \u001B[43m            \u001B[49m\u001B[43mhooks\u001B[49m\u001B[38;5;241;43m=\u001B[39;49m\u001B[43mhooks\u001B[49m\n\u001B[1;32m   3128\u001B[0m \u001B[43m        \u001B[49m\u001B[43m)\u001B[49m\n\u001B[1;32m   3129\u001B[0m \u001B[38;5;28;01mreturn\u001B[39;00m batch\n",
      "File \u001B[0;32m~/PycharmProjects/Visual/.venv/lib/python3.11/site-packages/imgaug/augmenters/meta.py:641\u001B[0m, in \u001B[0;36mAugmenter.augment_batch_\u001B[0;34m(self, batch, parents, hooks)\u001B[0m\n\u001B[1;32m    639\u001B[0m \u001B[38;5;28;01mwith\u001B[39;00m _maybe_deterministic_ctx(\u001B[38;5;28mself\u001B[39m):\n\u001B[1;32m    640\u001B[0m     \u001B[38;5;28;01mif\u001B[39;00m \u001B[38;5;129;01mnot\u001B[39;00m batch_inaug\u001B[38;5;241m.\u001B[39mempty:\n\u001B[0;32m--> 641\u001B[0m         batch_inaug \u001B[38;5;241m=\u001B[39m \u001B[38;5;28;43mself\u001B[39;49m\u001B[38;5;241;43m.\u001B[39;49m\u001B[43m_augment_batch_\u001B[49m\u001B[43m(\u001B[49m\n\u001B[1;32m    642\u001B[0m \u001B[43m            \u001B[49m\u001B[43mbatch_inaug\u001B[49m\u001B[43m,\u001B[49m\n\u001B[1;32m    643\u001B[0m \u001B[43m            \u001B[49m\u001B[43mrandom_state\u001B[49m\u001B[38;5;241;43m=\u001B[39;49m\u001B[38;5;28;43mself\u001B[39;49m\u001B[38;5;241;43m.\u001B[39;49m\u001B[43mrandom_state\u001B[49m\u001B[43m,\u001B[49m\n\u001B[1;32m    644\u001B[0m \u001B[43m            \u001B[49m\u001B[43mparents\u001B[49m\u001B[38;5;241;43m=\u001B[39;49m\u001B[43mparents\u001B[49m\u001B[43m \u001B[49m\u001B[38;5;28;43;01mif\u001B[39;49;00m\u001B[43m \u001B[49m\u001B[43mparents\u001B[49m\u001B[43m \u001B[49m\u001B[38;5;129;43;01mis\u001B[39;49;00m\u001B[43m \u001B[49m\u001B[38;5;129;43;01mnot\u001B[39;49;00m\u001B[43m \u001B[49m\u001B[38;5;28;43;01mNone\u001B[39;49;00m\u001B[43m \u001B[49m\u001B[38;5;28;43;01melse\u001B[39;49;00m\u001B[43m \u001B[49m\u001B[43m[\u001B[49m\u001B[43m]\u001B[49m\u001B[43m,\u001B[49m\n\u001B[1;32m    645\u001B[0m \u001B[43m            \u001B[49m\u001B[43mhooks\u001B[49m\u001B[38;5;241;43m=\u001B[39;49m\u001B[43mhooks\u001B[49m\u001B[43m)\u001B[49m\n\u001B[1;32m    647\u001B[0m \u001B[38;5;66;03m# revert augmentables being set to None for non-activated augmenters\u001B[39;00m\n\u001B[1;32m    648\u001B[0m \u001B[38;5;28;01mfor\u001B[39;00m column \u001B[38;5;129;01min\u001B[39;00m set_to_none:\n",
      "File \u001B[0;32m~/PycharmProjects/Visual/.venv/lib/python3.11/site-packages/imgaug/augmenters/geometric.py:1336\u001B[0m, in \u001B[0;36mAffine._augment_batch_\u001B[0;34m(self, batch, random_state, parents, hooks)\u001B[0m\n\u001B[1;32m   1333\u001B[0m samples \u001B[38;5;241m=\u001B[39m \u001B[38;5;28mself\u001B[39m\u001B[38;5;241m.\u001B[39m_draw_samples(batch\u001B[38;5;241m.\u001B[39mnb_rows, random_state)\n\u001B[1;32m   1335\u001B[0m \u001B[38;5;28;01mif\u001B[39;00m batch\u001B[38;5;241m.\u001B[39mimages \u001B[38;5;129;01mis\u001B[39;00m \u001B[38;5;129;01mnot\u001B[39;00m \u001B[38;5;28;01mNone\u001B[39;00m:\n\u001B[0;32m-> 1336\u001B[0m     batch\u001B[38;5;241m.\u001B[39mimages \u001B[38;5;241m=\u001B[39m \u001B[38;5;28;43mself\u001B[39;49m\u001B[38;5;241;43m.\u001B[39;49m\u001B[43m_augment_images_by_samples\u001B[49m\u001B[43m(\u001B[49m\u001B[43mbatch\u001B[49m\u001B[38;5;241;43m.\u001B[39;49m\u001B[43mimages\u001B[49m\u001B[43m,\u001B[49m\n\u001B[1;32m   1337\u001B[0m \u001B[43m                                                   \u001B[49m\u001B[43msamples\u001B[49m\u001B[43m)\u001B[49m\n\u001B[1;32m   1339\u001B[0m \u001B[38;5;28;01mif\u001B[39;00m batch\u001B[38;5;241m.\u001B[39mheatmaps \u001B[38;5;129;01mis\u001B[39;00m \u001B[38;5;129;01mnot\u001B[39;00m \u001B[38;5;28;01mNone\u001B[39;00m:\n\u001B[1;32m   1340\u001B[0m     batch\u001B[38;5;241m.\u001B[39mheatmaps \u001B[38;5;241m=\u001B[39m \u001B[38;5;28mself\u001B[39m\u001B[38;5;241m.\u001B[39m_augment_maps_by_samples(\n\u001B[1;32m   1341\u001B[0m         batch\u001B[38;5;241m.\u001B[39mheatmaps, samples, \u001B[38;5;124m\"\u001B[39m\u001B[38;5;124marr_0to1\u001B[39m\u001B[38;5;124m\"\u001B[39m, \u001B[38;5;28mself\u001B[39m\u001B[38;5;241m.\u001B[39m_cval_heatmaps,\n\u001B[1;32m   1342\u001B[0m         \u001B[38;5;28mself\u001B[39m\u001B[38;5;241m.\u001B[39m_mode_heatmaps, \u001B[38;5;28mself\u001B[39m\u001B[38;5;241m.\u001B[39m_order_heatmaps, \u001B[38;5;124m\"\u001B[39m\u001B[38;5;124mfloat32\u001B[39m\u001B[38;5;124m\"\u001B[39m)\n",
      "File \u001B[0;32m~/PycharmProjects/Visual/.venv/lib/python3.11/site-packages/imgaug/augmenters/geometric.py:1407\u001B[0m, in \u001B[0;36mAffine._augment_images_by_samples\u001B[0;34m(self, images, samples, image_shapes, return_matrices)\u001B[0m\n\u001B[1;32m   1404\u001B[0m order \u001B[38;5;241m=\u001B[39m samples\u001B[38;5;241m.\u001B[39morder[i]\n\u001B[1;32m   1406\u001B[0m \u001B[38;5;28;01mif\u001B[39;00m \u001B[38;5;129;01mnot\u001B[39;00m _is_identity_matrix(matrix):\n\u001B[0;32m-> 1407\u001B[0m     image_warped \u001B[38;5;241m=\u001B[39m \u001B[43m_warp_affine_arr\u001B[49m\u001B[43m(\u001B[49m\n\u001B[1;32m   1408\u001B[0m \u001B[43m        \u001B[49m\u001B[43mimage\u001B[49m\u001B[43m,\u001B[49m\u001B[43m \u001B[49m\u001B[43mmatrix\u001B[49m\u001B[43m,\u001B[49m\n\u001B[1;32m   1409\u001B[0m \u001B[43m        \u001B[49m\u001B[43morder\u001B[49m\u001B[38;5;241;43m=\u001B[39;49m\u001B[43morder\u001B[49m\u001B[43m,\u001B[49m\u001B[43m \u001B[49m\u001B[43mmode\u001B[49m\u001B[38;5;241;43m=\u001B[39;49m\u001B[43mmode\u001B[49m\u001B[43m,\u001B[49m\u001B[43m \u001B[49m\u001B[43mcval\u001B[49m\u001B[38;5;241;43m=\u001B[39;49m\u001B[43mcval\u001B[49m\u001B[43m,\u001B[49m\n\u001B[1;32m   1410\u001B[0m \u001B[43m        \u001B[49m\u001B[43moutput_shape\u001B[49m\u001B[38;5;241;43m=\u001B[39;49m\u001B[43moutput_shape\u001B[49m\u001B[43m,\u001B[49m\u001B[43m \u001B[49m\u001B[43mbackend\u001B[49m\u001B[38;5;241;43m=\u001B[39;49m\u001B[38;5;28;43mself\u001B[39;49m\u001B[38;5;241;43m.\u001B[39;49m\u001B[43mbackend\u001B[49m\u001B[43m)\u001B[49m\n\u001B[1;32m   1412\u001B[0m     result\u001B[38;5;241m.\u001B[39mappend(image_warped)\n\u001B[1;32m   1413\u001B[0m \u001B[38;5;28;01melse\u001B[39;00m:\n",
      "File \u001B[0;32m~/PycharmProjects/Visual/.venv/lib/python3.11/site-packages/imgaug/augmenters/geometric.py:203\u001B[0m, in \u001B[0;36m_warp_affine_arr\u001B[0;34m(arr, matrix, order, mode, cval, output_shape, backend)\u001B[0m\n\u001B[1;32m    196\u001B[0m \u001B[38;5;28;01melse\u001B[39;00m:\n\u001B[1;32m    197\u001B[0m     \u001B[38;5;28;01massert\u001B[39;00m \u001B[38;5;129;01mnot\u001B[39;00m cv2_bad_dtype, (\n\u001B[1;32m    198\u001B[0m         \u001B[38;5;129;01mnot\u001B[39;00m cv2_bad_dtype,\n\u001B[1;32m    199\u001B[0m         \u001B[38;5;124m\"\u001B[39m\u001B[38;5;124mcv2 backend in Affine got a dtype \u001B[39m\u001B[38;5;132;01m%s\u001B[39;00m\u001B[38;5;124m, which it \u001B[39m\u001B[38;5;124m\"\u001B[39m\n\u001B[1;32m    200\u001B[0m         \u001B[38;5;124m\"\u001B[39m\u001B[38;5;124mcannot handle. Try using a different dtype or set \u001B[39m\u001B[38;5;124m\"\u001B[39m\n\u001B[1;32m    201\u001B[0m         \u001B[38;5;124m\"\u001B[39m\u001B[38;5;124morder=0.\u001B[39m\u001B[38;5;124m\"\u001B[39m \u001B[38;5;241m%\u001B[39m (\n\u001B[1;32m    202\u001B[0m             arr\u001B[38;5;241m.\u001B[39mdtype,))\n\u001B[0;32m--> 203\u001B[0m     image_warped \u001B[38;5;241m=\u001B[39m \u001B[43m_warp_affine_arr_cv2\u001B[49m\u001B[43m(\u001B[49m\n\u001B[1;32m    204\u001B[0m \u001B[43m        \u001B[49m\u001B[43marr\u001B[49m\u001B[43m,\u001B[49m\n\u001B[1;32m    205\u001B[0m \u001B[43m        \u001B[49m\u001B[43mmatrix\u001B[49m\u001B[43m,\u001B[49m\n\u001B[1;32m    206\u001B[0m \u001B[43m        \u001B[49m\u001B[43mcval\u001B[49m\u001B[38;5;241;43m=\u001B[39;49m\u001B[38;5;28;43mtuple\u001B[39;49m\u001B[43m(\u001B[49m\u001B[43m[\u001B[49m\u001B[38;5;28;43mint\u001B[39;49m\u001B[43m(\u001B[49m\u001B[43mv\u001B[49m\u001B[43m)\u001B[49m\u001B[43m \u001B[49m\u001B[38;5;28;43;01mfor\u001B[39;49;00m\u001B[43m \u001B[49m\u001B[43mv\u001B[49m\u001B[43m \u001B[49m\u001B[38;5;129;43;01min\u001B[39;49;00m\u001B[43m \u001B[49m\u001B[43mcval\u001B[49m\u001B[43m]\u001B[49m\u001B[43m)\u001B[49m\u001B[43m,\u001B[49m\n\u001B[1;32m    207\u001B[0m \u001B[43m        \u001B[49m\u001B[43mmode\u001B[49m\u001B[38;5;241;43m=\u001B[39;49m\u001B[43mmode\u001B[49m\u001B[43m,\u001B[49m\n\u001B[1;32m    208\u001B[0m \u001B[43m        \u001B[49m\u001B[43morder\u001B[49m\u001B[38;5;241;43m=\u001B[39;49m\u001B[43morder\u001B[49m\u001B[43m,\u001B[49m\n\u001B[1;32m    209\u001B[0m \u001B[43m        \u001B[49m\u001B[43moutput_shape\u001B[49m\u001B[38;5;241;43m=\u001B[39;49m\u001B[43moutput_shape\u001B[49m\n\u001B[1;32m    210\u001B[0m \u001B[43m    \u001B[49m\u001B[43m)\u001B[49m\n\u001B[1;32m    211\u001B[0m \u001B[38;5;28;01mreturn\u001B[39;00m image_warped\n",
      "File \u001B[0;32m~/PycharmProjects/Visual/.venv/lib/python3.11/site-packages/imgaug/augmenters/geometric.py:287\u001B[0m, in \u001B[0;36m_warp_affine_arr_cv2\u001B[0;34m(arr, matrix, cval, mode, order, output_shape)\u001B[0m\n\u001B[1;32m    282\u001B[0m nb_channels \u001B[38;5;241m=\u001B[39m arr\u001B[38;5;241m.\u001B[39mshape[\u001B[38;5;241m-\u001B[39m\u001B[38;5;241m1\u001B[39m]\n\u001B[1;32m    283\u001B[0m \u001B[38;5;28;01mif\u001B[39;00m nb_channels \u001B[38;5;241m<\u001B[39m\u001B[38;5;241m=\u001B[39m \u001B[38;5;241m3\u001B[39m:\n\u001B[1;32m    284\u001B[0m     \u001B[38;5;66;03m# TODO this block can also be when order==0 for any nb_channels,\u001B[39;00m\n\u001B[1;32m    285\u001B[0m     \u001B[38;5;66;03m#      but was deactivated for now, because cval would always\u001B[39;00m\n\u001B[1;32m    286\u001B[0m     \u001B[38;5;66;03m#      contain 3 values and not nb_channels values\u001B[39;00m\n\u001B[0;32m--> 287\u001B[0m     image_warped \u001B[38;5;241m=\u001B[39m \u001B[43mcv2\u001B[49m\u001B[38;5;241;43m.\u001B[39;49m\u001B[43mwarpAffine\u001B[49m\u001B[43m(\u001B[49m\n\u001B[1;32m    288\u001B[0m \u001B[43m        \u001B[49m\u001B[43m_normalize_cv2_input_arr_\u001B[49m\u001B[43m(\u001B[49m\u001B[43marr\u001B[49m\u001B[43m)\u001B[49m\u001B[43m,\u001B[49m\n\u001B[1;32m    289\u001B[0m \u001B[43m        \u001B[49m\u001B[43mmatrix\u001B[49m\u001B[38;5;241;43m.\u001B[39;49m\u001B[43mparams\u001B[49m\u001B[43m[\u001B[49m\u001B[43m:\u001B[49m\u001B[38;5;241;43m2\u001B[39;49m\u001B[43m]\u001B[49m\u001B[43m,\u001B[49m\n\u001B[1;32m    290\u001B[0m \u001B[43m        \u001B[49m\u001B[43mdsize\u001B[49m\u001B[38;5;241;43m=\u001B[39;49m\u001B[43mdsize\u001B[49m\u001B[43m,\u001B[49m\n\u001B[1;32m    291\u001B[0m \u001B[43m        \u001B[49m\u001B[43mflags\u001B[49m\u001B[38;5;241;43m=\u001B[39;49m\u001B[43morder\u001B[49m\u001B[43m,\u001B[49m\n\u001B[1;32m    292\u001B[0m \u001B[43m        \u001B[49m\u001B[43mborderMode\u001B[49m\u001B[38;5;241;43m=\u001B[39;49m\u001B[43mmode\u001B[49m\u001B[43m,\u001B[49m\n\u001B[1;32m    293\u001B[0m \u001B[43m        \u001B[49m\u001B[43mborderValue\u001B[49m\u001B[38;5;241;43m=\u001B[39;49m\u001B[43mcval\u001B[49m\n\u001B[1;32m    294\u001B[0m \u001B[43m    \u001B[49m\u001B[43m)\u001B[49m\n\u001B[1;32m    296\u001B[0m     \u001B[38;5;66;03m# cv2 warp drops last axis if shape is (H, W, 1)\u001B[39;00m\n\u001B[1;32m    297\u001B[0m     \u001B[38;5;28;01mif\u001B[39;00m image_warped\u001B[38;5;241m.\u001B[39mndim \u001B[38;5;241m==\u001B[39m \u001B[38;5;241m2\u001B[39m:\n",
      "\u001B[0;31mKeyboardInterrupt\u001B[0m: "
     ]
    }
   ],
   "source": [
    "from cnn_classification import build_finetune_network, train_network\n",
    "from tensorflow import keras\n",
    "from keras.applications.efficientnet_v2 import EfficientNetV2B0, preprocess_input\n",
    "\n",
    "extension = keras.Sequential([\n",
    "    keras.layers.Flatten(),\n",
    "    keras.layers.Dense(251, activation='softmax')])\n",
    "\n",
    "loss = 'categorical_crossentropy'\n",
    "optimizer = 'adam'\n",
    "metrics = ['accuracy']\n",
    "\n",
    "cut_layer = 'top_dropout'\n",
    "non_trainable_cut_layer = 'block5e_add'\n",
    "\n",
    "extended_model = build_finetune_network(EfficientNetV2B0, extension, cut_layer,\n",
    "                                        optimizer, metrics, loss, non_trainable_cut_layer=non_trainable_cut_layer)\n",
    "\n",
    "\n",
    "save_path = \"./models/efficientnet_v2_standard\"\n",
    "train_loss, train_accuracy, val_loss, val_accuracy = train_network(extended_model,\n",
    "                                                                   save_path,\n",
    "                                                                   train_info,\n",
    "                                                                   val_info,\n",
    "                                                                   train_dir,\n",
    "                                                                   epochs=10,\n",
    "                                                                   augment=True,\n",
    "                                                                   strong_augment=False,\n",
    "                                                                   batch_size=64,\n",
    "                                                                   preprocess_input=preprocess_input)"
   ],
   "metadata": {
    "collapsed": false,
    "ExecuteTime": {
     "end_time": "2024-01-01T15:15:37.753817510Z",
     "start_time": "2024-01-01T14:59:25.546951831Z"
    }
   },
   "id": "adb0f2e7a1869bd2",
   "execution_count": 2
  },
  {
   "cell_type": "code",
   "outputs": [],
   "source": [
    "EfficientNetV2B0().summary()"
   ],
   "metadata": {
    "collapsed": false
   },
   "id": "72eece735793fcb2",
   "execution_count": null
  },
  {
   "cell_type": "code",
   "outputs": [],
   "source": [
    "extended_model.summary()"
   ],
   "metadata": {
    "collapsed": false
   },
   "id": "59adbe237373764e",
   "execution_count": null
  },
  {
   "cell_type": "code",
   "outputs": [],
   "source": [
    "extended_model.save('./finetune_network/model')\n",
    "from tensorflow import keras\n",
    "keras.applications.EfficientNetV2B0().summary()"
   ],
   "metadata": {
    "collapsed": false
   },
   "id": "f2023563f26dd697",
   "execution_count": null
  },
  {
   "cell_type": "code",
   "outputs": [],
   "source": [
    "from tensorflow import keras\n",
    "from cnn_classification import train_network\n",
    "import gc\n",
    "\n",
    "path = './efficientnet_noise'\n",
    "for i in range(20):\n",
    "    extended_model = keras.models.load_model(path)\n",
    "    train_network(extended_model, train_info, val_info, train_dir, epochs=1, augment=True, batch_size=64, preprocess_input=preprocess_input)\n",
    "    extended_model.save(path)\n",
    "    del extended_model\n",
    "    gc.collect()\n",
    "    keras.backend.clear_session()"
   ],
   "metadata": {
    "collapsed": false
   },
   "id": "29bb068ba35f0536",
   "execution_count": null
  },
  {
   "cell_type": "code",
   "outputs": [],
   "source": [
    "from tensorflow import keras\n",
    "from cnn_classification import evaluate_model, predict\n",
    "\n",
    "model = keras.models.load_model(path)\n",
    "predictions = predict(model, val_degraded_dir, 64, preprocess_input=preprocess_input)"
   ],
   "metadata": {
    "collapsed": false
   },
   "id": "482a20b47c18bdcc",
   "execution_count": null
  },
  {
   "cell_type": "code",
   "outputs": [],
   "source": [
    "from sklearn.metrics import confusion_matrix, ConfusionMatrixDisplay\n",
    "import matplotlib.pyplot as plt\n",
    "import numpy as np\n",
    "from tensorflow import keras\n",
    "\n",
    "num_pred = []\n",
    "for p in predictions:\n",
    "    num_pred.append(np.argmax(p))\n",
    "print(len(predictions), len(test_labels))\n",
    "\n",
    "cm = confusion_matrix(test_labels, num_pred)\n",
    "disp = ConfusionMatrixDisplay(cm)\n",
    "disp.plot()\n",
    "plt.show()"
   ],
   "metadata": {
    "collapsed": false
   },
   "id": "9c5d399c68c623d0",
   "execution_count": null
  },
  {
   "cell_type": "code",
   "outputs": [],
   "source": [
    "cm"
   ],
   "metadata": {
    "collapsed": false
   },
   "id": "d05e879bce6db92f",
   "execution_count": null
  },
  {
   "cell_type": "code",
   "outputs": [],
   "source": [
    "cm.diagonal().sum() / cm.sum()"
   ],
   "metadata": {
    "collapsed": false
   },
   "id": "22f7c7b4fe4c10c9",
   "execution_count": null
  },
  {
   "cell_type": "code",
   "outputs": [],
   "source": [],
   "metadata": {
    "collapsed": false
   },
   "id": "7a20012da7279711"
  }
 ],
 "metadata": {
  "kernelspec": {
   "display_name": "Python 3",
   "language": "python",
   "name": "python3"
  },
  "language_info": {
   "codemirror_mode": {
    "name": "ipython",
    "version": 2
   },
   "file_extension": ".py",
   "mimetype": "text/x-python",
   "name": "python",
   "nbconvert_exporter": "python",
   "pygments_lexer": "ipython2",
   "version": "2.7.6"
  }
 },
 "nbformat": 4,
 "nbformat_minor": 5
}
