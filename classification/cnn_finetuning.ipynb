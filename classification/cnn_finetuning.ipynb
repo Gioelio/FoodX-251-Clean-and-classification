{
 "cells": [
  {
   "cell_type": "code",
   "execution_count": 1,
   "id": "initial_id",
   "metadata": {
    "ExecuteTime": {
     "end_time": "2024-01-15T10:07:16.228866751Z",
     "start_time": "2024-01-15T10:07:13.675594167Z"
    },
    "collapsed": true
   },
   "outputs": [
    {
     "name": "stderr",
     "output_type": "stream",
     "text": [
      "2024-01-15 11:07:14.512409: E external/local_xla/xla/stream_executor/cuda/cuda_dnn.cc:9261] Unable to register cuDNN factory: Attempting to register factory for plugin cuDNN when one has already been registered\n",
      "2024-01-15 11:07:14.512463: E external/local_xla/xla/stream_executor/cuda/cuda_fft.cc:607] Unable to register cuFFT factory: Attempting to register factory for plugin cuFFT when one has already been registered\n",
      "2024-01-15 11:07:14.516017: E external/local_xla/xla/stream_executor/cuda/cuda_blas.cc:1515] Unable to register cuBLAS factory: Attempting to register factory for plugin cuBLAS when one has already been registered\n",
      "2024-01-15 11:07:14.522917: I tensorflow/core/platform/cpu_feature_guard.cc:182] This TensorFlow binary is optimized to use available CPU instructions in performance-critical operations.\n",
      "To enable the following instructions: AVX2 FMA, in other operations, rebuild TensorFlow with the appropriate compiler flags.\n",
      "2024-01-15 11:07:15.378461: W tensorflow/compiler/tf2tensorrt/utils/py_utils.cc:38] TF-TRT Warning: Could not find TensorRT\n"
     ]
    }
   ],
   "source": [
    "import sys\n",
    "sys.path.append('..')\n",
    "\n",
    "from misc import load, load_class_labels\n",
    "\n",
    "dataset_root = \"../dataset/\"\n",
    "\n",
    "train_dir = dataset_root + \"train_set/\"\n",
    "val_dir = dataset_root + \"val_set/\"\n",
    "val_degraded_dir = dataset_root + \"val_set_degraded/\"\n",
    "val_restores_dir = dataset_root + \"val_set_restored/\"\n",
    "val_prep_dit = dataset_root + \"val_set_preprocessed/\"\n",
    "\n",
    "sample_rate = 1\n",
    "train_info = load(dataset_root + 'labels/train_info_cleaned.csv', 1, sample_rate)\n",
    "test_info = load(dataset_root + 'labels/test.csv')\n",
    "val_info = load(dataset_root + 'labels/validation.csv')\n",
    "\n",
    "train_image_names = train_info.iloc[:, 0].values\n",
    "val_image_names = val_info.iloc[:, 0].values\n",
    "test_image_names = test_info.iloc[:, 0].values\n",
    "\n",
    "train_labels = train_info.iloc[:, 1].values\n",
    "val_labels = val_info.iloc[:, 1].values\n",
    "test_labels = test_info.iloc[:, 1].values\n",
    "\n",
    "class_labels = load_class_labels(dataset_root + 'classes.txt')"
   ]
  },
  {
   "cell_type": "code",
   "execution_count": 3,
   "id": "870af5e1e265a1c7",
   "metadata": {
    "ExecuteTime": {
     "end_time": "2024-01-15T10:07:23.114879257Z",
     "start_time": "2024-01-15T10:07:23.105724786Z"
    },
    "collapsed": false
   },
   "outputs": [],
   "source": [
    "from cnn_classification import build_finetune_network, train_network\n",
    "from tensorflow import keras\n",
    "from keras.applications.efficientnet_v2 import EfficientNetV2B0, preprocess_input\n",
    "\n",
    "save_path = \"./tuned_models/efficientnet_v2_noise_extended\""
   ]
  },
  {
   "cell_type": "code",
   "execution_count": null,
   "id": "adb0f2e7a1869bd2",
   "metadata": {
    "collapsed": false
   },
   "outputs": [],
   "source": [
    "extension = keras.Sequential([\n",
    "    keras.layers.Flatten(),\n",
    "    keras.layers.Dropout(0.3),\n",
    "    keras.layers.Dense(251, activation='softmax')])\n",
    "\n",
    "loss = 'categorical_crossentropy'\n",
    "optimizer = 'adam'\n",
    "metrics = ['accuracy', keras.metrics.TopKCategoricalAccuracy(3)]\n",
    "\n",
    "cut_layer = 'top_dropout'\n",
    "non_trainable_cut_layer = 'block5e_add'\n",
    "\n",
    "extended_model = build_finetune_network(EfficientNetV2B0, extension, cut_layer,\n",
    "                                        optimizer, metrics, loss, non_trainable_cut_layer=non_trainable_cut_layer)"
   ]
  },
  {
   "cell_type": "code",
   "execution_count": 4,
   "id": "b9d0bbd1a3a63f78",
   "metadata": {
    "ExecuteTime": {
     "end_time": "2024-01-15T10:07:36.844381065Z",
     "start_time": "2024-01-15T10:07:26.370487442Z"
    },
    "collapsed": false
   },
   "outputs": [
    {
     "name": "stderr",
     "output_type": "stream",
     "text": [
      "2024-01-15 11:07:26.459474: I external/local_xla/xla/stream_executor/cuda/cuda_executor.cc:901] successful NUMA node read from SysFS had negative value (-1), but there must be at least one NUMA node, so returning NUMA node zero. See more at https://github.com/torvalds/linux/blob/v6.0/Documentation/ABI/testing/sysfs-bus-pci#L344-L355\n",
      "2024-01-15 11:07:26.563691: I external/local_xla/xla/stream_executor/cuda/cuda_executor.cc:901] successful NUMA node read from SysFS had negative value (-1), but there must be at least one NUMA node, so returning NUMA node zero. See more at https://github.com/torvalds/linux/blob/v6.0/Documentation/ABI/testing/sysfs-bus-pci#L344-L355\n",
      "2024-01-15 11:07:26.563882: I external/local_xla/xla/stream_executor/cuda/cuda_executor.cc:901] successful NUMA node read from SysFS had negative value (-1), but there must be at least one NUMA node, so returning NUMA node zero. See more at https://github.com/torvalds/linux/blob/v6.0/Documentation/ABI/testing/sysfs-bus-pci#L344-L355\n",
      "2024-01-15 11:07:26.564617: I external/local_xla/xla/stream_executor/cuda/cuda_executor.cc:901] successful NUMA node read from SysFS had negative value (-1), but there must be at least one NUMA node, so returning NUMA node zero. See more at https://github.com/torvalds/linux/blob/v6.0/Documentation/ABI/testing/sysfs-bus-pci#L344-L355\n",
      "2024-01-15 11:07:26.564794: I external/local_xla/xla/stream_executor/cuda/cuda_executor.cc:901] successful NUMA node read from SysFS had negative value (-1), but there must be at least one NUMA node, so returning NUMA node zero. See more at https://github.com/torvalds/linux/blob/v6.0/Documentation/ABI/testing/sysfs-bus-pci#L344-L355\n",
      "2024-01-15 11:07:26.564945: I external/local_xla/xla/stream_executor/cuda/cuda_executor.cc:901] successful NUMA node read from SysFS had negative value (-1), but there must be at least one NUMA node, so returning NUMA node zero. See more at https://github.com/torvalds/linux/blob/v6.0/Documentation/ABI/testing/sysfs-bus-pci#L344-L355\n",
      "2024-01-15 11:07:28.088285: I external/local_xla/xla/stream_executor/cuda/cuda_executor.cc:901] successful NUMA node read from SysFS had negative value (-1), but there must be at least one NUMA node, so returning NUMA node zero. See more at https://github.com/torvalds/linux/blob/v6.0/Documentation/ABI/testing/sysfs-bus-pci#L344-L355\n",
      "2024-01-15 11:07:28.088949: I external/local_xla/xla/stream_executor/cuda/cuda_executor.cc:901] successful NUMA node read from SysFS had negative value (-1), but there must be at least one NUMA node, so returning NUMA node zero. See more at https://github.com/torvalds/linux/blob/v6.0/Documentation/ABI/testing/sysfs-bus-pci#L344-L355\n",
      "2024-01-15 11:07:28.089120: I external/local_xla/xla/stream_executor/cuda/cuda_executor.cc:901] successful NUMA node read from SysFS had negative value (-1), but there must be at least one NUMA node, so returning NUMA node zero. See more at https://github.com/torvalds/linux/blob/v6.0/Documentation/ABI/testing/sysfs-bus-pci#L344-L355\n",
      "2024-01-15 11:07:28.089249: I tensorflow/core/common_runtime/gpu/gpu_device.cc:1929] Created device /job:localhost/replica:0/task:0/device:GPU:0 with 2182 MB memory:  -> device: 0, name: NVIDIA GeForce GTX 980, pci bus id: 0000:05:00.0, compute capability: 5.2\n"
     ]
    }
   ],
   "source": [
    "extended_model = keras.models.load_model(save_path)"
   ]
  },
  {
   "cell_type": "code",
   "execution_count": null,
   "id": "afd8cd90",
   "metadata": {},
   "outputs": [],
   "source": [
    "extended_model, train_loss, train_accuracy, val_loss, val_accuracy = train_network(extended_model,\n",
    "                                                                   save_path,\n",
    "                                                                   train_info,\n",
    "                                                                   val_info,\n",
    "                                                                   train_dir,\n",
    "                                                                   epochs=5,\n",
    "                                                                   augment=True,\n",
    "                                                                   strong_augment=True,\n",
    "                                                                   batch_size=64,\n",
    "                                                                   preprocess_input=preprocess_input)"
   ]
  },
  {
   "cell_type": "code",
   "execution_count": 5,
   "id": "482a20b47c18bdcc",
   "metadata": {
    "ExecuteTime": {
     "end_time": "2024-01-15T10:09:16.480569356Z",
     "start_time": "2024-01-15T10:07:36.850034894Z"
    },
    "collapsed": false
   },
   "outputs": [
    {
     "name": "stderr",
     "output_type": "stream",
     "text": [
      "2024-01-15 11:07:37.486788: W external/local_tsl/tsl/framework/cpu_allocator_impl.cc:83] Allocation of 77070336 exceeds 10% of free system memory.\n",
      "2024-01-15 11:07:37.699769: W external/local_tsl/tsl/framework/cpu_allocator_impl.cc:83] Allocation of 77070336 exceeds 10% of free system memory.\n",
      "2024-01-15 11:07:38.964279: W external/local_tsl/tsl/framework/cpu_allocator_impl.cc:83] Allocation of 19267584 exceeds 10% of free system memory.\n",
      "2024-01-15 11:07:38.964331: W external/local_tsl/tsl/framework/cpu_allocator_impl.cc:83] Allocation of 19267584 exceeds 10% of free system memory.\n",
      "2024-01-15 11:07:38.964383: W external/local_tsl/tsl/framework/cpu_allocator_impl.cc:83] Allocation of 19267584 exceeds 10% of free system memory.\n",
      "2024-01-15 11:07:41.838520: I external/local_xla/xla/stream_executor/cuda/cuda_dnn.cc:454] Loaded cuDNN version 8902\n"
     ]
    },
    {
     "name": "stdout",
     "output_type": "stream",
     "text": [
      "4/4 [==============================] - 9s 60ms/step\n",
      "4/4 [==============================] - 0s 76ms/step\n",
      "4/4 [==============================] - 0s 78ms/step\n",
      "4/4 [==============================] - 0s 79ms/step\n",
      "4/4 [==============================] - 0s 77ms/step\n",
      "4/4 [==============================] - 0s 76ms/step\n",
      "4/4 [==============================] - 0s 76ms/step\n",
      "4/4 [==============================] - 0s 77ms/step\n",
      "4/4 [==============================] - 0s 76ms/step\n",
      "4/4 [==============================] - 0s 75ms/step\n",
      "4/4 [==============================] - 0s 75ms/step\n",
      "4/4 [==============================] - 0s 75ms/step\n",
      "4/4 [==============================] - 0s 75ms/step\n",
      "4/4 [==============================] - 0s 75ms/step\n",
      "4/4 [==============================] - 0s 77ms/step\n",
      "4/4 [==============================] - 0s 77ms/step\n",
      "4/4 [==============================] - 0s 76ms/step\n",
      "4/4 [==============================] - 0s 79ms/step\n",
      "4/4 [==============================] - 0s 76ms/step\n",
      "4/4 [==============================] - 0s 74ms/step\n",
      "4/4 [==============================] - 0s 77ms/step\n",
      "4/4 [==============================] - 0s 76ms/step\n",
      "4/4 [==============================] - 0s 76ms/step\n",
      "4/4 [==============================] - 0s 77ms/step\n",
      "4/4 [==============================] - 0s 76ms/step\n",
      "4/4 [==============================] - 0s 75ms/step\n",
      "4/4 [==============================] - 0s 74ms/step\n",
      "4/4 [==============================] - 0s 75ms/step\n",
      "4/4 [==============================] - 0s 74ms/step\n",
      "4/4 [==============================] - 0s 75ms/step\n",
      "4/4 [==============================] - 0s 75ms/step\n",
      "4/4 [==============================] - 0s 75ms/step\n",
      "4/4 [==============================] - 0s 77ms/step\n",
      "4/4 [==============================] - 0s 69ms/step\n",
      "4/4 [==============================] - 0s 75ms/step\n",
      "4/4 [==============================] - 0s 77ms/step\n",
      "4/4 [==============================] - 0s 76ms/step\n",
      "4/4 [==============================] - 0s 69ms/step\n",
      "4/4 [==============================] - 0s 73ms/step\n",
      "4/4 [==============================] - 0s 78ms/step\n",
      "4/4 [==============================] - 0s 72ms/step\n",
      "4/4 [==============================] - 0s 71ms/step\n",
      "4/4 [==============================] - 0s 71ms/step\n",
      "4/4 [==============================] - 0s 77ms/step\n",
      "4/4 [==============================] - 0s 78ms/step\n",
      "4/4 [==============================] - 0s 75ms/step\n",
      "4/4 [==============================] - 0s 77ms/step\n",
      "4/4 [==============================] - 0s 81ms/step\n",
      "4/4 [==============================] - 0s 76ms/step\n",
      "4/4 [==============================] - 0s 75ms/step\n",
      "4/4 [==============================] - 0s 75ms/step\n",
      "4/4 [==============================] - 0s 75ms/step\n",
      "4/4 [==============================] - 0s 75ms/step\n",
      "4/4 [==============================] - 0s 76ms/step\n",
      "4/4 [==============================] - 0s 75ms/step\n",
      "4/4 [==============================] - 0s 79ms/step\n",
      "4/4 [==============================] - 0s 75ms/step\n",
      "4/4 [==============================] - 0s 75ms/step\n",
      "4/4 [==============================] - 0s 74ms/step\n",
      "4/4 [==============================] - 0s 75ms/step\n",
      "4/4 [==============================] - 0s 76ms/step\n",
      "4/4 [==============================] - 0s 75ms/step\n",
      "4/4 [==============================] - 0s 75ms/step\n",
      "4/4 [==============================] - 0s 75ms/step\n",
      "4/4 [==============================] - 0s 75ms/step\n",
      "4/4 [==============================] - 0s 75ms/step\n",
      "4/4 [==============================] - 0s 75ms/step\n",
      "4/4 [==============================] - 0s 76ms/step\n",
      "4/4 [==============================] - 0s 75ms/step\n",
      "4/4 [==============================] - 0s 75ms/step\n",
      "4/4 [==============================] - 0s 75ms/step\n",
      "4/4 [==============================] - 0s 75ms/step\n",
      "4/4 [==============================] - 0s 75ms/step\n",
      "4/4 [==============================] - 0s 75ms/step\n",
      "4/4 [==============================] - 0s 75ms/step\n",
      "4/4 [==============================] - 0s 75ms/step\n",
      "4/4 [==============================] - 0s 75ms/step\n",
      "4/4 [==============================] - 0s 74ms/step\n",
      "4/4 [==============================] - 0s 77ms/step\n",
      "4/4 [==============================] - 0s 75ms/step\n",
      "4/4 [==============================] - 0s 76ms/step\n",
      "4/4 [==============================] - 0s 75ms/step\n",
      "4/4 [==============================] - 0s 76ms/step\n",
      "4/4 [==============================] - 0s 76ms/step\n",
      "4/4 [==============================] - 0s 76ms/step\n",
      "4/4 [==============================] - 0s 75ms/step\n",
      "4/4 [==============================] - 0s 75ms/step\n",
      "4/4 [==============================] - 0s 75ms/step\n",
      "4/4 [==============================] - 0s 75ms/step\n",
      "4/4 [==============================] - 0s 75ms/step\n",
      "4/4 [==============================] - 0s 75ms/step\n",
      "4/4 [==============================] - 0s 75ms/step\n",
      "4/4 [==============================] - 0s 75ms/step\n",
      "3/3 [==============================] - 4s 1s/step\n"
     ]
    }
   ],
   "source": [
    "from tensorflow import keras\n",
    "from cnn_classification import predict\n",
    "\n",
    "predictions, names = predict(extended_model, val_dir, 128, preprocess_input=preprocess_input)"
   ]
  },
  {
   "cell_type": "code",
   "execution_count": 6,
   "id": "9c5d399c68c623d0",
   "metadata": {
    "ExecuteTime": {
     "end_time": "2024-01-15T10:09:30.871131527Z",
     "start_time": "2024-01-15T10:09:29.715830699Z"
    },
    "collapsed": false
   },
   "outputs": [],
   "source": [
    "from sklearn.metrics import confusion_matrix, ConfusionMatrixDisplay\n",
    "import matplotlib.pyplot as plt\n",
    "import numpy as np\n",
    "\n",
    "\n",
    "\n",
    "\n",
    "ordered_indices = np.argsort(names)\n",
    "predictions = np.array(predictions)\n",
    "ordered_names = np.argsort(test_image_names)\n",
    "\n",
    "predictions_logit = np.argmax(predictions[ordered_indices], axis=1)\n",
    "\n",
    "filtered_info = test_info[test_info['filename'].isin(names)]\n",
    "filtered_info.sort_values(by='filename', inplace=True)\n",
    "labels = filtered_info['label'].values\n",
    "\n",
    "ordered_y = labels\n",
    "\n",
    "\n",
    "# cm = confusion_matrix(ordered_y, predictions_logit)\n",
    "# disp = ConfusionMatrixDisplay(cm)\n",
    "# disp.plot()\n",
    "# plt.show()"
   ]
  },
  {
   "cell_type": "code",
   "execution_count": 7,
   "id": "8b78d472b71b68e8",
   "metadata": {
    "ExecuteTime": {
     "end_time": "2024-01-15T10:09:30.947734850Z",
     "start_time": "2024-01-15T10:09:30.880536056Z"
    },
    "collapsed": false
   },
   "outputs": [
    {
     "name": "stdout",
     "output_type": "stream",
     "text": [
      "                               precision    recall  f1-score   support\n",
      "\n",
      "                      macaron       0.94      0.87      0.91        55\n",
      "                      beignet       0.85      0.82      0.83        61\n",
      "                      cruller       0.82      0.58      0.68        53\n",
      "                  cockle_food       0.55      0.71      0.62        51\n",
      "                       samosa       0.57      0.80      0.67        41\n",
      "                     tiramisu       0.67      0.58      0.62        52\n",
      "                      tostada       0.63      0.60      0.61        57\n",
      "                     moussaka       0.33      0.57      0.42        54\n",
      "                     dumpling       0.58      0.61      0.59        49\n",
      "                      sashimi       0.70      0.72      0.71        46\n",
      "                        knish       0.51      0.38      0.43        48\n",
      "                    croquette       0.38      0.64      0.48        47\n",
      "                     couscous       0.47      0.47      0.47        45\n",
      "                     porridge       0.64      0.70      0.67        61\n",
      "              stuffed_cabbage       0.47      0.61      0.53        46\n",
      "                seaweed_salad       0.77      0.75      0.76        57\n",
      "                    chow_mein       0.51      0.71      0.60        49\n",
      "                     rigatoni       0.52      0.67      0.58        57\n",
      "                 beef_tartare       0.38      0.29      0.33        31\n",
      "                      cannoli       0.78      0.78      0.78        49\n",
      "                    foie_gras       0.48      0.26      0.34        42\n",
      "                      cupcake       0.78      0.85      0.81        53\n",
      "                    osso_buco       0.64      0.64      0.64        42\n",
      "                     pad_thai       0.71      0.45      0.55        56\n",
      "                      poutine       0.55      0.74      0.63        54\n",
      "                        ramen       0.63      0.62      0.63        58\n",
      "         pulled_pork_sandwich       0.72      0.77      0.75        57\n",
      "                     bibimbap       0.82      0.76      0.79        54\n",
      "                 chicken_kiev       0.58      0.57      0.58        54\n",
      "                    apple_pie       0.48      0.54      0.51        41\n",
      "                      risotto       0.63      0.46      0.53        52\n",
      "                    fruitcake       0.70      0.54      0.61        56\n",
      "                    chop_suey       0.58      0.37      0.45        49\n",
      "                       haggis       0.69      0.59      0.63        41\n",
      "               scrambled_eggs       0.90      0.70      0.79        67\n",
      "                     frittata       0.62      0.73      0.67        62\n",
      "                       scampi       0.66      0.45      0.53        56\n",
      "                        sushi       0.69      0.48      0.57        52\n",
      "                         orzo       0.58      0.68      0.62        56\n",
      "                      fritter       0.65      0.38      0.48        53\n",
      "                        nacho       0.53      0.49      0.51        35\n",
      "              beef_stroganoff       0.64      0.82      0.72        60\n",
      "              beef_wellington       0.73      0.85      0.79        54\n",
      "                  spring_roll       0.79      0.65      0.71        63\n",
      "                      savarin       0.67      0.54      0.59        41\n",
      "                crayfish_food       0.97      0.63      0.76        46\n",
      "                      souffle       0.76      0.67      0.71        55\n",
      "                        adobo       0.39      0.37      0.38        43\n",
      "                     streusel       0.54      0.39      0.45        56\n",
      "                  deviled_egg       0.87      0.90      0.88        58\n",
      "                     escargot       0.81      0.69      0.75        32\n",
      "                club_sandwich       0.65      0.65      0.65        57\n",
      "                  carrot_cake       0.67      0.69      0.68        52\n",
      "                      falafel       0.54      0.61      0.57        54\n",
      "                     farfalle       0.58      0.49      0.53        37\n",
      "                      terrine       0.55      0.42      0.48        50\n",
      "                  poached_egg       0.61      0.44      0.51        57\n",
      "                      gnocchi       0.51      0.65      0.57        51\n",
      "            bubble_and_squeak       0.29      0.36      0.32        44\n",
      "                     egg_roll       0.32      0.60      0.42        35\n",
      "                caprese_salad       0.82      0.89      0.85        53\n",
      "                   sauerkraut       0.48      0.63      0.55        46\n",
      "                 creme_brulee       0.48      0.72      0.58        43\n",
      "                      pavlova       0.87      0.80      0.83        49\n",
      "                       fondue       0.73      0.83      0.77        52\n",
      "                      scallop       0.42      0.21      0.28        24\n",
      "                    jambalaya       0.51      0.70      0.59        56\n",
      "                      tempura       0.58      0.65      0.61        52\n",
      "               chocolate_cake       0.52      0.65      0.58        60\n",
      "                       potpie       0.63      0.67      0.65        49\n",
      "          spaghetti_bolognese       0.72      0.73      0.73        56\n",
      "                     sukiyaki       0.73      0.67      0.70        36\n",
      "                   applesauce       0.48      0.77      0.59        39\n",
      "                      baklava       0.56      0.61      0.59        57\n",
      "              salisbury_steak       0.63      0.54      0.58        50\n",
      "                     linguine       0.42      0.57      0.48        61\n",
      "                      edamame       0.67      0.89      0.76        53\n",
      "                   coq_au_vin       0.40      0.28      0.33        57\n",
      "                       tamale       0.67      0.78      0.72        36\n",
      "          macaroni_and_cheese       0.52      0.68      0.59        50\n",
      "                     kedgeree       0.85      0.72      0.78        47\n",
      "                 garlic_bread       0.73      0.77      0.75        57\n",
      "                   beet_salad       0.75      0.87      0.81        62\n",
      "                steak_tartare       0.43      0.85      0.57        26\n",
      "                   vermicelli       0.45      0.33      0.38        40\n",
      "                         pate       0.45      0.34      0.39        38\n",
      "                      pancake       0.74      0.53      0.62        47\n",
      "                   tetrazzini       0.53      0.40      0.46        57\n",
      "                  onion_rings       0.91      0.83      0.86        58\n",
      "              red_velvet_cake       0.80      0.84      0.82        44\n",
      "                      compote       0.53      0.56      0.55        57\n",
      "                 lobster_food       0.32      0.53      0.40        43\n",
      "                chicken_curry       0.54      0.61      0.57        41\n",
      "                 chicken_wing       0.38      0.21      0.27        43\n",
      "                 caesar_salad       0.75      0.55      0.64        49\n",
      "                    succotash       0.74      0.70      0.72        50\n",
      "                       hummus       0.62      0.63      0.62        51\n",
      "               fish_and_chips       0.82      0.80      0.81        61\n",
      "                      lasagna       0.34      0.41      0.37        58\n",
      "                     lutefisk       0.60      0.29      0.39        21\n",
      "                   sloppy_joe       0.73      0.81      0.77        47\n",
      "                  gingerbread       0.86      0.67      0.75        36\n",
      "                    crab_cake       0.60      0.61      0.60        46\n",
      "                  sauerbraten       0.71      0.48      0.57        42\n",
      "                  peking_duck       0.71      0.60      0.65        40\n",
      "                    guacamole       0.74      0.82      0.78        51\n",
      "                 ham_sandwich       0.36      0.62      0.46        45\n",
      "                      crumpet       0.72      0.48      0.57        48\n",
      "                         taco       0.79      0.42      0.55        36\n",
      "         strawberry_shortcake       0.61      0.49      0.54        35\n",
      "                 clam_chowder       0.77      0.65      0.71        55\n",
      "                  cottage_pie       0.67      0.60      0.63        60\n",
      "                croque_madame       0.62      0.54      0.57        54\n",
      "            french_onion_soup       0.58      0.79      0.67        52\n",
      "               beef_carpaccio       0.80      0.75      0.78        53\n",
      "                        torte       0.26      0.43      0.32        42\n",
      "                          poi       0.00      0.00      0.00         2\n",
      "                    crab_food       0.45      0.67      0.54        27\n",
      "               bacon_and_eggs       0.37      0.44      0.40        43\n",
      "                  coffee_cake       0.28      0.41      0.33        64\n",
      "                      custard       0.22      0.19      0.21        36\n",
      "                     syllabub       0.66      0.60      0.63        48\n",
      "                    pork_chop       0.34      0.40      0.37        58\n",
      "                   fried_rice       0.45      0.51      0.48        43\n",
      "                   boiled_egg       0.72      0.82      0.77        44\n",
      "                    galantine       0.37      0.36      0.37        36\n",
      "                      brisket       0.53      0.71      0.60        41\n",
      "                       reuben       0.48      0.55      0.51        38\n",
      "                    schnitzel       0.68      0.50      0.57        54\n",
      "                ambrosia_food       0.75      0.77      0.76        35\n",
      "                        gyoza       0.67      0.42      0.51        43\n",
      "                        jerky       0.74      0.81      0.77        53\n",
      "                      ravioli       0.53      0.33      0.40        55\n",
      "               fried_calamari       0.81      0.81      0.81        64\n",
      "          spaghetti_carbonara       0.75      0.44      0.56        54\n",
      "                    miso_soup       0.54      0.64      0.59        53\n",
      "                frozen_yogurt       0.80      0.71      0.75        49\n",
      "                       wonton       0.62      0.65      0.63        48\n",
      "                  panna_cotta       0.60      0.61      0.61        59\n",
      "                 french_toast       0.53      0.52      0.53        48\n",
      "                    enchilada       0.26      0.35      0.30        40\n",
      "                      ceviche       0.73      0.44      0.55        50\n",
      "                   fettuccine       0.56      0.49      0.52        59\n",
      "                        chili       0.62      0.46      0.52        35\n",
      "                         flan       0.76      0.70      0.73        46\n",
      "                        kabob       0.61      0.63      0.62        43\n",
      "                  sponge_cake       0.33      0.21      0.26        42\n",
      "                    casserole       0.32      0.22      0.26        50\n",
      "                       paella       0.73      0.71      0.72        62\n",
      "                   blancmange       0.45      0.23      0.30        22\n",
      "                   bruschetta       0.63      0.73      0.68        56\n",
      "                   tortellini       0.54      0.53      0.53        55\n",
      "               grilled_salmon       0.57      0.67      0.61        45\n",
      "                 french_fries       0.64      0.86      0.74        57\n",
      "             shrimp_and_grits       0.79      0.62      0.69        60\n",
      "                       churro       0.50      0.73      0.59        51\n",
      "                        donut       0.79      0.61      0.69        36\n",
      "               meat_loaf_food       0.55      0.58      0.56        52\n",
      "                     meatball       0.50      0.56      0.53        52\n",
      "                     scrapple       0.52      0.42      0.47        26\n",
      "                      strudel       0.73      0.56      0.64        64\n",
      "                 coconut_cake       0.71      0.69      0.70        49\n",
      "                  marble_cake       1.00      0.02      0.04        49\n",
      "                 filet_mignon       0.52      0.39      0.45        33\n",
      "                    hamburger       0.60      0.81      0.69        37\n",
      "                    fried_egg       0.50      0.64      0.56        36\n",
      "                 tuna_tartare       0.74      0.65      0.70        49\n",
      "                        penne       0.45      0.42      0.44        59\n",
      "                eggs_benedict       0.69      0.82      0.75        65\n",
      "                bread_pudding       0.39      0.38      0.39        47\n",
      "                     takoyaki       0.80      0.80      0.80        35\n",
      "                   tenderloin       0.53      0.53      0.53        51\n",
      "             chocolate_mousse       0.64      0.66      0.65        56\n",
      "                 baked_alaska       0.81      0.81      0.81        53\n",
      "                      hot_dog       0.83      0.79      0.81        43\n",
      "                       confit       0.37      0.54      0.44        37\n",
      "                 ham_and_eggs       0.31      0.24      0.27        42\n",
      "                      biryani       0.78      0.72      0.75        64\n",
      "                  greek_salad       0.78      0.52      0.63        61\n",
      "             huevos_rancheros       0.60      0.58      0.59        53\n",
      "                  tagliatelle       0.44      0.29      0.35        42\n",
      "              stuffed_peppers       0.82      0.74      0.78        43\n",
      "                   cannelloni       0.43      0.51      0.47        57\n",
      "                        pizza       0.78      0.75      0.77        48\n",
      "                 sausage_roll       0.70      0.72      0.71        58\n",
      "           chicken_quesadilla       0.75      0.78      0.77        51\n",
      "            hot_and_sour_soup       0.55      0.43      0.48        51\n",
      "                    prime_rib       0.66      0.64      0.65        39\n",
      "                   cheesecake       0.57      0.71      0.63        55\n",
      "                  limpet_food       0.21      0.44      0.29         9\n",
      "                         ziti       0.33      0.47      0.39        51\n",
      "                       mussel       0.64      0.94      0.76        34\n",
      "                    manicotti       0.58      0.41      0.48        46\n",
      "                    ice_cream       0.61      0.62      0.62        48\n",
      "                       waffle       0.86      0.73      0.79        44\n",
      "                       oyster       0.59      0.54      0.56        41\n",
      "                     omelette       0.73      0.67      0.70        55\n",
      "                    clam_food       0.37      0.30      0.33        37\n",
      "                      burrito       0.73      0.82      0.78        40\n",
      "                      roulade       0.72      0.50      0.59        56\n",
      "               lobster_bisque       0.75      0.66      0.70        50\n",
      "      grilled_cheese_sandwich       0.65      0.71      0.68        69\n",
      "                         gyro       0.68      0.60      0.64        35\n",
      "                   pound_cake       0.49      0.44      0.46        55\n",
      "                          pho       0.80      0.68      0.74        57\n",
      "        lobster_roll_sandwich       0.82      0.57      0.68        47\n",
      "                baby_back_rib       0.49      0.62      0.55        47\n",
      "                     tapenade       0.44      0.60      0.51        47\n",
      "                 pepper_steak       0.67      0.43      0.52        47\n",
      "                welsh_rarebit       0.67      0.39      0.49        41\n",
      "                        pilaf       0.32      0.38      0.35        50\n",
      "                       dolmas       0.73      0.76      0.74        42\n",
      "      coquilles_saint_jacques       0.45      0.40      0.42        52\n",
      "             veal_cordon_bleu       0.30      0.26      0.28        23\n",
      "                  shirred_egg       0.55      0.50      0.53        42\n",
      "               barbecued_wing       0.37      0.56      0.45        34\n",
      "            lobster_thermidor       0.79      0.48      0.59        46\n",
      "              steak_au_poivre       0.41      0.52      0.46        50\n",
      "                       huitre       0.40      0.57      0.47        30\n",
      "                 chiffon_cake       0.50      0.51      0.50        57\n",
      "                  profiterole       0.79      0.72      0.75        53\n",
      "             toad_in_the_hole       0.76      0.61      0.67        46\n",
      "              chicken_marengo       0.66      0.45      0.53        47\n",
      "            victoria_sandwich       0.44      0.74      0.55        42\n",
      "                   tamale_pie       0.62      0.45      0.52        58\n",
      "             boston_cream_pie       0.76      0.79      0.78        53\n",
      "                   fish_stick       0.67      0.80      0.73        54\n",
      "                   crumb_cake       0.48      0.45      0.47        53\n",
      "           chicken_provencale       0.29      0.19      0.23        42\n",
      "                  vol_au_vent       0.69      0.65      0.67        57\n",
      "                    entrecote       0.50      0.43      0.46        35\n",
      "          carbonnade_flamande       0.33      0.51      0.40        43\n",
      "bacon_lettuce_tomato_sandwich       0.49      0.44      0.47        54\n",
      "                   scotch_egg       0.75      0.79      0.77        58\n",
      "                       pirogi       0.66      0.53      0.59        47\n",
      "                  peach_melba       0.39      0.58      0.46        33\n",
      "             upside_down_cake       0.75      0.88      0.81        57\n",
      "              applesauce_cake       0.27      0.40      0.32        40\n",
      "                      rugulah       0.25      0.09      0.13        11\n",
      "                    rock_cake       0.60      0.71      0.65        17\n",
      "          barbecued_spareribs       0.41      0.38      0.39        34\n",
      "           beef_bourguignonne       0.53      0.79      0.63        63\n",
      "                      rissole       0.41      0.28      0.33        46\n",
      "                  mostaccioli       0.00      0.00      0.00        36\n",
      "               apple_turnover       0.50      0.47      0.48        43\n",
      "                   matzo_ball       0.75      0.84      0.79        61\n",
      "          chicken_cordon_bleu       0.66      0.43      0.52        54\n",
      "                  eccles_cake       0.74      0.58      0.65        43\n",
      "              moo_goo_gai_pan       0.77      0.63      0.69        59\n",
      "                 buffalo_wing       0.71      0.62      0.66        47\n",
      "               stuffed_tomato       0.78      0.92      0.84        50\n",
      "\n",
      "                     accuracy                           0.60     11994\n",
      "                    macro avg       0.60      0.58      0.58     11994\n",
      "                 weighted avg       0.61      0.60      0.59     11994\n"
     ]
    }
   ],
   "source": [
    "from sklearn.metrics import classification_report\n",
    "\n",
    "print(classification_report(ordered_y, predictions_logit, target_names=class_labels))"
   ]
  },
  {
   "cell_type": "code",
   "execution_count": 8,
   "id": "ea61fecc4d5d5fb9",
   "metadata": {
    "ExecuteTime": {
     "end_time": "2024-01-15T10:09:58.706506286Z",
     "start_time": "2024-01-15T10:09:58.634984397Z"
    },
    "collapsed": false
   },
   "outputs": [],
   "source": [
    "import os\n",
    "import pandas as pd\n",
    "os.makedirs(\"predictions\", exist_ok=True)\n",
    "\n",
    "pred_file = \"predictions/efficientnet_v2_extended_standard\"\n",
    "np.save(pred_file, predictions)\n",
    "df = pd.DataFrame({\n",
    "    'filename': names\n",
    "})\n",
    "df.to_csv(pred_file + \"_names.csv\")"
   ]
  },
  {
   "cell_type": "code",
   "execution_count": 9,
   "id": "b8510ef0",
   "metadata": {
    "ExecuteTime": {
     "end_time": "2024-01-15T10:09:59.774054032Z",
     "start_time": "2024-01-15T10:09:59.768391415Z"
    }
   },
   "outputs": [],
   "source": [
    "def top_k(k = 1):\n",
    "    ohe = keras.utils.to_categorical(ordered_y, num_classes=251)\n",
    "    m = keras.metrics.TopKCategoricalAccuracy(k)\n",
    "    ordered_pred = predictions[ordered_indices]\n",
    "    m.update_state(ohe, ordered_pred)\n",
    "    return m.result().numpy()"
   ]
  },
  {
   "cell_type": "code",
   "execution_count": 10,
   "id": "f2d3c1ef",
   "metadata": {
    "ExecuteTime": {
     "end_time": "2024-01-15T10:10:00.589879742Z",
     "start_time": "2024-01-15T10:10:00.350815753Z"
    }
   },
   "outputs": [
    {
     "data": {
      "text/plain": [
       "0.59629816"
      ]
     },
     "execution_count": 10,
     "metadata": {},
     "output_type": "execute_result"
    }
   ],
   "source": [
    "top_k(1)"
   ]
  },
  {
   "cell_type": "code",
   "execution_count": 11,
   "id": "af208cc4",
   "metadata": {
    "ExecuteTime": {
     "end_time": "2024-01-15T10:10:01.479743399Z",
     "start_time": "2024-01-15T10:10:01.418056597Z"
    }
   },
   "outputs": [
    {
     "data": {
      "text/plain": [
       "0.7874771"
      ]
     },
     "execution_count": 11,
     "metadata": {},
     "output_type": "execute_result"
    }
   ],
   "source": [
    "top_k(3)"
   ]
  }
 ],
 "metadata": {
  "kernelspec": {
   "display_name": "Python 3",
   "language": "python",
   "name": "python3"
  },
  "language_info": {
   "codemirror_mode": {
    "name": "ipython",
    "version": 3
   },
   "file_extension": ".py",
   "mimetype": "text/x-python",
   "name": "python",
   "nbconvert_exporter": "python",
   "pygments_lexer": "ipython3",
   "version": "3.11.2"
  }
 },
 "nbformat": 4,
 "nbformat_minor": 5
}
