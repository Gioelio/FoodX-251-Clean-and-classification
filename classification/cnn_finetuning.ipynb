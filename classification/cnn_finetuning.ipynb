{
 "cells": [
  {
   "cell_type": "code",
   "execution_count": null,
   "id": "initial_id",
   "metadata": {
    "collapsed": true
   },
   "outputs": [],
   "source": [
    "from misc import load, load_class_labels\n",
    "\n",
    "dataset_root = \"./dataset/\"\n",
    "\n",
    "train_dir = dataset_root + \"train_set/\"\n",
    "val_dir = dataset_root + \"val_set/\"\n",
    "val_degraded_dir = dataset_root + \"val_set_degraded/\"\n",
    "\n",
    "sample_rate = 1\n",
    "train_info = load(dataset_root + 'labels/train_info_cleaned.csv', 1, sample_rate)\n",
    "test_info = load(dataset_root + 'labels/test.csv')\n",
    "val_info = load(dataset_root + 'labels/val_info_cleaned.csv')\n",
    "\n",
    "train_image_names = train_info.iloc[:, 0].values\n",
    "val_image_names = val_info.iloc[:, 0].values\n",
    "test_image_names = test_info.iloc[:, 0].values\n",
    "\n",
    "train_labels = train_info.iloc[:, 1].values\n",
    "val_labels = val_info.iloc[:, 1].values\n",
    "test_labels = test_info.iloc[:, 1].values\n",
    "\n",
    "class_labels = load_class_labels(dataset_root + 'classes.txt')"
   ]
  },
  {
   "cell_type": "code",
   "outputs": [],
   "source": [
    "from cnn_classification import build_finetune_network, train_network\n",
    "from tensorflow import keras\n",
    "from keras.applications.efficientnet_v2 import EfficientNetV2B0, preprocess_input\n",
    "\n",
    "extension = keras.Sequential([\n",
    "    keras.layers.Flatten(),\n",
    "    keras.layers.Dense(251, activation='softmax')])\n",
    "\n",
    "loss = 'categorical_crossentropy'\n",
    "optimizer = 'adam'\n",
    "metrics = ['accuracy']\n",
    "\n",
    "cut_layer = 'top_dropout'\n",
    "non_trainable_cut_layer = 'block5e_add'\n",
    "\n",
    "extended_model = build_finetune_network(EfficientNetV2B0, extension, cut_layer,\n",
    "                                        optimizer, metrics, loss, non_trainable_cut_layer=non_trainable_cut_layer)\n",
    "#train_network(extended_model, train_info, val_info, train_dir, epochs=10, augment=True, batch_size=64)"
   ],
   "metadata": {
    "collapsed": false
   },
   "id": "adb0f2e7a1869bd2",
   "execution_count": null
  },
  {
   "cell_type": "code",
   "outputs": [],
   "source": [
    "EfficientNetV2B0().summary()"
   ],
   "metadata": {
    "collapsed": false
   },
   "id": "72eece735793fcb2",
   "execution_count": null
  },
  {
   "cell_type": "code",
   "outputs": [],
   "source": [
    "extended_model.summary()"
   ],
   "metadata": {
    "collapsed": false
   },
   "id": "59adbe237373764e",
   "execution_count": null
  },
  {
   "cell_type": "code",
   "outputs": [],
   "source": [
    "extended_model.save('./finetune_network/model')\n",
    "from tensorflow import keras\n",
    "keras.applications.EfficientNetV2B0().summary()"
   ],
   "metadata": {
    "collapsed": false
   },
   "id": "f2023563f26dd697",
   "execution_count": null
  },
  {
   "cell_type": "code",
   "outputs": [],
   "source": [
    "from tensorflow import keras\n",
    "from cnn_classification import train_network\n",
    "import gc\n",
    "\n",
    "path = './efficientnet_noise'\n",
    "for i in range(20):\n",
    "    extended_model = keras.models.load_model(path)\n",
    "    train_network(extended_model, train_info, val_info, train_dir, epochs=1, augment=True, batch_size=64, preprocess_input=preprocess_input)\n",
    "    extended_model.save(path)\n",
    "    del extended_model\n",
    "    gc.collect()\n",
    "    keras.backend.clear_session()"
   ],
   "metadata": {
    "collapsed": false,
    "is_executing": true
   },
   "id": "29bb068ba35f0536",
   "execution_count": null
  },
  {
   "cell_type": "code",
   "outputs": [],
   "source": [
    "from tensorflow import keras\n",
    "from cnn_classification import evaluate_model, predict\n",
    "\n",
    "model = keras.models.load_model(path)\n",
    "predictions = predict(model, test_info, val_degraded_dir, 64, preprocess_input=preprocess_input)"
   ],
   "metadata": {
    "collapsed": false
   },
   "id": "482a20b47c18bdcc",
   "execution_count": null
  },
  {
   "cell_type": "code",
   "outputs": [],
   "source": [
    "from sklearn.metrics import confusion_matrix, ConfusionMatrixDisplay\n",
    "import matplotlib.pyplot as plt\n",
    "import numpy as np\n",
    "from tensorflow import keras\n",
    "\n",
    "num_pred = []\n",
    "for p in predictions:\n",
    "    num_pred.append(np.argmax(p))\n",
    "print(len(predictions), len(test_labels))\n",
    "lab = np.array(test_labels)[0:11968]\n",
    "cm = confusion_matrix(lab, num_pred)\n",
    "disp = ConfusionMatrixDisplay(cm)\n",
    "disp.plot()\n",
    "plt.show()"
   ],
   "metadata": {
    "collapsed": false
   },
   "id": "9c5d399c68c623d0",
   "execution_count": null
  },
  {
   "cell_type": "code",
   "outputs": [],
   "source": [
    "cm"
   ],
   "metadata": {
    "collapsed": false
   },
   "id": "d05e879bce6db92f",
   "execution_count": null
  },
  {
   "cell_type": "code",
   "outputs": [],
   "source": [
    "cm.diagonal().sum() / cm.sum()"
   ],
   "metadata": {
    "collapsed": false
   },
   "id": "22f7c7b4fe4c10c9",
   "execution_count": null
  },
  {
   "cell_type": "code",
   "outputs": [],
   "source": [],
   "metadata": {
    "collapsed": false
   },
   "id": "7a20012da7279711"
  }
 ],
 "metadata": {
  "kernelspec": {
   "display_name": "Python 3",
   "language": "python",
   "name": "python3"
  },
  "language_info": {
   "codemirror_mode": {
    "name": "ipython",
    "version": 2
   },
   "file_extension": ".py",
   "mimetype": "text/x-python",
   "name": "python",
   "nbconvert_exporter": "python",
   "pygments_lexer": "ipython2",
   "version": "2.7.6"
  }
 },
 "nbformat": 4,
 "nbformat_minor": 5
}
