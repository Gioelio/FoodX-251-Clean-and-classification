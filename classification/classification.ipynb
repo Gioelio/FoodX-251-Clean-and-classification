{
 "cells": [
  {
   "cell_type": "code",
   "execution_count": 1,
   "metadata": {},
   "outputs": [],
   "source": [
    "from misc import load, load_class_labels\n",
    "\n",
    "dataset_root = \"./dataset/\"\n",
    "\n",
    "train_dir = dataset_root + \"train_set/\"\n",
    "val_dir = dataset_root + \"val_set/\"\n",
    "val_degraded_dir = dataset_root + \"val_set_degraded/\"\n",
    "\n",
    "sample_rate = 1\n",
    "train_info = load(dataset_root + 'train_info_cleaned.csv', 1, sample_rate)\n",
    "val_info = load(dataset_root + 'val_info.csv')\n",
    "\n",
    "train_image_names = train_info.iloc[:, 0].values\n",
    "val_image_names = val_info.iloc[:, 0].values\n",
    "\n",
    "train_labels = train_info.iloc[:, 1].values\n",
    "val_labels = val_info.iloc[:, 1].values\n",
    "\n",
    "class_labels = load_class_labels(dataset_root + 'classes.txt')"
   ]
  },
  {
   "cell_type": "code",
   "execution_count": 2,
   "metadata": {},
   "outputs": [],
   "source": [
    "index = 0"
   ]
  },
  {
   "cell_type": "markdown",
   "metadata": {},
   "source": [
    "## Generate augmented samples"
   ]
  },
  {
   "cell_type": "code",
   "execution_count": 4,
   "metadata": {},
   "outputs": [],
   "source": [
    "from misc import apply_data_augmentation;\n",
    "from data_loader import data_loader;\n",
    "import cv2 as cv\n",
    "\n",
    "dl = data_loader(train_info, train_dir, 50, (224, 224));\n",
    "\n",
    "images, labels, filenames = dl.get_batch(index);\n",
    "\n",
    "images_aug = apply_data_augmentation(images)\n",
    "\n",
    "for image, filename in zip(images_aug, filenames):\n",
    "    image = cv.cvtColor(image, cv.COLOR_RGB2BGR);\n",
    "    #cv.imwrite('./dataset/aug_test/' + filename, image)\n",
    "\n",
    "index = index + 1;\n"
   ]
  },
  {
   "cell_type": "markdown",
   "metadata": {},
   "source": [
    "## Classification using handcrafted features"
   ]
  },
  {
   "cell_type": "code",
   "execution_count": null,
   "metadata": {},
   "outputs": [],
   "source": [
    "from handcrafted import extract_features\n",
    "\n"
   ]
  }
 ],
 "metadata": {
  "kernelspec": {
   "display_name": ".venv",
   "language": "python",
   "name": "python3"
  },
  "language_info": {
   "codemirror_mode": {
    "name": "ipython",
    "version": 3
   },
   "file_extension": ".py",
   "mimetype": "text/x-python",
   "name": "python",
   "nbconvert_exporter": "python",
   "pygments_lexer": "ipython3",
   "version": "3.11.2"
  }
 },
 "nbformat": 4,
 "nbformat_minor": 2
}
