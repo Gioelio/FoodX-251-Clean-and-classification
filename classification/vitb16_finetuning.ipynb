{
 "cells": [
  {
   "cell_type": "code",
   "execution_count": 1,
   "id": "initial_id",
   "metadata": {
    "collapsed": true,
    "ExecuteTime": {
     "end_time": "2024-01-15T16:22:48.350351612Z",
     "start_time": "2024-01-15T16:22:44.122062333Z"
    }
   },
   "outputs": [
    {
     "name": "stderr",
     "output_type": "stream",
     "text": [
      "2024-01-15 17:22:45.958016: E external/local_xla/xla/stream_executor/cuda/cuda_dnn.cc:9261] Unable to register cuDNN factory: Attempting to register factory for plugin cuDNN when one has already been registered\n",
      "2024-01-15 17:22:45.958071: E external/local_xla/xla/stream_executor/cuda/cuda_fft.cc:607] Unable to register cuFFT factory: Attempting to register factory for plugin cuFFT when one has already been registered\n",
      "2024-01-15 17:22:46.012833: E external/local_xla/xla/stream_executor/cuda/cuda_blas.cc:1515] Unable to register cuBLAS factory: Attempting to register factory for plugin cuBLAS when one has already been registered\n",
      "2024-01-15 17:22:46.125022: I tensorflow/core/platform/cpu_feature_guard.cc:182] This TensorFlow binary is optimized to use available CPU instructions in performance-critical operations.\n",
      "To enable the following instructions: AVX2 FMA, in other operations, rebuild TensorFlow with the appropriate compiler flags.\n",
      "2024-01-15 17:22:47.160590: W tensorflow/compiler/tf2tensorrt/utils/py_utils.cc:38] TF-TRT Warning: Could not find TensorRT\n"
     ]
    }
   ],
   "source": [
    "import sys\n",
    "sys.path.append('..')\n",
    "\n",
    "from misc import load, load_class_labels\n",
    "\n",
    "dataset_root = \"../dataset/\"\n",
    "\n",
    "train_dir = dataset_root + \"train_set/\"\n",
    "val_dir = dataset_root + \"val_set/\"\n",
    "val_degraded_dir = dataset_root + \"val_set_degraded/\"\n",
    "val_restored_dir = dataset_root + \"val_set_restored/\"\n",
    "val_preprocessed_dir = dataset_root + \"val_set_preprocessed/\"\n",
    "\n",
    "sample_rate = 1\n",
    "train_info = load(dataset_root + 'labels/train_info_cleaned.csv', 1, sample_rate)\n",
    "test_info = load(dataset_root + 'labels/test.csv')\n",
    "val_info = load(dataset_root + 'labels/validation.csv')\n",
    "\n",
    "train_image_names = train_info.iloc[:, 0].values\n",
    "val_image_names = val_info.iloc[:, 0].values\n",
    "test_image_names = test_info.iloc[:, 0].values\n",
    "\n",
    "train_labels = train_info.iloc[:, 1].values\n",
    "val_labels = val_info.iloc[:, 1].values\n",
    "test_labels = test_info.iloc[:, 1].values\n",
    "\n",
    "class_labels = load_class_labels(dataset_root + 'classes.txt')"
   ]
  },
  {
   "cell_type": "code",
   "execution_count": 2,
   "id": "870af5e1e265a1c7",
   "metadata": {
    "collapsed": false,
    "ExecuteTime": {
     "end_time": "2024-01-15T16:22:48.360302129Z",
     "start_time": "2024-01-15T16:22:48.349951203Z"
    }
   },
   "outputs": [],
   "source": [
    "from cnn_classification import build_finetune_network, train_network\n",
    "from tensorflow import keras\n",
    "from keras.applications.efficientnet_v2 import EfficientNetV2B0, preprocess_input\n",
    "\n",
    "save_path = \"./tuned_models/ViTb16_noise_extended\""
   ]
  },
  {
   "cell_type": "code",
   "execution_count": null,
   "id": "adb0f2e7a1869bd2",
   "metadata": {
    "ExecuteTime": {
     "end_time": "2024-01-01T18:04:26.099745399Z",
     "start_time": "2024-01-01T15:34:34.440532148Z"
    },
    "collapsed": false
   },
   "outputs": [],
   "source": [
    "extension = keras.Sequential([\n",
    "    keras.layers.Flatten(),\n",
    "    keras.layers.Dense(251, activation='softmax')])\n",
    "\n",
    "loss = 'categorical_crossentropy'\n",
    "optimizer = 'adam'\n",
    "metrics = ['accuracy', keras.metrics.TopKCategoricalAccuracy(3)]\n",
    "\n",
    "cut_layer = 'ExtractToken'\n",
    "non_trainable_cut_layer = 'Transformer/encoderblock_11'\n",
    "\n",
    "extended_model = build_finetune_network(lambda: vit.vit_b16(pretrained=True), extension, cut_layer,\n",
    "                                        optimizer, metrics, loss, non_trainable_cut_layer=non_trainable_cut_layer)"
   ]
  },
  {
   "cell_type": "code",
   "execution_count": null,
   "id": "afd8cd90",
   "metadata": {},
   "outputs": [],
   "source": [
    "train_loss, train_accuracy, val_loss, val_accuracy = train_network(extended_model,\n",
    "                                                                   save_path,\n",
    "                                                                   train_info,\n",
    "                                                                   val_info,\n",
    "                                                                   train_dir,\n",
    "                                                                   epochs=10,\n",
    "                                                                   augment=True,\n",
    "                                                                   strong_augment=False,\n",
    "                                                                   batch_size=64,\n",
    "                                                                   preprocess_input=preprocess_input)"
   ]
  },
  {
   "cell_type": "code",
   "execution_count": 3,
   "id": "482a20b47c18bdcc",
   "metadata": {
    "collapsed": false,
    "ExecuteTime": {
     "end_time": "2024-01-15T16:23:04.465105459Z",
     "start_time": "2024-01-15T16:22:53.258867747Z"
    }
   },
   "outputs": [
    {
     "name": "stderr",
     "output_type": "stream",
     "text": [
      "/home/gabriele/PycharmProjects/Visual/.venv/lib/python3.11/site-packages/tensorflow_addons/utils/tfa_eol_msg.py:23: UserWarning: \n",
      "\n",
      "TensorFlow Addons (TFA) has ended development and introduction of new features.\n",
      "TFA has entered a minimal maintenance and release mode until a planned end of life in May 2024.\n",
      "Please modify downstream libraries to take dependencies from other repositories in our TensorFlow community (e.g. Keras, Keras-CV, and Keras-NLP). \n",
      "\n",
      "For more information see: https://github.com/tensorflow/addons/issues/2807 \n",
      "\n",
      "  warnings.warn(\n",
      "2024-01-15 17:22:54.097662: I external/local_xla/xla/stream_executor/cuda/cuda_executor.cc:901] successful NUMA node read from SysFS had negative value (-1), but there must be at least one NUMA node, so returning NUMA node zero. See more at https://github.com/torvalds/linux/blob/v6.0/Documentation/ABI/testing/sysfs-bus-pci#L344-L355\n",
      "2024-01-15 17:22:54.293139: I external/local_xla/xla/stream_executor/cuda/cuda_executor.cc:901] successful NUMA node read from SysFS had negative value (-1), but there must be at least one NUMA node, so returning NUMA node zero. See more at https://github.com/torvalds/linux/blob/v6.0/Documentation/ABI/testing/sysfs-bus-pci#L344-L355\n",
      "2024-01-15 17:22:54.293364: I external/local_xla/xla/stream_executor/cuda/cuda_executor.cc:901] successful NUMA node read from SysFS had negative value (-1), but there must be at least one NUMA node, so returning NUMA node zero. See more at https://github.com/torvalds/linux/blob/v6.0/Documentation/ABI/testing/sysfs-bus-pci#L344-L355\n",
      "2024-01-15 17:22:54.295851: I external/local_xla/xla/stream_executor/cuda/cuda_executor.cc:901] successful NUMA node read from SysFS had negative value (-1), but there must be at least one NUMA node, so returning NUMA node zero. See more at https://github.com/torvalds/linux/blob/v6.0/Documentation/ABI/testing/sysfs-bus-pci#L344-L355\n",
      "2024-01-15 17:22:54.296074: I external/local_xla/xla/stream_executor/cuda/cuda_executor.cc:901] successful NUMA node read from SysFS had negative value (-1), but there must be at least one NUMA node, so returning NUMA node zero. See more at https://github.com/torvalds/linux/blob/v6.0/Documentation/ABI/testing/sysfs-bus-pci#L344-L355\n",
      "2024-01-15 17:22:54.296228: I external/local_xla/xla/stream_executor/cuda/cuda_executor.cc:901] successful NUMA node read from SysFS had negative value (-1), but there must be at least one NUMA node, so returning NUMA node zero. See more at https://github.com/torvalds/linux/blob/v6.0/Documentation/ABI/testing/sysfs-bus-pci#L344-L355\n",
      "2024-01-15 17:22:55.991657: I external/local_xla/xla/stream_executor/cuda/cuda_executor.cc:901] successful NUMA node read from SysFS had negative value (-1), but there must be at least one NUMA node, so returning NUMA node zero. See more at https://github.com/torvalds/linux/blob/v6.0/Documentation/ABI/testing/sysfs-bus-pci#L344-L355\n",
      "2024-01-15 17:22:55.991904: I external/local_xla/xla/stream_executor/cuda/cuda_executor.cc:901] successful NUMA node read from SysFS had negative value (-1), but there must be at least one NUMA node, so returning NUMA node zero. See more at https://github.com/torvalds/linux/blob/v6.0/Documentation/ABI/testing/sysfs-bus-pci#L344-L355\n",
      "2024-01-15 17:22:55.992083: I external/local_xla/xla/stream_executor/cuda/cuda_executor.cc:901] successful NUMA node read from SysFS had negative value (-1), but there must be at least one NUMA node, so returning NUMA node zero. See more at https://github.com/torvalds/linux/blob/v6.0/Documentation/ABI/testing/sysfs-bus-pci#L344-L355\n",
      "2024-01-15 17:22:55.992208: I tensorflow/core/common_runtime/gpu/gpu_device.cc:1929] Created device /job:localhost/replica:0/task:0/device:GPU:0 with 2988 MB memory:  -> device: 0, name: NVIDIA GeForce GTX 980, pci bus id: 0000:05:00.0, compute capability: 5.2\n"
     ]
    }
   ],
   "source": [
    "from tensorflow import keras\n",
    "from cnn_classification import evaluate_model, predict\n",
    "from vit_keras import vit\n",
    "\n",
    "model = keras.models.load_model(save_path)"
   ]
  },
  {
   "cell_type": "code",
   "outputs": [
    {
     "name": "stderr",
     "output_type": "stream",
     "text": [
      "2024-01-15 17:23:20.375933: W external/local_tsl/tsl/framework/cpu_allocator_impl.cc:83] Allocation of 77070336 exceeds 10% of free system memory.\n",
      "2024-01-15 17:23:20.521478: W external/local_tsl/tsl/framework/cpu_allocator_impl.cc:83] Allocation of 77070336 exceeds 10% of free system memory.\n",
      "2024-01-15 17:23:23.692051: I external/local_xla/xla/stream_executor/cuda/cuda_dnn.cc:454] Loaded cuDNN version 8902\n"
     ]
    },
    {
     "name": "stdout",
     "output_type": "stream",
     "text": [
      "4/4 [==============================] - 9s 579ms/step\n",
      "1/4 [======>.......................] - ETA: 0s"
     ]
    },
    {
     "name": "stderr",
     "output_type": "stream",
     "text": [
      "2024-01-15 17:23:30.721196: W external/local_tsl/tsl/framework/cpu_allocator_impl.cc:83] Allocation of 77070336 exceeds 10% of free system memory.\n",
      "2024-01-15 17:23:30.929946: W external/local_tsl/tsl/framework/cpu_allocator_impl.cc:83] Allocation of 77070336 exceeds 10% of free system memory.\n"
     ]
    },
    {
     "name": "stdout",
     "output_type": "stream",
     "text": [
      "4/4 [==============================] - 2s 531ms/step\n",
      "1/4 [======>.......................] - ETA: 0s"
     ]
    },
    {
     "name": "stderr",
     "output_type": "stream",
     "text": [
      "2024-01-15 17:23:34.058843: W external/local_tsl/tsl/framework/cpu_allocator_impl.cc:83] Allocation of 77070336 exceeds 10% of free system memory.\n"
     ]
    },
    {
     "name": "stdout",
     "output_type": "stream",
     "text": [
      "4/4 [==============================] - 2s 535ms/step\n",
      "4/4 [==============================] - 2s 526ms/step\n",
      "4/4 [==============================] - 2s 527ms/step\n",
      "4/4 [==============================] - 2s 526ms/step\n",
      "4/4 [==============================] - 2s 526ms/step\n",
      "4/4 [==============================] - 2s 527ms/step\n",
      "4/4 [==============================] - 2s 574ms/step\n",
      "4/4 [==============================] - 2s 518ms/step\n",
      "4/4 [==============================] - 2s 518ms/step\n",
      "4/4 [==============================] - 2s 535ms/step\n",
      "4/4 [==============================] - 2s 556ms/step\n",
      "4/4 [==============================] - 2s 519ms/step\n",
      "4/4 [==============================] - 2s 586ms/step\n",
      "4/4 [==============================] - 2s 608ms/step\n",
      "4/4 [==============================] - 2s 516ms/step\n",
      "4/4 [==============================] - 2s 516ms/step\n",
      "4/4 [==============================] - 2s 529ms/step\n",
      "4/4 [==============================] - 2s 554ms/step\n",
      "4/4 [==============================] - 2s 520ms/step\n",
      "4/4 [==============================] - 2s 516ms/step\n",
      "4/4 [==============================] - 2s 516ms/step\n",
      "4/4 [==============================] - 2s 516ms/step\n",
      "4/4 [==============================] - 2s 519ms/step\n",
      "4/4 [==============================] - 2s 516ms/step\n",
      "4/4 [==============================] - 2s 516ms/step\n",
      "4/4 [==============================] - 2s 516ms/step\n",
      "4/4 [==============================] - 2s 515ms/step\n",
      "4/4 [==============================] - 2s 515ms/step\n",
      "4/4 [==============================] - 2s 517ms/step\n",
      "4/4 [==============================] - 2s 532ms/step\n",
      "4/4 [==============================] - 2s 598ms/step\n",
      "4/4 [==============================] - 2s 579ms/step\n",
      "4/4 [==============================] - 2s 516ms/step\n",
      "4/4 [==============================] - 2s 516ms/step\n",
      "4/4 [==============================] - 2s 516ms/step\n",
      "4/4 [==============================] - 2s 516ms/step\n",
      "4/4 [==============================] - 2s 517ms/step\n",
      "4/4 [==============================] - 2s 539ms/step\n",
      "4/4 [==============================] - 2s 565ms/step\n",
      "4/4 [==============================] - 2s 620ms/step\n",
      "4/4 [==============================] - 2s 561ms/step\n",
      "4/4 [==============================] - 2s 638ms/step\n",
      "4/4 [==============================] - 2s 657ms/step\n",
      "4/4 [==============================] - 2s 595ms/step\n",
      "4/4 [==============================] - 2s 564ms/step\n",
      "4/4 [==============================] - 2s 530ms/step\n",
      "4/4 [==============================] - 2s 530ms/step\n",
      "4/4 [==============================] - 2s 558ms/step\n",
      "4/4 [==============================] - 2s 573ms/step\n",
      "4/4 [==============================] - 2s 533ms/step\n",
      "4/4 [==============================] - 2s 588ms/step\n",
      "4/4 [==============================] - 2s 587ms/step\n",
      "4/4 [==============================] - 2s 632ms/step\n",
      "4/4 [==============================] - 2s 519ms/step\n",
      "4/4 [==============================] - 2s 610ms/step\n",
      "4/4 [==============================] - 2s 515ms/step\n",
      "4/4 [==============================] - 2s 519ms/step\n",
      "4/4 [==============================] - 2s 515ms/step\n",
      "4/4 [==============================] - 2s 515ms/step\n",
      "4/4 [==============================] - 2s 524ms/step\n",
      "4/4 [==============================] - 2s 520ms/step\n",
      "4/4 [==============================] - 2s 542ms/step\n",
      "4/4 [==============================] - 2s 514ms/step\n",
      "4/4 [==============================] - 2s 525ms/step\n",
      "4/4 [==============================] - 2s 526ms/step\n",
      "4/4 [==============================] - 2s 531ms/step\n",
      "4/4 [==============================] - 2s 576ms/step\n",
      "4/4 [==============================] - 2s 516ms/step\n",
      "4/4 [==============================] - 2s 567ms/step\n",
      "4/4 [==============================] - 2s 526ms/step\n",
      "4/4 [==============================] - 2s 566ms/step\n",
      "4/4 [==============================] - 2s 529ms/step\n",
      "4/4 [==============================] - 2s 523ms/step\n",
      "4/4 [==============================] - 2s 526ms/step\n",
      "4/4 [==============================] - 2s 521ms/step\n",
      "4/4 [==============================] - 2s 541ms/step\n",
      "4/4 [==============================] - 2s 551ms/step\n",
      "4/4 [==============================] - 2s 611ms/step\n",
      "4/4 [==============================] - 2s 549ms/step\n",
      "4/4 [==============================] - 2s 529ms/step\n",
      "4/4 [==============================] - 2s 527ms/step\n",
      "4/4 [==============================] - 2s 549ms/step\n",
      "4/4 [==============================] - 2s 514ms/step\n",
      "4/4 [==============================] - 2s 514ms/step\n",
      "4/4 [==============================] - 2s 515ms/step\n",
      "4/4 [==============================] - 2s 663ms/step\n",
      "4/4 [==============================] - 2s 531ms/step\n",
      "4/4 [==============================] - 2s 514ms/step\n",
      "4/4 [==============================] - 2s 705ms/step\n",
      "4/4 [==============================] - 2s 548ms/step\n",
      "4/4 [==============================] - 2s 549ms/step\n",
      "3/3 [==============================] - 5s 829ms/step\n"
     ]
    }
   ],
   "source": [
    "predictions, names = predict(model, val_dir, 128, preprocess_input=vit.preprocess_inputs)"
   ],
   "metadata": {
    "collapsed": false,
    "ExecuteTime": {
     "end_time": "2024-01-15T16:27:55.552562639Z",
     "start_time": "2024-01-15T16:23:19.768959707Z"
    }
   },
   "id": "dfb4b05230b91be5",
   "execution_count": 4
  },
  {
   "cell_type": "code",
   "execution_count": 5,
   "id": "9c5d399c68c623d0",
   "metadata": {
    "collapsed": false,
    "ExecuteTime": {
     "end_time": "2024-01-15T16:46:01.994805514Z",
     "start_time": "2024-01-15T16:46:01.809024341Z"
    }
   },
   "outputs": [],
   "source": [
    "import numpy as np\n",
    "\n",
    "\n",
    "ordered_indices = np.argsort(names)\n",
    "predictions = np.array(predictions)\n",
    "ordered_names = np.argsort(test_image_names)\n",
    "\n",
    "predictions_logit = np.argmax(predictions[ordered_indices], axis=1)\n",
    "\n",
    "filtered_info = test_info[test_info['filename'].isin(names)]\n",
    "filtered_info.sort_values(by='filename', inplace=True)\n",
    "labels = filtered_info['label'].values\n",
    "\n",
    "ordered_y = labels"
   ]
  },
  {
   "cell_type": "code",
   "execution_count": 6,
   "id": "8b78d472b71b68e8",
   "metadata": {
    "collapsed": false,
    "ExecuteTime": {
     "end_time": "2024-01-15T16:46:12.169896797Z",
     "start_time": "2024-01-15T16:46:02.532715106Z"
    }
   },
   "outputs": [
    {
     "name": "stdout",
     "output_type": "stream",
     "text": [
      "                               precision    recall  f1-score   support\n",
      "\n",
      "                      macaron       0.82      0.89      0.85        55\n",
      "                      beignet       0.70      0.90      0.79        61\n",
      "                      cruller       0.73      0.70      0.71        53\n",
      "                  cockle_food       0.76      0.57      0.65        51\n",
      "                       samosa       0.62      0.83      0.71        41\n",
      "                     tiramisu       0.61      0.65      0.63        52\n",
      "                      tostada       0.73      0.53      0.61        57\n",
      "                     moussaka       0.53      0.61      0.57        54\n",
      "                     dumpling       0.60      0.61      0.61        49\n",
      "                      sashimi       0.63      0.78      0.70        46\n",
      "                        knish       0.67      0.50      0.57        48\n",
      "                    croquette       0.48      0.51      0.49        47\n",
      "                     couscous       0.27      0.87      0.41        45\n",
      "                     porridge       0.72      0.59      0.65        61\n",
      "              stuffed_cabbage       0.74      0.80      0.77        46\n",
      "                seaweed_salad       0.77      0.77      0.77        57\n",
      "                    chow_mein       0.67      0.63      0.65        49\n",
      "                     rigatoni       0.61      0.67      0.64        57\n",
      "                 beef_tartare       0.29      0.48      0.37        31\n",
      "                      cannoli       0.70      0.57      0.63        49\n",
      "                    foie_gras       0.42      0.33      0.37        42\n",
      "                      cupcake       0.73      0.89      0.80        53\n",
      "                    osso_buco       0.59      0.45      0.51        42\n",
      "                     pad_thai       0.69      0.64      0.67        56\n",
      "                      poutine       0.74      0.52      0.61        54\n",
      "                        ramen       0.63      0.53      0.58        58\n",
      "         pulled_pork_sandwich       0.60      0.86      0.71        57\n",
      "                     bibimbap       0.95      0.76      0.85        54\n",
      "                 chicken_kiev       0.83      0.65      0.73        54\n",
      "                    apple_pie       0.49      0.63      0.55        41\n",
      "                      risotto       0.64      0.48      0.55        52\n",
      "                    fruitcake       0.83      0.45      0.58        56\n",
      "                    chop_suey       0.39      0.41      0.40        49\n",
      "                       haggis       0.64      0.56      0.60        41\n",
      "               scrambled_eggs       0.87      0.81      0.84        67\n",
      "                     frittata       0.74      0.63      0.68        62\n",
      "                       scampi       0.78      0.45      0.57        56\n",
      "                        sushi       0.71      0.46      0.56        52\n",
      "                         orzo       0.47      0.59      0.52        56\n",
      "                      fritter       0.65      0.45      0.53        53\n",
      "                        nacho       0.46      0.51      0.49        35\n",
      "              beef_stroganoff       0.69      0.80      0.74        60\n",
      "              beef_wellington       0.87      0.85      0.86        54\n",
      "                  spring_roll       0.76      0.60      0.67        63\n",
      "                      savarin       0.53      0.66      0.59        41\n",
      "                crayfish_food       0.90      0.76      0.82        46\n",
      "                      souffle       0.75      0.65      0.70        55\n",
      "                        adobo       0.59      0.53      0.56        43\n",
      "                     streusel       0.65      0.30      0.41        56\n",
      "                  deviled_egg       0.90      0.91      0.91        58\n",
      "                     escargot       0.62      0.66      0.64        32\n",
      "                club_sandwich       0.85      0.79      0.82        57\n",
      "                  carrot_cake       0.57      0.75      0.64        52\n",
      "                      falafel       0.72      0.61      0.66        54\n",
      "                     farfalle       0.55      0.62      0.58        37\n",
      "                      terrine       0.45      0.50      0.47        50\n",
      "                  poached_egg       0.65      0.49      0.56        57\n",
      "                      gnocchi       0.51      0.55      0.53        51\n",
      "            bubble_and_squeak       0.32      0.25      0.28        44\n",
      "                     egg_roll       0.43      0.54      0.48        35\n",
      "                caprese_salad       0.86      0.72      0.78        53\n",
      "                   sauerkraut       0.59      0.78      0.67        46\n",
      "                 creme_brulee       0.74      0.60      0.67        43\n",
      "                      pavlova       0.85      0.84      0.85        49\n",
      "                       fondue       0.91      0.77      0.83        52\n",
      "                      scallop       0.38      0.12      0.19        24\n",
      "                    jambalaya       0.77      0.61      0.68        56\n",
      "                      tempura       0.79      0.63      0.70        52\n",
      "               chocolate_cake       0.59      0.53      0.56        60\n",
      "                       potpie       0.78      0.65      0.71        49\n",
      "          spaghetti_bolognese       0.62      0.75      0.68        56\n",
      "                     sukiyaki       0.69      0.61      0.65        36\n",
      "                   applesauce       0.76      0.67      0.71        39\n",
      "                      baklava       0.59      0.77      0.67        57\n",
      "              salisbury_steak       0.72      0.56      0.63        50\n",
      "                     linguine       0.30      0.52      0.38        61\n",
      "                      edamame       0.91      0.77      0.84        53\n",
      "                   coq_au_vin       0.57      0.49      0.53        57\n",
      "                       tamale       0.75      0.75      0.75        36\n",
      "          macaroni_and_cheese       0.62      0.76      0.68        50\n",
      "                     kedgeree       0.70      0.68      0.69        47\n",
      "                 garlic_bread       0.62      0.82      0.71        57\n",
      "                   beet_salad       0.75      0.87      0.81        62\n",
      "                steak_tartare       0.30      0.23      0.26        26\n",
      "                   vermicelli       0.40      0.25      0.31        40\n",
      "                         pate       0.50      0.39      0.44        38\n",
      "                      pancake       0.95      0.45      0.61        47\n",
      "                   tetrazzini       0.59      0.40      0.48        57\n",
      "                  onion_rings       0.85      0.79      0.82        58\n",
      "              red_velvet_cake       0.59      0.93      0.73        44\n",
      "                      compote       0.60      0.63      0.62        57\n",
      "                 lobster_food       0.45      0.42      0.43        43\n",
      "                chicken_curry       0.59      0.63      0.61        41\n",
      "                 chicken_wing       0.41      0.33      0.36        43\n",
      "                 caesar_salad       0.73      0.73      0.73        49\n",
      "                    succotash       0.65      0.86      0.74        50\n",
      "                       hummus       0.57      0.65      0.61        51\n",
      "               fish_and_chips       0.88      0.70      0.78        61\n",
      "                      lasagna       0.41      0.57      0.48        58\n",
      "                     lutefisk       0.71      0.71      0.71        21\n",
      "                   sloppy_joe       0.62      0.79      0.69        47\n",
      "                  gingerbread       0.49      0.78      0.60        36\n",
      "                    crab_cake       0.47      0.76      0.58        46\n",
      "                  sauerbraten       0.80      0.48      0.60        42\n",
      "                  peking_duck       0.67      0.65      0.66        40\n",
      "                    guacamole       0.71      0.73      0.72        51\n",
      "                 ham_sandwich       0.63      0.53      0.58        45\n",
      "                      crumpet       0.71      0.67      0.69        48\n",
      "                         taco       0.62      0.50      0.55        36\n",
      "         strawberry_shortcake       0.79      0.66      0.72        35\n",
      "                 clam_chowder       0.84      0.67      0.75        55\n",
      "                  cottage_pie       0.61      0.70      0.65        60\n",
      "                croque_madame       0.53      0.39      0.45        54\n",
      "            french_onion_soup       0.94      0.56      0.70        52\n",
      "               beef_carpaccio       0.75      0.75      0.75        53\n",
      "                        torte       0.33      0.45      0.38        42\n",
      "                          poi       0.00      0.00      0.00         2\n",
      "                    crab_food       0.57      0.63      0.60        27\n",
      "               bacon_and_eggs       0.47      0.40      0.43        43\n",
      "                  coffee_cake       0.31      0.30      0.30        64\n",
      "                      custard       0.35      0.36      0.36        36\n",
      "                     syllabub       0.83      0.50      0.62        48\n",
      "                    pork_chop       0.34      0.50      0.40        58\n",
      "                   fried_rice       0.51      0.58      0.54        43\n",
      "                   boiled_egg       0.76      0.89      0.82        44\n",
      "                    galantine       0.52      0.47      0.49        36\n",
      "                      brisket       0.59      0.54      0.56        41\n",
      "                       reuben       0.55      0.71      0.62        38\n",
      "                    schnitzel       0.55      0.67      0.60        54\n",
      "                ambrosia_food       0.52      0.69      0.59        35\n",
      "                        gyoza       0.55      0.56      0.55        43\n",
      "                        jerky       0.92      0.66      0.77        53\n",
      "                      ravioli       0.45      0.55      0.49        55\n",
      "               fried_calamari       0.79      0.78      0.79        64\n",
      "          spaghetti_carbonara       0.62      0.63      0.62        54\n",
      "                    miso_soup       0.49      0.72      0.58        53\n",
      "                frozen_yogurt       0.74      0.69      0.72        49\n",
      "                       wonton       0.58      0.46      0.51        48\n",
      "                  panna_cotta       0.65      0.75      0.69        59\n",
      "                 french_toast       0.53      0.56      0.55        48\n",
      "                    enchilada       0.21      0.40      0.28        40\n",
      "                      ceviche       0.74      0.52      0.61        50\n",
      "                   fettuccine       0.48      0.22      0.30        59\n",
      "                        chili       0.65      0.63      0.64        35\n",
      "                         flan       0.64      0.83      0.72        46\n",
      "                        kabob       0.76      0.72      0.74        43\n",
      "                  sponge_cake       0.19      0.17      0.18        42\n",
      "                    casserole       0.16      0.16      0.16        50\n",
      "                       paella       0.84      0.79      0.82        62\n",
      "                   blancmange       0.70      0.32      0.44        22\n",
      "                   bruschetta       0.64      0.68      0.66        56\n",
      "                   tortellini       0.73      0.40      0.52        55\n",
      "               grilled_salmon       0.57      0.69      0.63        45\n",
      "                 french_fries       0.80      0.77      0.79        57\n",
      "             shrimp_and_grits       0.83      0.72      0.77        60\n",
      "                       churro       0.67      0.71      0.69        51\n",
      "                        donut       0.66      0.58      0.62        36\n",
      "               meat_loaf_food       0.67      0.69      0.68        52\n",
      "                     meatball       0.42      0.63      0.51        52\n",
      "                     scrapple       0.45      0.58      0.51        26\n",
      "                      strudel       0.58      0.52      0.55        64\n",
      "                 coconut_cake       0.57      0.71      0.64        49\n",
      "                  marble_cake       0.67      0.12      0.21        49\n",
      "                 filet_mignon       0.37      0.39      0.38        33\n",
      "                    hamburger       0.72      0.78      0.75        37\n",
      "                    fried_egg       0.40      0.78      0.53        36\n",
      "                 tuna_tartare       0.57      0.57      0.57        49\n",
      "                        penne       0.40      0.63      0.49        59\n",
      "                eggs_benedict       0.83      0.69      0.76        65\n",
      "                bread_pudding       0.60      0.32      0.42        47\n",
      "                     takoyaki       0.80      0.57      0.67        35\n",
      "                   tenderloin       0.48      0.61      0.54        51\n",
      "             chocolate_mousse       0.69      0.66      0.67        56\n",
      "                 baked_alaska       0.94      0.94      0.94        53\n",
      "                      hot_dog       0.69      0.79      0.74        43\n",
      "                       confit       0.35      0.46      0.40        37\n",
      "                 ham_and_eggs       0.26      0.38      0.31        42\n",
      "                      biryani       0.80      0.73      0.76        64\n",
      "                  greek_salad       0.79      0.75      0.77        61\n",
      "             huevos_rancheros       0.63      0.64      0.64        53\n",
      "                  tagliatelle       0.42      0.50      0.46        42\n",
      "              stuffed_peppers       0.76      0.91      0.83        43\n",
      "                   cannelloni       0.36      0.72      0.48        57\n",
      "                        pizza       0.77      0.77      0.77        48\n",
      "                 sausage_roll       0.68      0.84      0.75        58\n",
      "           chicken_quesadilla       0.88      0.69      0.77        51\n",
      "            hot_and_sour_soup       0.58      0.65      0.61        51\n",
      "                    prime_rib       0.61      0.28      0.39        39\n",
      "                   cheesecake       0.60      0.53      0.56        55\n",
      "                  limpet_food       0.32      0.67      0.43         9\n",
      "                         ziti       0.43      0.59      0.50        51\n",
      "                       mussel       0.86      0.88      0.87        34\n",
      "                    manicotti       0.50      0.24      0.32        46\n",
      "                    ice_cream       0.57      0.48      0.52        48\n",
      "                       waffle       0.64      0.82      0.72        44\n",
      "                       oyster       0.77      0.41      0.54        41\n",
      "                     omelette       0.56      0.80      0.66        55\n",
      "                    clam_food       0.43      0.43      0.43        37\n",
      "                      burrito       0.60      0.65      0.63        40\n",
      "                      roulade       0.58      0.62      0.60        56\n",
      "               lobster_bisque       0.91      0.58      0.71        50\n",
      "      grilled_cheese_sandwich       0.85      0.80      0.82        69\n",
      "                         gyro       0.77      0.49      0.60        35\n",
      "                   pound_cake       0.43      0.55      0.48        55\n",
      "                          pho       0.73      0.61      0.67        57\n",
      "        lobster_roll_sandwich       0.78      0.60      0.67        47\n",
      "                baby_back_rib       0.42      0.68      0.52        47\n",
      "                     tapenade       0.63      0.66      0.65        47\n",
      "                 pepper_steak       0.60      0.45      0.51        47\n",
      "                welsh_rarebit       0.56      0.46      0.51        41\n",
      "                        pilaf       0.47      0.32      0.38        50\n",
      "                       dolmas       0.88      0.71      0.79        42\n",
      "      coquilles_saint_jacques       0.48      0.54      0.51        52\n",
      "             veal_cordon_bleu       0.19      0.17      0.18        23\n",
      "                  shirred_egg       0.58      0.43      0.49        42\n",
      "               barbecued_wing       0.57      0.50      0.53        34\n",
      "            lobster_thermidor       0.82      0.61      0.70        46\n",
      "              steak_au_poivre       0.61      0.38      0.47        50\n",
      "                       huitre       0.34      0.57      0.42        30\n",
      "                 chiffon_cake       0.52      0.47      0.50        57\n",
      "                  profiterole       0.62      0.81      0.70        53\n",
      "             toad_in_the_hole       0.87      0.43      0.58        46\n",
      "              chicken_marengo       0.49      0.38      0.43        47\n",
      "            victoria_sandwich       0.57      0.62      0.59        42\n",
      "                   tamale_pie       0.67      0.52      0.58        58\n",
      "             boston_cream_pie       0.68      0.83      0.75        53\n",
      "                   fish_stick       0.60      0.65      0.62        54\n",
      "                   crumb_cake       0.49      0.57      0.53        53\n",
      "           chicken_provencale       0.22      0.19      0.21        42\n",
      "                  vol_au_vent       0.60      0.65      0.62        57\n",
      "                    entrecote       0.58      0.40      0.47        35\n",
      "          carbonnade_flamande       0.72      0.30      0.43        43\n",
      "bacon_lettuce_tomato_sandwich       0.65      0.72      0.68        54\n",
      "                   scotch_egg       0.84      0.84      0.84        58\n",
      "                       pirogi       0.76      0.60      0.67        47\n",
      "                  peach_melba       0.71      0.52      0.60        33\n",
      "             upside_down_cake       0.83      0.79      0.81        57\n",
      "              applesauce_cake       0.26      0.47      0.34        40\n",
      "                      rugulah       0.33      0.36      0.35        11\n",
      "                    rock_cake       0.48      0.65      0.55        17\n",
      "          barbecued_spareribs       0.35      0.41      0.38        34\n",
      "           beef_bourguignonne       0.71      0.56      0.63        63\n",
      "                      rissole       0.31      0.41      0.35        46\n",
      "                  mostaccioli       0.17      0.14      0.15        36\n",
      "               apple_turnover       0.74      0.33      0.45        43\n",
      "                   matzo_ball       1.00      0.62      0.77        61\n",
      "          chicken_cordon_bleu       0.57      0.80      0.67        54\n",
      "                  eccles_cake       0.79      0.63      0.70        43\n",
      "              moo_goo_gai_pan       0.71      0.75      0.73        59\n",
      "                 buffalo_wing       0.66      0.62      0.64        47\n",
      "               stuffed_tomato       0.88      0.90      0.89        50\n",
      "\n",
      "                     accuracy                           0.61     11994\n",
      "                    macro avg       0.62      0.60      0.60     11994\n",
      "                 weighted avg       0.64      0.61      0.61     11994\n"
     ]
    },
    {
     "name": "stderr",
     "output_type": "stream",
     "text": [
      "/home/gabriele/PycharmProjects/Visual/.venv/lib/python3.11/site-packages/sklearn/metrics/_classification.py:1471: UndefinedMetricWarning: Precision and F-score are ill-defined and being set to 0.0 in labels with no predicted samples. Use `zero_division` parameter to control this behavior.\n",
      "  _warn_prf(average, modifier, msg_start, len(result))\n",
      "/home/gabriele/PycharmProjects/Visual/.venv/lib/python3.11/site-packages/sklearn/metrics/_classification.py:1471: UndefinedMetricWarning: Precision and F-score are ill-defined and being set to 0.0 in labels with no predicted samples. Use `zero_division` parameter to control this behavior.\n",
      "  _warn_prf(average, modifier, msg_start, len(result))\n",
      "/home/gabriele/PycharmProjects/Visual/.venv/lib/python3.11/site-packages/sklearn/metrics/_classification.py:1471: UndefinedMetricWarning: Precision and F-score are ill-defined and being set to 0.0 in labels with no predicted samples. Use `zero_division` parameter to control this behavior.\n",
      "  _warn_prf(average, modifier, msg_start, len(result))\n"
     ]
    }
   ],
   "source": [
    "from sklearn.metrics import classification_report\n",
    "\n",
    "print(classification_report(ordered_y, predictions_logit, target_names=class_labels))"
   ]
  },
  {
   "cell_type": "code",
   "outputs": [],
   "source": [
    "import os\n",
    "import pandas as pd\n",
    "os.makedirs(\"predictions\", exist_ok=True)\n",
    "\n",
    "pred_file = \"predictions/ViT_extended_standard\"\n",
    "np.save(pred_file, predictions)\n",
    "df = pd.DataFrame({\n",
    "    'filename': names\n",
    "})\n",
    "df.to_csv(pred_file + \"_names.csv\")"
   ],
   "metadata": {
    "collapsed": false,
    "ExecuteTime": {
     "end_time": "2024-01-15T12:53:29.131760072Z",
     "start_time": "2024-01-15T12:53:29.065000463Z"
    }
   },
   "id": "ca262a066eb47c69",
   "execution_count": 7
  },
  {
   "cell_type": "code",
   "execution_count": 7,
   "id": "b8510ef0",
   "metadata": {
    "ExecuteTime": {
     "end_time": "2024-01-15T16:46:20.037915890Z",
     "start_time": "2024-01-15T16:46:19.995344845Z"
    }
   },
   "outputs": [],
   "source": [
    "def top_k(k = 1):\n",
    "    ohe = keras.utils.to_categorical(ordered_y, num_classes=251)\n",
    "    m = keras.metrics.TopKCategoricalAccuracy(k)\n",
    "    ordered_pred = predictions[ordered_indices]\n",
    "    m.update_state(ohe, ordered_pred)\n",
    "    return m.result().numpy()"
   ]
  },
  {
   "cell_type": "code",
   "execution_count": 8,
   "id": "f2d3c1ef",
   "metadata": {
    "ExecuteTime": {
     "end_time": "2024-01-15T16:46:22.518896877Z",
     "start_time": "2024-01-15T16:46:22.105706491Z"
    }
   },
   "outputs": [
    {
     "data": {
      "text/plain": "0.6098049"
     },
     "execution_count": 8,
     "metadata": {},
     "output_type": "execute_result"
    }
   ],
   "source": [
    "top_k(1)"
   ]
  },
  {
   "cell_type": "code",
   "execution_count": 9,
   "id": "af208cc4",
   "metadata": {
    "ExecuteTime": {
     "end_time": "2024-01-15T16:46:22.979568330Z",
     "start_time": "2024-01-15T16:46:22.934437894Z"
    }
   },
   "outputs": [
    {
     "data": {
      "text/plain": "0.78464234"
     },
     "execution_count": 9,
     "metadata": {},
     "output_type": "execute_result"
    }
   ],
   "source": [
    "top_k(3)"
   ]
  }
 ],
 "metadata": {
  "kernelspec": {
   "display_name": "Python 3",
   "language": "python",
   "name": "python3"
  },
  "language_info": {
   "codemirror_mode": {
    "name": "ipython",
    "version": 3
   },
   "file_extension": ".py",
   "mimetype": "text/x-python",
   "name": "python",
   "nbconvert_exporter": "python",
   "pygments_lexer": "ipython3",
   "version": "3.11.2"
  }
 },
 "nbformat": 4,
 "nbformat_minor": 5
}
