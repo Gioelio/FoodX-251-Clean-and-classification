{
 "cells": [
  {
   "cell_type": "markdown",
   "metadata": {},
   "source": [
    "# Compute and store handcrafted features"
   ]
  },
  {
   "cell_type": "code",
   "execution_count": null,
   "metadata": {},
   "outputs": [],
   "source": [
    "from misc import load, load_class_labels\n",
    "from data_loader import data_loader;\n",
    "import pickle\n",
    "import numpy as np\n",
    "import bag_of_words as bow\n",
    "\n",
    "dataset_root = \"./dataset/\"\n",
    "features_dir_path = './dataset/handcrafted/'\n",
    "\n",
    "train_dir = dataset_root + \"train_set/\"\n",
    "val_dir = dataset_root + \"val_set/\"\n",
    "val_degraded_dir = dataset_root + \"val_set_degraded/\"\n",
    "\n",
    "sample_rate = 1\n",
    "train_info = load(dataset_root + 'labels/train.csv', 1, sample_rate)\n",
    "val_info = load(dataset_root + 'labels/validation.csv')\n",
    "\n",
    "train_image_names = train_info.iloc[:, 0].values\n",
    "val_image_names = val_info.iloc[:, 0].values\n",
    "\n",
    "train_labels = train_info.iloc[:, 1].values\n",
    "val_labels = val_info.iloc[:, 1].values\n",
    "y_val = val_labels\n",
    "\n",
    "class_labels = load_class_labels(dataset_root + 'classes.txt')\n",
    "\n",
    "dl = data_loader(train_info, train_dir, 400, (224, 224));\n",
    "dl_val = data_loader(val_info, train_dir, 400, (224, 224));\n"
   ]
  },
  {
   "cell_type": "code",
   "execution_count": null,
   "metadata": {},
   "outputs": [],
   "source": [
    "import numpy as np;\n",
    "from handcrafted_extraction import compute_features, store_features\n",
    "\n",
    "frac_of_train = 1\n",
    "\n",
    "sift_info = {\n",
    "    'max_number': 50,\n",
    "    'num_of_sample_kmeans': 1,\n",
    "    'voc_size': 300,\n",
    "    'max_iter': 500\n",
    "}\n",
    "\n",
    "gabor_obj = {\n",
    "    'angles': np.arange(0, np.pi, np.pi/4),\n",
    "    'lambdas': np.arange(0, 1, 0.2),\n",
    "    'gammas': [0.5]\n",
    "}\n",
    "\n",
    "color = True;\n",
    "lbp_info = [2];\n",
    "\n",
    "sampling = train_info.sample(frac=frac_of_train)\n",
    "images_names = sampling.iloc[:, 0].values\n",
    "train_labels = sampling['label'].values"
   ]
  },
  {
   "cell_type": "code",
   "execution_count": null,
   "metadata": {},
   "outputs": [],
   "source": [
    "(train_features, kmeans) = store_features(train_dir, images_names, features_dir_path, kmeans=None, sift_info=sift_info, gabor_obj=gabor_obj, color=color, lbp_info=lbp_info)"
   ]
  },
  {
   "cell_type": "code",
   "execution_count": null,
   "metadata": {},
   "outputs": [],
   "source": [
    "with open(features_dir_path + 'kmeans.pkl', \"rb\") as f:\n",
    "    kmeans = pickle.load(f);"
   ]
  },
  {
   "cell_type": "code",
   "execution_count": null,
   "metadata": {},
   "outputs": [],
   "source": [
    "\n",
    "store_features(train_dir, val_image_names, features_dir_path, kmeans=kmeans, sift_info=sift_info, gabor_obj=gabor_obj, color=color, lbp_info=lbp_info)"
   ]
  },
  {
   "cell_type": "code",
   "execution_count": null,
   "metadata": {},
   "outputs": [],
   "source": [
    "#from handcrafted_extraction import load_features\n",
    "\n",
    "#features = load_features(features_dir_path, 'sift_features', images_names)"
   ]
  },
  {
   "cell_type": "code",
   "execution_count": null,
   "metadata": {},
   "outputs": [],
   "source": [
    "#from misc import unroll_arrays\n",
    "\n",
    "#unrolled = unroll_arrays(features)"
   ]
  },
  {
   "cell_type": "code",
   "execution_count": null,
   "metadata": {},
   "outputs": [],
   "source": [
    "\"\"\"\n",
    "from bag_of_words import bow\n",
    "kmeans = bow.fit(unrolled, vocabulary_size=300, verbose=True, n_init=1)\n",
    "\n",
    "\n",
    "with opne(features_dir_path + 'kmeans.pkl', 'wb') as f:\n",
    "    pickle.dump(kmeans, f);\n",
    "    \n",
    "with opne(features_dir_path + 'kmeans_backup.pkl', 'wb') as f:\n",
    "    pickle.dump(kmeans, f);\n",
    "\"\"\""
   ]
  },
  {
   "cell_type": "code",
   "execution_count": null,
   "metadata": {},
   "outputs": [],
   "source": [
    "#bow_features = bow.predict(features);"
   ]
  },
  {
   "cell_type": "code",
   "execution_count": null,
   "metadata": {},
   "outputs": [],
   "source": [
    "#store_feature(bow_features, features_dir_path + 'bow_features', images_names)"
   ]
  }
 ],
 "metadata": {
  "kernelspec": {
   "display_name": ".venv",
   "language": "python",
   "name": "python3"
  },
  "language_info": {
   "codemirror_mode": {
    "name": "ipython",
    "version": 3
   },
   "file_extension": ".py",
   "mimetype": "text/x-python",
   "name": "python",
   "nbconvert_exporter": "python",
   "pygments_lexer": "ipython3",
   "version": "3.11.2"
  }
 },
 "nbformat": 4,
 "nbformat_minor": 2
}
